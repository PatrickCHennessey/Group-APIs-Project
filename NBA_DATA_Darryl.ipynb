{
 "cells": [
  {
   "cell_type": "code",
   "execution_count": 1,
   "metadata": {},
   "outputs": [],
   "source": [
    "import numpy as np\n",
    "import pandas as pd\n",
    "import matplotlib.pyplot as plt\n",
    "from scipy.stats import linregress\n",
    "import scipy.stats as st"
   ]
  },
  {
   "cell_type": "markdown",
   "metadata": {},
   "source": [
    "### Read In CSVs"
   ]
  },
  {
   "cell_type": "code",
   "execution_count": 2,
   "metadata": {},
   "outputs": [],
   "source": [
    "raw_combine_data=pd.read_csv('Resources/raw_combine_data.csv')\n",
    "raw_nba_data=pd.read_csv('Resources/raw_nba_data.csv')"
   ]
  },
  {
   "cell_type": "markdown",
   "metadata": {},
   "source": [
    "### Finding Duplicates"
   ]
  },
  {
   "cell_type": "code",
   "execution_count": 3,
   "metadata": {},
   "outputs": [],
   "source": [
    "nba_duplicates=raw_nba_data[raw_nba_data.duplicated(['PLAYER'])]\n",
    "combine_duplicates=raw_combine_data[raw_combine_data.duplicated(['PLAYER'])]"
   ]
  },
  {
   "cell_type": "markdown",
   "metadata": {},
   "source": [
    "### Drop Duplicates from Dataframes"
   ]
  },
  {
   "cell_type": "code",
   "execution_count": 4,
   "metadata": {},
   "outputs": [],
   "source": [
    "dropped_combine_data=raw_combine_data.drop_duplicates(subset='PLAYER',keep='first')\n",
    "dropped_nba_data=raw_nba_data.drop_duplicates(subset='PLAYER',keep='first')"
   ]
  },
  {
   "cell_type": "markdown",
   "metadata": {},
   "source": [
    "### Merge DataFrames"
   ]
  },
  {
   "cell_type": "code",
   "execution_count": 5,
   "metadata": {},
   "outputs": [],
   "source": [
    "merged_data_df=dropped_combine_data.merge(dropped_nba_data, on='PLAYER')"
   ]
  },
  {
   "cell_type": "markdown",
   "metadata": {},
   "source": [
    "### Remove Players Who Didn't Take Enough Shots to Include in Analysis"
   ]
  },
  {
   "cell_type": "code",
   "execution_count": 6,
   "metadata": {},
   "outputs": [],
   "source": [
    "merged_data_df=merged_data_df[merged_data_df['3PA']>10]\n",
    "merged_data_df=merged_data_df[merged_data_df['2PA']>10]\n",
    "merged_data_df=merged_data_df[merged_data_df['FTA']>10]"
   ]
  },
  {
   "cell_type": "markdown",
   "metadata": {},
   "source": [
    "### Drop Rows w/ Missing Wingspan & Height Data"
   ]
  },
  {
   "cell_type": "code",
   "execution_count": 6,
   "metadata": {},
   "outputs": [],
   "source": [
    "merged_data_df=merged_data_df.dropna(subset=['WINGSPAN'])\n",
    "merged_data_df=merged_data_df.dropna(subset=['HEIGHT\\xa0W/O\\xa0SHOES'])\n",
    "\n",
    "merged_data_df.reset_index(inplace=True)\n",
    "merged_data_df.drop(axis=1, labels='index', inplace=True)"
   ]
  },
  {
   "cell_type": "markdown",
   "metadata": {},
   "source": [
    "### Export as CSV"
   ]
  },
  {
   "cell_type": "code",
   "execution_count": 7,
   "metadata": {},
   "outputs": [],
   "source": [
    "merged_data_df.to_csv(\"Resources/merged_data.csv\",index=False)"
   ]
  },
  {
   "cell_type": "markdown",
   "metadata": {},
   "source": [
    "### Finding Outliers for 2PA, 3PA, FTA"
   ]
  },
  {
   "cell_type": "code",
   "execution_count": 8,
   "metadata": {},
   "outputs": [
    {
     "data": {
      "text/html": [
       "<div>\n",
       "<style scoped>\n",
       "    .dataframe tbody tr th:only-of-type {\n",
       "        vertical-align: middle;\n",
       "    }\n",
       "\n",
       "    .dataframe tbody tr th {\n",
       "        vertical-align: top;\n",
       "    }\n",
       "\n",
       "    .dataframe thead th {\n",
       "        text-align: right;\n",
       "    }\n",
       "</style>\n",
       "<table border=\"1\" class=\"dataframe\">\n",
       "  <thead>\n",
       "    <tr style=\"text-align: right;\">\n",
       "      <th></th>\n",
       "      <th>2PA</th>\n",
       "      <th>FTA</th>\n",
       "      <th>3PA</th>\n",
       "    </tr>\n",
       "  </thead>\n",
       "  <tbody>\n",
       "    <tr>\n",
       "      <th>Lower Quartile</th>\n",
       "      <td>110.5</td>\n",
       "      <td>42.5</td>\n",
       "      <td>78.5</td>\n",
       "    </tr>\n",
       "    <tr>\n",
       "      <th>Median</th>\n",
       "      <td>215</td>\n",
       "      <td>83</td>\n",
       "      <td>154</td>\n",
       "    </tr>\n",
       "    <tr>\n",
       "      <th>Upper Quartile</th>\n",
       "      <td>371.5</td>\n",
       "      <td>142.5</td>\n",
       "      <td>248</td>\n",
       "    </tr>\n",
       "    <tr>\n",
       "      <th>IQR</th>\n",
       "      <td>261</td>\n",
       "      <td>100</td>\n",
       "      <td>169.5</td>\n",
       "    </tr>\n",
       "    <tr>\n",
       "      <th>Lower Bound</th>\n",
       "      <td>-281</td>\n",
       "      <td>-107.5</td>\n",
       "      <td>-175.75</td>\n",
       "    </tr>\n",
       "    <tr>\n",
       "      <th>Upper Bound</th>\n",
       "      <td>763</td>\n",
       "      <td>292.5</td>\n",
       "      <td>502.25</td>\n",
       "    </tr>\n",
       "    <tr>\n",
       "      <th>Std</th>\n",
       "      <td>214.517</td>\n",
       "      <td>110.703</td>\n",
       "      <td>130.481</td>\n",
       "    </tr>\n",
       "  </tbody>\n",
       "</table>\n",
       "</div>"
      ],
      "text/plain": [
       "                    2PA      FTA      3PA\n",
       "Lower Quartile    110.5     42.5     78.5\n",
       "Median              215       83      154\n",
       "Upper Quartile    371.5    142.5      248\n",
       "IQR                 261      100    169.5\n",
       "Lower Bound        -281   -107.5  -175.75\n",
       "Upper Bound         763    292.5   502.25\n",
       "Std             214.517  110.703  130.481"
      ]
     },
     "execution_count": 8,
     "metadata": {},
     "output_type": "execute_result"
    }
   ],
   "source": [
    "# Calculate the IQR and quantitatively determine if there are any potential outliers and append them to a dataframe\n",
    "df=pd.DataFrame({'2PA':[\"\",\"\",\"\",\"\",\"\",\"\",\"\"],\n",
    "                 'FTA':[\"\",\"\",\"\",\"\",\"\",\"\",\"\"],\n",
    "                 '3PA':[\"\",\"\",\"\",\"\",\"\",\"\",\"\"]\n",
    "                })\n",
    "df=df.set_index(keys=[[\"Lower Quartile\",\"Median\",\"Upper Quartile\",\"IQR\",\"Lower Bound\",\"Upper Bound\",\"Std\"]]) #set index\n",
    "\n",
    "for data in df:\n",
    "    quartiles = merged_data_df[data].quantile([.25,.5,.75])\n",
    "    lowerq = quartiles[0.25]\n",
    "    median= quartiles[0.5]\n",
    "    upperq = quartiles[0.75]\n",
    "    iqr = upperq-lowerq\n",
    "    lower_bound = lowerq - (1.5*iqr)\n",
    "    upper_bound = upperq + (1.5*iqr)\n",
    "    df[data][0]=lowerq\n",
    "    df[data][1]=median\n",
    "    df[data][2]=upperq\n",
    "    df[data][3]=iqr\n",
    "    df[data][4]=lower_bound\n",
    "    df[data][5]=upper_bound\n",
    "    df[data][6]=merged_data_df[data].std()\n",
    "df"
   ]
  },
  {
   "cell_type": "markdown",
   "metadata": {},
   "source": [
    "### Wingspan Conversion to Inches"
   ]
  },
  {
   "cell_type": "code",
   "execution_count": 9,
   "metadata": {},
   "outputs": [],
   "source": [
    "wingspan = []\n",
    "wingspan_convert=[]\n",
    "\n",
    "wingspan = merged_data_df['WINGSPAN']\n",
    "wingspan_list = wingspan.tolist()\n",
    "for wingspan in wingspan_list:\n",
    "    wingspan_cleaned = wingspan.strip(\"'\").split(\"'\")\n",
    "    wingspan_convert.append((int(wingspan_cleaned[0])*12)+(float(wingspan_cleaned[1])))\n",
    "\n",
    "merged_data_df['WINGSPAN']=wingspan_convert"
   ]
  },
  {
   "cell_type": "markdown",
   "metadata": {},
   "source": [
    "### Height w/o Shoes Conversion to Inches"
   ]
  },
  {
   "cell_type": "code",
   "execution_count": 10,
   "metadata": {},
   "outputs": [],
   "source": [
    "height_wo_shoes = []\n",
    "height_wo_shoes_convert=[]\n",
    "\n",
    "height_wo_shoes = merged_data_df['HEIGHT\\xa0W/O\\xa0SHOES']\n",
    "height_wo_shoes_list = height_wo_shoes.tolist()\n",
    "height_wo_shoes_list\n",
    "for height in height_wo_shoes_list:\n",
    "    height_cleaned = str(height).strip(\" ' \").split(\"'\")\n",
    "    height_wo_shoes_convert.append((int(height_cleaned[0])*12)+(float(height_cleaned[1])))\n",
    "    \n",
    "merged_data_df['HEIGHT\\xa0W/O\\xa0SHOES']=height_wo_shoes_convert"
   ]
  },
  {
   "cell_type": "markdown",
   "metadata": {},
   "source": [
    "# Scatter Plots"
   ]
  },
  {
   "cell_type": "markdown",
   "metadata": {},
   "source": [
    "## Wingspan vs. Free Throws"
   ]
  },
  {
   "cell_type": "code",
   "execution_count": 11,
   "metadata": {},
   "outputs": [
    {
     "data": {
      "image/png": "[encoded data removed]",
      "text/plain": [
       "<Figure size 432x288 with 1 Axes>"
      ]
     },
     "metadata": {
      "needs_background": "light"
     },
     "output_type": "display_data"
    },
    {
     "name": "stdout",
     "output_type": "stream",
     "text": [
      "The line of best fit is : y = -0.01x + 1.45\n",
      "The correlation between both factors is -0.3\n"
     ]
    }
   ],
   "source": [
    "\n",
    "(slope, intercept, rvalue, pvalue, stderr) = linregress(wingspan_convert, merged_data_df['FT%'] )\n",
    "regress_values = np.array(wingspan_convert) * slope + intercept\n",
    "line_eq = \"y = \" + str(round(slope,2)) + \"x + \" + str(round(intercept,2))\n",
    "\n",
    "plt.plot(wingspan_convert,regress_values)\n",
    "plt.scatter(x=wingspan_convert, y=merged_data_df['FT%'])\n",
    "plt.ylabel('Free Throws Made (%)')\n",
    "plt.xlabel('Wingspan (inches)')\n",
    "plt.title(\"Wingspan vs FT(%)\")\n",
    "plt.show()\n",
    "print(f\"The line of best fit is : {line_eq}\")\n",
    "correlation = st.pearsonr(wingspan_convert,merged_data_df['FT%'])\n",
    "print(f\"The correlation between both factors is {round(correlation[0],2)}\")"
   ]
  },
  {
   "cell_type": "markdown",
   "metadata": {},
   "source": [
    "## Wingspan vs. 2P%"
   ]
  },
  {
   "cell_type": "code",
   "execution_count": 12,
   "metadata": {},
   "outputs": [
    {
     "data": {
      "image/png": "[encoded data removed]",
      "text/plain": [
       "<Figure size 432x288 with 1 Axes>"
      ]
     },
     "metadata": {
      "needs_background": "light"
     },
     "output_type": "display_data"
    },
    {
     "name": "stdout",
     "output_type": "stream",
     "text": [
      "The line of best fit is : y = 0.01x + 0.08\n",
      "The correlation between both factors is 0.27\n"
     ]
    }
   ],
   "source": [
    "\n",
    "(slope, intercept, rvalue, pvalue, stderr) = linregress(wingspan_convert, merged_data_df['2P%'] )\n",
    "regress_values = np.array(wingspan_convert) * slope + intercept\n",
    "line_eq = \"y = \" + str(round(slope,2)) + \"x + \" + str(round(intercept,2))\n",
    "\n",
    "plt.plot(wingspan_convert,regress_values)\n",
    "plt.scatter(x=wingspan_convert, y=merged_data_df['2P%'])\n",
    "plt.ylabel('2 Pointers Made Made (%)')\n",
    "plt.xlabel('Wingspan (inches)')\n",
    "plt.title(\"Wingspan vs 2P(%)\")\n",
    "plt.show()\n",
    "print(f\"The line of best fit is : {line_eq}\")\n",
    "correlation = st.pearsonr(wingspan_convert,merged_data_df['2P%'])\n",
    "print(f\"The correlation between both factors is {round(correlation[0],2)}\")"
   ]
  },
  {
   "cell_type": "markdown",
   "metadata": {},
   "source": [
    "## Wingspan vs. 3P%"
   ]
  },
  {
   "cell_type": "code",
   "execution_count": 13,
   "metadata": {},
   "outputs": [
    {
     "data": {
      "image/png": "[encoded data removed]",
      "text/plain": [
       "<Figure size 432x288 with 1 Axes>"
      ]
     },
     "metadata": {
      "needs_background": "light"
     },
     "output_type": "display_data"
    },
    {
     "name": "stdout",
     "output_type": "stream",
     "text": [
      "The line of best fit is : y = -0.01x + 0.76\n",
      "The correlation between both factors is -0.25\n"
     ]
    }
   ],
   "source": [
    "(slope, intercept, rvalue, pvalue, stderr) = linregress(wingspan_convert, merged_data_df['3P%'] )\n",
    "regress_values = np.array(wingspan_convert) * slope + intercept\n",
    "line_eq = \"y = \" + str(round(slope,2)) + \"x + \" + str(round(intercept,2))\n",
    "\n",
    "plt.plot(wingspan_convert,regress_values)\n",
    "plt.scatter(x=wingspan_convert, y=merged_data_df['3P%'])\n",
    "plt.ylabel('3 Pointers Made (%)')\n",
    "plt.xlabel('Wingspan (inches)')\n",
    "plt.title(\"Wingspan vs 3P(%)\")\n",
    "plt.show()\n",
    "print(f\"The line of best fit is : {line_eq}\")\n",
    "correlation = st.pearsonr(wingspan_convert,merged_data_df['3P%'])\n",
    "print(f\"The correlation between both factors is {round(correlation[0],2)}\")"
   ]
  },
  {
   "cell_type": "code",
   "execution_count": null,
   "metadata": {},
   "outputs": [],
   "source": []
  }
 ],
 "metadata": {
  "kernelspec": {
   "display_name": "Python 3",
   "language": "python",
   "name": "python3"
  },
  "language_info": {
   "codemirror_mode": {
    "name": "ipython",
    "version": 3
   },
   "file_extension": ".py",
   "mimetype": "text/x-python",
   "name": "python",
   "nbconvert_exporter": "python",
   "pygments_lexer": "ipython3",
   "version": "3.7.6"
  }
 },
 "nbformat": 4,
 "nbformat_minor": 4
}
