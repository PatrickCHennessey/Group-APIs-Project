{
 "cells": [
  {
   "cell_type": "code",
   "execution_count": 2,
   "metadata": {},
   "outputs": [],
   "source": [
    "import numpy as np\n",
    "import pandas as pd\n",
    "import matplotlib.pyplot as plt\n",
    "from scipy.stats import linregress\n",
    "import scipy.stats as st"
   ]
  },
  {
   "cell_type": "markdown",
   "metadata": {},
   "source": [
    "### Read In CSVs"
   ]
  },
  {
   "cell_type": "code",
   "execution_count": 3,
   "metadata": {},
   "outputs": [],
   "source": [
    "raw_combine_data=pd.read_csv('Resources/raw_combine_data.csv')\n",
    "raw_nba_data=pd.read_csv('Resources/raw_nba_data.csv')\n",
    "season_data_df=pd.read_csv('Resources/season_data_height.csv')"
   ]
  },
  {
   "cell_type": "markdown",
   "metadata": {},
   "source": [
    "### Finding Duplicates"
   ]
  },
  {
   "cell_type": "code",
   "execution_count": 4,
   "metadata": {},
   "outputs": [],
   "source": [
    "nba_duplicates=raw_nba_data[raw_nba_data.duplicated(['PLAYER'])]\n",
    "combine_duplicates=raw_combine_data[raw_combine_data.duplicated(['PLAYER'])]"
   ]
  },
  {
   "cell_type": "markdown",
   "metadata": {},
   "source": [
    "### Drop Duplicates from Dataframes"
   ]
  },
  {
   "cell_type": "code",
   "execution_count": 5,
   "metadata": {},
   "outputs": [],
   "source": [
    "dropped_combine_data=raw_combine_data.drop_duplicates(subset='PLAYER',keep='first')\n",
    "dropped_nba_data=raw_nba_data.drop_duplicates(subset='PLAYER',keep='first')"
   ]
  },
  {
   "cell_type": "markdown",
   "metadata": {},
   "source": [
    "### Merge DataFrames"
   ]
  },
  {
   "cell_type": "code",
   "execution_count": 6,
   "metadata": {},
   "outputs": [],
   "source": [
    "merged_data_df=dropped_combine_data.merge(dropped_nba_data, on='PLAYER')"
   ]
  },
  {
   "cell_type": "markdown",
   "metadata": {},
   "source": [
    "### Remove Players Who Didn't Take Enough Shots to Include in Analysis"
   ]
  },
  {
   "cell_type": "code",
   "execution_count": 7,
   "metadata": {},
   "outputs": [],
   "source": [
    "merged_data_df=merged_data_df[merged_data_df['3PA']>10]\n",
    "merged_data_df=merged_data_df[merged_data_df['2PA']>10]\n",
    "merged_data_df=merged_data_df[merged_data_df['FTA']>10]"
   ]
  },
  {
   "cell_type": "markdown",
   "metadata": {},
   "source": [
    "### Drop Rows w/ Missing Wingspan & Height Data"
   ]
  },
  {
   "cell_type": "code",
   "execution_count": 8,
   "metadata": {},
   "outputs": [],
   "source": [
    "merged_data_df=merged_data_df.dropna(subset=['WINGSPAN'])\n",
    "merged_data_df=merged_data_df.dropna(subset=['HEIGHT\\xa0W/O\\xa0SHOES'])\n",
    "\n",
    "merged_data_df.reset_index(inplace=True)\n",
    "merged_data_df.drop(axis=1, labels='index', inplace=True)"
   ]
  },
  {
   "cell_type": "markdown",
   "metadata": {},
   "source": [
    "### Wingspan Conversion to Inches"
   ]
  },
  {
   "cell_type": "code",
   "execution_count": 9,
   "metadata": {},
   "outputs": [],
   "source": [
    "wingspan = []\n",
    "wingspan_convert=[]\n",
    "\n",
    "wingspan = merged_data_df['WINGSPAN']\n",
    "wingspan_list = wingspan.tolist()\n",
    "for wingspan in wingspan_list:\n",
    "    wingspan_cleaned = wingspan.strip(\"'\").split(\"'\")\n",
    "    wingspan_convert.append((int(wingspan_cleaned[0])*12)+(float(wingspan_cleaned[1])))\n",
    "\n",
    "merged_data_df['WINGSPAN']=wingspan_convert"
   ]
  },
  {
   "cell_type": "markdown",
   "metadata": {},
   "source": [
    "### Height w/o Shoes Conversion to Inches"
   ]
  },
  {
   "cell_type": "code",
   "execution_count": 10,
   "metadata": {},
   "outputs": [],
   "source": [
    "height_wo_shoes = []\n",
    "height_wo_shoes_convert=[]\n",
    "\n",
    "height_wo_shoes = merged_data_df['HEIGHT\\xa0W/O\\xa0SHOES']\n",
    "height_wo_shoes_list = height_wo_shoes.tolist()\n",
    "height_wo_shoes_list\n",
    "for height in height_wo_shoes_list:\n",
    "    height_cleaned = str(height).strip(\" ' \").split(\"'\")\n",
    "    height_wo_shoes_convert.append((int(height_cleaned[0])*12)+(float(height_cleaned[1])))\n",
    "    \n",
    "merged_data_df['HEIGHT\\xa0W/O\\xa0SHOES']=height_wo_shoes_convert"
   ]
  },
  {
   "cell_type": "markdown",
   "metadata": {},
   "source": [
    "## Establish RATIO = (Wingspan / Height)"
   ]
  },
  {
   "cell_type": "code",
   "execution_count": 11,
   "metadata": {},
   "outputs": [],
   "source": [
    "ratio_wing_over_height = []\n",
    "\n",
    "for i in range(len(wingspan_convert)):\n",
    "    ratio_wing_over_height.append(wingspan_convert[i] / height_wo_shoes_convert[i])"
   ]
  },
  {
   "cell_type": "markdown",
   "metadata": {},
   "source": [
    "### Export as CSV"
   ]
  },
  {
   "cell_type": "code",
   "execution_count": 12,
   "metadata": {},
   "outputs": [],
   "source": [
    "merged_data_df.to_csv(\"Resources/merged_data.csv\",index=False)"
   ]
  },
  {
   "cell_type": "markdown",
   "metadata": {},
   "source": [
    "# "
   ]
  },
  {
   "cell_type": "markdown",
   "metadata": {},
   "source": [
    "# ANALYSIS"
   ]
  },
  {
   "cell_type": "markdown",
   "metadata": {},
   "source": [
    "## Correlations List"
   ]
  },
  {
   "cell_type": "code",
   "execution_count": 38,
   "metadata": {},
   "outputs": [
    {
     "name": "stdout",
     "output_type": "stream",
     "text": [
      "---------------Height Correlation-------------\n",
      "The correlation between Height and 2P% is 0.32\n",
      "The correlation between Height and 3P% is -0.12\n",
      "The correlation between Height and FT% is -0.25\n",
      "\n",
      "\n",
      "---------------Wingspan Correlation-------------\n",
      "The correlation between Wingspan and 2P% is 0.27\n",
      "The correlation between Wingspan and 3P% is -0.25\n",
      "The correlation between Wingspan and FT% is -0.3\n",
      "\n",
      "\n",
      "---------------Ratio Correlation----------------\n",
      "The correlation between Ratio and 2P% is -0.02\n",
      "The correlation between Ratio and 3P% is -0.22\n",
      "The correlation between Ratio and FT% is -0.13\n",
      "\n",
      "\n",
      "------------------2PA Correlation----------------\n",
      "The correlation between 2PA and 2P% is 0.11\n",
      "The correlation between 2PA and 3P% is 0.05\n",
      "The correlation between 2PA and FT% is 0.2\n",
      "\n",
      "\n",
      "------------------3PA Correlation----------------\n",
      "The correlation between 3PA and 2P%  is -0.03\n",
      "The correlation between 3PA and 3P%  is 0.42\n",
      "The correlation between 3PA and FT%  is 0.37\n",
      "\n",
      "\n",
      "------------------FTA Correlation----------------\n",
      "The correlation between FTA and 2P%  is 0.12\n",
      "The correlation between FTA and 3P%  is 0.02\n",
      "The correlation between FTA and FT%  is 0.24\n",
      "\n",
      "\n",
      "------------------3P% Correlation----------------\n",
      "The correlation between 3P% and FT%  is 0.34\n"
     ]
    }
   ],
   "source": [
    "\n",
    "# Height------------------------------------------------------------------------------------------------------\n",
    "print(\"---------------Height Correlation-------------\")\n",
    "correlation = st.pearsonr(height_wo_shoes_convert,merged_data_df['2P%'])\n",
    "print(f\"The correlation between Height and 2P% is {round(correlation[0],2)}\")\n",
    "\n",
    "correlation = st.pearsonr(height_wo_shoes_convert,merged_data_df['3P%'])\n",
    "print(f\"The correlation between Height and 3P% is {round(correlation[0],2)}\")\n",
    "\n",
    "correlation = st.pearsonr(height_wo_shoes_convert,merged_data_df['FT%'])\n",
    "print(f\"The correlation between Height and FT% is {round(correlation[0],2)}\")\n",
    "print('\\n')\n",
    "\n",
    "\n",
    "# Wingspan------------------------------------------------------------------------------------------------------\n",
    "print(\"---------------Wingspan Correlation-------------\")\n",
    "correlation = st.pearsonr(wingspan_convert,merged_data_df['2P%'])\n",
    "print(f\"The correlation between Wingspan and 2P% is {round(correlation[0],2)}\")\n",
    "\n",
    "correlation = st.pearsonr(wingspan_convert,merged_data_df['3P%'])\n",
    "print(f\"The correlation between Wingspan and 3P% is {round(correlation[0],2)}\")\n",
    "\n",
    "correlation = st.pearsonr(wingspan_convert,merged_data_df['FT%'])\n",
    "print(f\"The correlation between Wingspan and FT% is {round(correlation[0],2)}\")\n",
    "print('\\n')\n",
    "\n",
    "\n",
    "# Ratio------------------------------------------------------------------------------------------------------\n",
    "print(\"---------------Ratio Correlation----------------\")\n",
    "correlation = st.pearsonr(ratio_wing_over_height,merged_data_df['2P%'])\n",
    "print(f\"The correlation between Ratio and 2P% is {round(correlation[0],2)}\")\n",
    "\n",
    "correlation = st.pearsonr(ratio_wing_over_height,merged_data_df['3P%'])\n",
    "print(f\"The correlation between Ratio and 3P% is {round(correlation[0],2)}\")\n",
    "\n",
    "correlation = st.pearsonr(ratio_wing_over_height,merged_data_df['FT%'])\n",
    "print(f\"The correlation between Ratio and FT% is {round(correlation[0],2)}\")\n",
    "print('\\n')\n",
    "\n",
    "\n",
    "# 2PA------------------------------------------------------------------------------------------------------\n",
    "print(\"------------------2PA Correlation----------------\")\n",
    "correlation = st.pearsonr(merged_data_df['2PA'],merged_data_df['2P%'])\n",
    "print(f\"The correlation between 2PA and 2P% is {round(correlation[0],2)}\")\n",
    "\n",
    "correlation = st.pearsonr(merged_data_df['2PA'],merged_data_df['3P%'])\n",
    "print(f\"The correlation between 2PA and 3P% is {round(correlation[0],2)}\")\n",
    "\n",
    "correlation = st.pearsonr(merged_data_df['2PA'],merged_data_df['FT%'])\n",
    "print(f\"The correlation between 2PA and FT% is {round(correlation[0],2)}\")\n",
    "print('\\n')\n",
    "\n",
    "\n",
    "# 3PA------------------------------------------------------------------------------------------------------\n",
    "print(\"------------------3PA Correlation----------------\")\n",
    "correlation = st.pearsonr(merged_data_df['3PA'],merged_data_df['2P%'])\n",
    "print(f\"The correlation between 3PA and 2P%  is {round(correlation[0],2)}\")\n",
    "\n",
    "correlation = st.pearsonr(merged_data_df['3PA'],merged_data_df['3P%'])\n",
    "print(f\"The correlation between 3PA and 3P%  is {round(correlation[0],2)}\")\n",
    "\n",
    "correlation = st.pearsonr(merged_data_df['3PA'],merged_data_df['FT%'])\n",
    "print(f\"The correlation between 3PA and FT%  is {round(correlation[0],2)}\")\n",
    "print('\\n')\n",
    "\n",
    "\n",
    "# FTA------------------------------------------------------------------------------------------------------\n",
    "print(\"------------------FTA Correlation----------------\")\n",
    "correlation = st.pearsonr(merged_data_df['FTA'],merged_data_df['2P%'])\n",
    "print(f\"The correlation between FTA and 2P%  is {round(correlation[0],2)}\")\n",
    "\n",
    "correlation = st.pearsonr(merged_data_df['FTA'],merged_data_df['3P%'])\n",
    "print(f\"The correlation between FTA and 3P%  is {round(correlation[0],2)}\")\n",
    "\n",
    "correlation = st.pearsonr(merged_data_df['FTA'],merged_data_df['FT%'])\n",
    "print(f\"The correlation between FTA and FT%  is {round(correlation[0],2)}\")\n",
    "print('\\n')\n",
    "\n",
    "# 3P%------------------------------------------------------------------------------------------------------\n",
    "print(\"------------------3P% Correlation----------------\")\n",
    "correlation = st.pearsonr(merged_data_df['3P%'],merged_data_df['FT%'])\n",
    "print(f\"The correlation between 3P% and FT%  is {round(correlation[0],2)}\")"
   ]
  },
  {
   "cell_type": "markdown",
   "metadata": {},
   "source": [
    "# "
   ]
  },
  {
   "cell_type": "markdown",
   "metadata": {},
   "source": [
    "## Larger Correlations"
   ]
  },
  {
   "cell_type": "markdown",
   "metadata": {},
   "source": [
    "### 3PA vs FT%"
   ]
  },
  {
   "cell_type": "code",
   "execution_count": 14,
   "metadata": {},
   "outputs": [
    {
     "data": {
      "image/png": "[encoded data removed]",
      "text/plain": [
       "<Figure size 432x288 with 1 Axes>"
      ]
     },
     "metadata": {
      "needs_background": "light"
     },
     "output_type": "display_data"
    },
    {
     "name": "stdout",
     "output_type": "stream",
     "text": [
      "The line of best fit is : y = 0.0x + 0.72\n",
      "The correlation between both factors is 0.37\n"
     ]
    }
   ],
   "source": [
    "(slope, intercept, rvalue, pvalue, stderr) = linregress(merged_data_df['3PA'], merged_data_df['FT%'] )\n",
    "regress_values = np.array(merged_data_df['3PA']) * slope + intercept\n",
    "line_eq = \"y = \" + str(round(slope,2)) + \"x + \" + str(round(intercept,2))\n",
    "\n",
    "plt.plot(merged_data_df['3PA'],regress_values,color='red')\n",
    "plt.scatter(x=merged_data_df['3PA'], y=merged_data_df['FT%'])\n",
    "plt.ylabel('FT(%)')\n",
    "plt.xlabel('3 Point Attempts ')\n",
    "plt.title(\"3 Point Attempts vs FT(%)\")\n",
    "plt.show()\n",
    "print(f\"The line of best fit is : {line_eq}\")\n",
    "correlation = st.pearsonr(merged_data_df['3PA'],merged_data_df['FT%'])\n",
    "print(f\"The correlation between both factors is {round(correlation[0],2)}\")"
   ]
  },
  {
   "cell_type": "markdown",
   "metadata": {},
   "source": [
    "### Height vs. 2P%"
   ]
  },
  {
   "cell_type": "code",
   "execution_count": 15,
   "metadata": {},
   "outputs": [
    {
     "data": {
      "image/png": "[encoded data removed]",
      "text/plain": [
       "<Figure size 432x288 with 1 Axes>"
      ]
     },
     "metadata": {
      "needs_background": "light"
     },
     "output_type": "display_data"
    },
    {
     "name": "stdout",
     "output_type": "stream",
     "text": [
      "The correlation between both factors is 0.32\n"
     ]
    }
   ],
   "source": [
    "(correlation_coefficient) = st.pearsonr(height_wo_shoes_convert, merged_data_df['2P%'])[0]\n",
    "(slope, intercept, r_value, p_value, standard_error) = st.linregress(height_wo_shoes_convert, merged_data_df['2P%'])\n",
    "\n",
    "#Slope formula 'y=mx+b'\n",
    "y = slope * np.array(height_wo_shoes_convert) + intercept\n",
    "\n",
    "plt.scatter(x = height_wo_shoes_convert, y = merged_data_df['2P%'], color = \"purple\")\n",
    "plt.xlabel('Height (inches)')\n",
    "plt.ylabel('2 Point (%)')\n",
    "plt.title('Height vs. 2P(%)')\n",
    "\n",
    "plt.plot(height_wo_shoes_convert, y, color = 'red')\n",
    "plt.show()\n",
    "correlation = st.pearsonr(height_wo_shoes_convert,merged_data_df['2P%'])\n",
    "print(f\"The correlation between both factors is {round(correlation[0],2)}\")"
   ]
  },
  {
   "cell_type": "markdown",
   "metadata": {},
   "source": [
    "### Wingspan vs. 3P%"
   ]
  },
  {
   "cell_type": "code",
   "execution_count": 16,
   "metadata": {},
   "outputs": [
    {
     "data": {
      "image/png": "[encoded data removed]",
      "text/plain": [
       "<Figure size 432x288 with 1 Axes>"
      ]
     },
     "metadata": {
      "needs_background": "light"
     },
     "output_type": "display_data"
    },
    {
     "name": "stdout",
     "output_type": "stream",
     "text": [
      "The correlation between both factors is -0.25\n"
     ]
    }
   ],
   "source": [
    "(slope, intercept, rvalue, pvalue, stderr) = linregress(wingspan_convert, merged_data_df['3P%'] )\n",
    "regress_values = np.array(wingspan_convert) * slope + intercept\n",
    "line_eq = \"y = \" + str(round(slope,2)) + \"x + \" + str(round(intercept,2))\n",
    "\n",
    "plt.plot(wingspan_convert,regress_values,color='red')\n",
    "plt.scatter(x=wingspan_convert, y=merged_data_df['3P%'])\n",
    "plt.ylabel('3 Point (%)')\n",
    "plt.xlabel('Wingspan (inches)')\n",
    "plt.title(\"Wingspan vs 3P(%)\")\n",
    "plt.show()\n",
    "correlation = st.pearsonr(wingspan_convert,merged_data_df['3P%'])\n",
    "print(f\"The correlation between both factors is {round(correlation[0],2)}\")"
   ]
  },
  {
   "cell_type": "markdown",
   "metadata": {},
   "source": [
    "### Ratio vs. 3P%"
   ]
  },
  {
   "cell_type": "code",
   "execution_count": 17,
   "metadata": {},
   "outputs": [
    {
     "data": {
      "image/png": "[encoded data removed]",
      "text/plain": [
       "<Figure size 432x288 with 1 Axes>"
      ]
     },
     "metadata": {
      "needs_background": "light"
     },
     "output_type": "display_data"
    },
    {
     "name": "stdout",
     "output_type": "stream",
     "text": [
      "The correlation between both factors is -0.22\n"
     ]
    }
   ],
   "source": [
    "plt.scatter(ratio_wing_over_height,merged_data_df[\"3P%\"])\n",
    "\n",
    "(correlation_coefficient) = st.pearsonr(ratio_wing_over_height, merged_data_df['3P%'])[0]\n",
    "(slope, intercept, r_value, p_value, standard_error) = st.linregress(ratio_wing_over_height, merged_data_df['3P%'])\n",
    "\n",
    "y = slope * np.array(ratio_wing_over_height) + intercept\n",
    "\n",
    "plt.scatter(x = ratio_wing_over_height, y = merged_data_df['3P%'])\n",
    "plt.xlabel('Ratio (wingspan / height)')\n",
    "plt.ylabel('3 Point (%)')\n",
    "plt.title('Ratio vs. 3P(%)')\n",
    "\n",
    "plt.plot(ratio_wing_over_height, y, color = 'red')\n",
    "plt.show()\n",
    "correlation = st.pearsonr(ratio_wing_over_height,merged_data_df['3P%'])\n",
    "print(f\"The correlation between both factors is {round(correlation[0],2)}\")"
   ]
  },
  {
   "cell_type": "markdown",
   "metadata": {},
   "source": [
    "# "
   ]
  },
  {
   "cell_type": "markdown",
   "metadata": {},
   "source": [
    "## Lesser Correlations"
   ]
  },
  {
   "cell_type": "markdown",
   "metadata": {},
   "source": [
    "### Wingspan vs. Free Throws"
   ]
  },
  {
   "cell_type": "code",
   "execution_count": 18,
   "metadata": {},
   "outputs": [
    {
     "data": {
      "image/png": "[encoded data removed]",
      "text/plain": [
       "<Figure size 432x288 with 1 Axes>"
      ]
     },
     "metadata": {
      "needs_background": "light"
     },
     "output_type": "display_data"
    },
    {
     "name": "stdout",
     "output_type": "stream",
     "text": [
      "The correlation between both factors is -0.3\n"
     ]
    }
   ],
   "source": [
    "\n",
    "(slope, intercept, rvalue, pvalue, stderr) = linregress(wingspan_convert, merged_data_df['FT%'] )\n",
    "regress_values = np.array(wingspan_convert) * slope + intercept\n",
    "line_eq = \"y = \" + str(round(slope,2)) + \"x + \" + str(round(intercept,2))\n",
    "\n",
    "plt.plot(wingspan_convert,regress_values, color='red')\n",
    "plt.scatter(x=wingspan_convert, y=merged_data_df['FT%'])\n",
    "plt.ylabel('Free Throw (%)')\n",
    "plt.xlabel('Wingspan (inches)')\n",
    "plt.title(\"Wingspan vs FT(%)\")\n",
    "plt.show()\n",
    "correlation = st.pearsonr(wingspan_convert,merged_data_df['FT%'])\n",
    "print(f\"The correlation between both factors is {round(correlation[0],2)}\")"
   ]
  },
  {
   "cell_type": "markdown",
   "metadata": {},
   "source": [
    "### Wingspan vs. 2P%"
   ]
  },
  {
   "cell_type": "code",
   "execution_count": 19,
   "metadata": {},
   "outputs": [
    {
     "data": {
      "image/png": "[encoded data removed]",
      "text/plain": [
       "<Figure size 432x288 with 1 Axes>"
      ]
     },
     "metadata": {
      "needs_background": "light"
     },
     "output_type": "display_data"
    },
    {
     "name": "stdout",
     "output_type": "stream",
     "text": [
      "The correlation between both factors is 0.27\n"
     ]
    }
   ],
   "source": [
    "\n",
    "(slope, intercept, rvalue, pvalue, stderr) = linregress(wingspan_convert, merged_data_df['2P%'] )\n",
    "regress_values = np.array(wingspan_convert) * slope + intercept\n",
    "line_eq = \"y = \" + str(round(slope,2)) + \"x + \" + str(round(intercept,2))\n",
    "\n",
    "plt.plot(wingspan_convert,regress_values, color='red')\n",
    "plt.scatter(x=wingspan_convert, y=merged_data_df['2P%'])\n",
    "plt.ylabel('2 Point (%)')\n",
    "plt.xlabel('Wingspan (inches)')\n",
    "plt.title(\"Wingspan vs 2P(%)\")\n",
    "plt.show()\n",
    "correlation = st.pearsonr(wingspan_convert,merged_data_df['2P%'])\n",
    "print(f\"The correlation between both factors is {round(correlation[0],2)}\")"
   ]
  },
  {
   "cell_type": "markdown",
   "metadata": {},
   "source": [
    "### Height vs. FT%"
   ]
  },
  {
   "cell_type": "code",
   "execution_count": 20,
   "metadata": {},
   "outputs": [
    {
     "data": {
      "image/png": "[encoded data removed]",
      "text/plain": [
       "<Figure size 432x288 with 1 Axes>"
      ]
     },
     "metadata": {
      "needs_background": "light"
     },
     "output_type": "display_data"
    },
    {
     "name": "stdout",
     "output_type": "stream",
     "text": [
      "The correlation between both factors is -0.25\n"
     ]
    }
   ],
   "source": [
    "(correlation_coefficient) = st.pearsonr(height_wo_shoes_convert, merged_data_df['FT%'])[0]\n",
    "(slope, intercept, r_value, p_value, standard_error) = st.linregress(height_wo_shoes_convert, merged_data_df['FT%'])\n",
    "\n",
    "#Slope formula 'y=mx+b'\n",
    "y = slope * np.array(height_wo_shoes_convert) + intercept\n",
    "\n",
    "plt.scatter(x = height_wo_shoes_convert, y = merged_data_df['FT%'], color = \"purple\")\n",
    "plt.xlabel('Height (inches)')\n",
    "plt.ylabel('Free Throw (%)')\n",
    "plt.title('Height vs. FT(%)')\n",
    "\n",
    "plt.plot(height_wo_shoes_convert, y, color = 'red')\n",
    "plt.show()\n",
    "correlation = st.pearsonr(height_wo_shoes_convert,merged_data_df['FT%'])\n",
    "print(f\"The correlation between both factors is {round(correlation[0],2)}\")"
   ]
  },
  {
   "cell_type": "markdown",
   "metadata": {},
   "source": [
    "### Height vs. 3P%"
   ]
  },
  {
   "cell_type": "code",
   "execution_count": 21,
   "metadata": {},
   "outputs": [
    {
     "data": {
      "image/png": "[encoded data removed]",
      "text/plain": [
       "<Figure size 432x288 with 1 Axes>"
      ]
     },
     "metadata": {
      "needs_background": "light"
     },
     "output_type": "display_data"
    },
    {
     "name": "stdout",
     "output_type": "stream",
     "text": [
      "The correlation between both factors is -0.12\n"
     ]
    }
   ],
   "source": [
    "(correlation_coefficient) = st.pearsonr(height_wo_shoes_convert, merged_data_df['3P%'])[0]\n",
    "(slope, intercept, r_value, p_value, standard_error) = st.linregress(height_wo_shoes_convert, merged_data_df['3P%'])\n",
    "\n",
    "#Slope formula 'y=mx+b'\n",
    "y = slope * np.array(height_wo_shoes_convert) + intercept\n",
    "\n",
    "plt.scatter(x = height_wo_shoes_convert, y = merged_data_df['3P%'], color = \"purple\")\n",
    "plt.xlabel('Height (inches)')\n",
    "plt.ylabel('3 Point (%)')\n",
    "plt.title('Height vs. 3P(%)')\n",
    "\n",
    "plt.plot(height_wo_shoes_convert, y, color = 'red')\n",
    "plt.show()\n",
    "correlation = st.pearsonr(height_wo_shoes_convert,merged_data_df['3P%'])\n",
    "print(f\"The correlation between both factors is {round(correlation[0],2)}\")"
   ]
  },
  {
   "cell_type": "markdown",
   "metadata": {},
   "source": [
    "### Ratio vs. FT%"
   ]
  },
  {
   "cell_type": "code",
   "execution_count": 22,
   "metadata": {},
   "outputs": [
    {
     "data": {
      "image/png": "[encoded data removed]",
      "text/plain": [
       "<Figure size 432x288 with 1 Axes>"
      ]
     },
     "metadata": {
      "needs_background": "light"
     },
     "output_type": "display_data"
    },
    {
     "name": "stdout",
     "output_type": "stream",
     "text": [
      "The correlation between both factors is -0.13\n"
     ]
    }
   ],
   "source": [
    "plt.scatter(ratio_wing_over_height,merged_data_df[\"FT%\"])\n",
    "\n",
    "correlation_coefficient = st.pearsonr(ratio_wing_over_height, merged_data_df['FT%'])[0]\n",
    "(slope, intercept, r_value, p_value, standard_error) = st.linregress(ratio_wing_over_height, merged_data_df['FT%'])\n",
    "\n",
    "y = slope * np.array(ratio_wing_over_height) + intercept\n",
    "\n",
    "plt.scatter(x = ratio_wing_over_height, y = merged_data_df['FT%'])\n",
    "plt.xlabel('Ratio (wingspan / height)')\n",
    "plt.ylabel('Free Throw (%)')\n",
    "plt.title('Ratio vs. FT(%)')\n",
    "\n",
    "plt.plot(ratio_wing_over_height, y, color = 'red')\n",
    "plt.show()\n",
    "correlation = st.pearsonr(ratio_wing_over_height,merged_data_df['FT%'])\n",
    "print(f\"The correlation between both factors is {round(correlation[0],2)}\")"
   ]
  },
  {
   "cell_type": "markdown",
   "metadata": {},
   "source": [
    "### Ratio vs. 2P%"
   ]
  },
  {
   "cell_type": "code",
   "execution_count": 23,
   "metadata": {},
   "outputs": [
    {
     "data": {
      "image/png": "[encoded data removed]",
      "text/plain": [
       "<Figure size 432x288 with 1 Axes>"
      ]
     },
     "metadata": {
      "needs_background": "light"
     },
     "output_type": "display_data"
    },
    {
     "name": "stdout",
     "output_type": "stream",
     "text": [
      "The correlation between both factors is -0.02\n"
     ]
    }
   ],
   "source": [
    "plt.scatter(ratio_wing_over_height,merged_data_df[\"2P%\"])\n",
    "\n",
    "correlation_coefficient = st.pearsonr(ratio_wing_over_height, merged_data_df['2P%'])[0]\n",
    "(slope, intercept, r_value, p_value, standard_error) = st.linregress(ratio_wing_over_height, merged_data_df['2P%'])\n",
    "\n",
    "y = slope * np.array(ratio_wing_over_height) + intercept\n",
    "\n",
    "plt.scatter(x = ratio_wing_over_height, y = merged_data_df['2P%'])\n",
    "plt.xlabel('Ratio (wingspan / height)')\n",
    "plt.ylabel('2 Point (%)')\n",
    "plt.title('Ratio vs. 2P(%)')\n",
    "\n",
    "plt.plot(ratio_wing_over_height, y, color = 'red')\n",
    "plt.show()\n",
    "correlation = st.pearsonr(ratio_wing_over_height,merged_data_df['2P%'])\n",
    "print(f\"The correlation between both factors is {round(correlation[0],2)}\")"
   ]
  },
  {
   "cell_type": "markdown",
   "metadata": {},
   "source": [
    "## "
   ]
  },
  {
   "cell_type": "markdown",
   "metadata": {},
   "source": [
    "# Comparing Scoring Ability Based on Height"
   ]
  },
  {
   "cell_type": "markdown",
   "metadata": {},
   "source": [
    "## Seperate Players by Height"
   ]
  },
  {
   "cell_type": "code",
   "execution_count": 31,
   "metadata": {},
   "outputs": [
    {
     "data": {
      "text/html": [
       "<div>\n",
       "<style scoped>\n",
       "    .dataframe tbody tr th:only-of-type {\n",
       "        vertical-align: middle;\n",
       "    }\n",
       "\n",
       "    .dataframe tbody tr th {\n",
       "        vertical-align: top;\n",
       "    }\n",
       "\n",
       "    .dataframe thead th {\n",
       "        text-align: right;\n",
       "    }\n",
       "</style>\n",
       "<table border=\"1\" class=\"dataframe\">\n",
       "  <thead>\n",
       "    <tr style=\"text-align: right;\">\n",
       "      <th></th>\n",
       "      <th>Mean (Tall)</th>\n",
       "      <th>Median (Tall)</th>\n",
       "      <th>Mean (Short)</th>\n",
       "      <th>Median (Short)</th>\n",
       "    </tr>\n",
       "  </thead>\n",
       "  <tbody>\n",
       "    <tr>\n",
       "      <th>FTA</th>\n",
       "      <td>113.304348</td>\n",
       "      <td>83.0000</td>\n",
       "      <td>115.827160</td>\n",
       "      <td>86.000</td>\n",
       "    </tr>\n",
       "    <tr>\n",
       "      <th>FT%</th>\n",
       "      <td>0.756667</td>\n",
       "      <td>0.7740</td>\n",
       "      <td>0.793333</td>\n",
       "      <td>0.816</td>\n",
       "    </tr>\n",
       "    <tr>\n",
       "      <th>2PA</th>\n",
       "      <td>271.644928</td>\n",
       "      <td>186.0000</td>\n",
       "      <td>278.098765</td>\n",
       "      <td>237.000</td>\n",
       "    </tr>\n",
       "    <tr>\n",
       "      <th>2P%</th>\n",
       "      <td>0.515014</td>\n",
       "      <td>0.5165</td>\n",
       "      <td>0.490654</td>\n",
       "      <td>0.497</td>\n",
       "    </tr>\n",
       "    <tr>\n",
       "      <th>3PA</th>\n",
       "      <td>167.210145</td>\n",
       "      <td>145.5000</td>\n",
       "      <td>205.098765</td>\n",
       "      <td>158.000</td>\n",
       "    </tr>\n",
       "    <tr>\n",
       "      <th>3P%</th>\n",
       "      <td>0.333000</td>\n",
       "      <td>0.3500</td>\n",
       "      <td>0.341988</td>\n",
       "      <td>0.352</td>\n",
       "    </tr>\n",
       "  </tbody>\n",
       "</table>\n",
       "</div>"
      ],
      "text/plain": [
       "     Mean (Tall)  Median (Tall)  Mean (Short)  Median (Short)\n",
       "FTA   113.304348        83.0000    115.827160          86.000\n",
       "FT%     0.756667         0.7740      0.793333           0.816\n",
       "2PA   271.644928       186.0000    278.098765         237.000\n",
       "2P%     0.515014         0.5165      0.490654           0.497\n",
       "3PA   167.210145       145.5000    205.098765         158.000\n",
       "3P%     0.333000         0.3500      0.341988           0.352"
      ]
     },
     "execution_count": 31,
     "metadata": {},
     "output_type": "execute_result"
    }
   ],
   "source": [
    "#Traditional Big men players are not as common and are mainly used to stretch the floor \n",
    "#rather than score points by posting up near the basket\n",
    "\n",
    "tall_avg_ser=merged_data_df.loc[merged_data_df['HEIGHT\\xa0W/O\\xa0SHOES'] >= 76.50,:][['FTA','FT%','2PA','2P%','3PA', '3P%']].mean()\n",
    "tall_med_ser=merged_data_df.loc[merged_data_df['HEIGHT\\xa0W/O\\xa0SHOES'] >= 76.50,:][['FTA','FT%','2PA','2P%','3PA', '3P%']].median()\n",
    "tall_count=merged_data_df.loc[merged_data_df['HEIGHT\\xa0W/O\\xa0SHOES'] >= 76.50,:].count()['PLAYER']\n",
    "\n",
    "short_avg_ser=merged_data_df.loc[merged_data_df['HEIGHT\\xa0W/O\\xa0SHOES'] < 76.50,:][['FTA','FT%','2PA','2P%','3PA', '3P%']].mean()\n",
    "short_med_ser=merged_data_df.loc[merged_data_df['HEIGHT\\xa0W/O\\xa0SHOES'] < 76.50,:][['FTA','FT%','2PA','2P%','3PA', '3P%']].median()\n",
    "short_count=merged_data_df.loc[merged_data_df['HEIGHT\\xa0W/O\\xa0SHOES'] < 76.50,:].count()['PLAYER']\n",
    "\n",
    "\n",
    "central_tendency_df=pd.DataFrame({'Mean (Tall)':tall_avg_ser,\n",
    "              'Median (Tall)':tall_med_ser,\n",
    "              'Mean (Short)':short_avg_ser,\n",
    "              'Median (Short)':short_med_ser   \n",
    "})\n",
    "central_tendency_df"
   ]
  },
  {
   "cell_type": "markdown",
   "metadata": {},
   "source": [
    "### Tall vs Short Attempts Histogram"
   ]
  },
  {
   "cell_type": "code",
   "execution_count": 33,
   "metadata": {},
   "outputs": [
    {
     "data": {
      "image/png": "[encoded data removed]",
      "text/plain": [
       "<Figure size 432x288 with 1 Axes>"
      ]
     },
     "metadata": {
      "needs_background": "light"
     },
     "output_type": "display_data"
    },
    {
     "data": {
      "text/html": [
       "<div>\n",
       "<style scoped>\n",
       "    .dataframe tbody tr th:only-of-type {\n",
       "        vertical-align: middle;\n",
       "    }\n",
       "\n",
       "    .dataframe tbody tr th {\n",
       "        vertical-align: top;\n",
       "    }\n",
       "\n",
       "    .dataframe thead th {\n",
       "        text-align: right;\n",
       "    }\n",
       "</style>\n",
       "<table border=\"1\" class=\"dataframe\">\n",
       "  <thead>\n",
       "    <tr style=\"text-align: right;\">\n",
       "      <th></th>\n",
       "      <th>Mean (Tall)</th>\n",
       "      <th>Mean (Short)</th>\n",
       "    </tr>\n",
       "  </thead>\n",
       "  <tbody>\n",
       "    <tr>\n",
       "      <th>FTA</th>\n",
       "      <td>113.304348</td>\n",
       "      <td>115.827160</td>\n",
       "    </tr>\n",
       "    <tr>\n",
       "      <th>2PA</th>\n",
       "      <td>271.644928</td>\n",
       "      <td>278.098765</td>\n",
       "    </tr>\n",
       "    <tr>\n",
       "      <th>3PA</th>\n",
       "      <td>167.210145</td>\n",
       "      <td>205.098765</td>\n",
       "    </tr>\n",
       "  </tbody>\n",
       "</table>\n",
       "</div>"
      ],
      "text/plain": [
       "     Mean (Tall)  Mean (Short)\n",
       "FTA   113.304348    115.827160\n",
       "2PA   271.644928    278.098765\n",
       "3PA   167.210145    205.098765"
      ]
     },
     "execution_count": 33,
     "metadata": {},
     "output_type": "execute_result"
    }
   ],
   "source": [
    "N = 3\n",
    "tall_players_stats = (113.304348, 271.644928, 167.210145)\n",
    "short_players_stats = (115.827160, 278.098765, 205.098765)\n",
    "\n",
    "ind = np.arange(N) \n",
    "width = 0.30\n",
    "\n",
    "plt.bar(ind, tall_players_stats, width, label='Tall')\n",
    "plt.bar(ind + width, short_players_stats, width, label='Short')\n",
    "\n",
    "plt.title('Attempts')\n",
    "\n",
    "plt.xticks(ind + width / 2, ('Free Throws', '2 Points', '3 Points'))\n",
    "plt.legend(loc='best')\n",
    "plt.show()\n",
    "central_tendency_df[['Mean (Tall)','Mean (Short)']].loc[['FTA', '2PA', '3PA']]\n"
   ]
  },
  {
   "cell_type": "markdown",
   "metadata": {},
   "source": [
    "### Tall vs Short Percentage Histogram"
   ]
  },
  {
   "cell_type": "code",
   "execution_count": 34,
   "metadata": {},
   "outputs": [
    {
     "data": {
      "image/png": "[encoded data removed]",
      "text/plain": [
       "<Figure size 432x288 with 1 Axes>"
      ]
     },
     "metadata": {
      "needs_background": "light"
     },
     "output_type": "display_data"
    },
    {
     "data": {
      "text/html": [
       "<div>\n",
       "<style scoped>\n",
       "    .dataframe tbody tr th:only-of-type {\n",
       "        vertical-align: middle;\n",
       "    }\n",
       "\n",
       "    .dataframe tbody tr th {\n",
       "        vertical-align: top;\n",
       "    }\n",
       "\n",
       "    .dataframe thead th {\n",
       "        text-align: right;\n",
       "    }\n",
       "</style>\n",
       "<table border=\"1\" class=\"dataframe\">\n",
       "  <thead>\n",
       "    <tr style=\"text-align: right;\">\n",
       "      <th></th>\n",
       "      <th>Mean (Tall)</th>\n",
       "      <th>Mean (Short)</th>\n",
       "    </tr>\n",
       "  </thead>\n",
       "  <tbody>\n",
       "    <tr>\n",
       "      <th>FT%</th>\n",
       "      <td>0.756667</td>\n",
       "      <td>0.793333</td>\n",
       "    </tr>\n",
       "    <tr>\n",
       "      <th>2P%</th>\n",
       "      <td>0.515014</td>\n",
       "      <td>0.490654</td>\n",
       "    </tr>\n",
       "    <tr>\n",
       "      <th>3P%</th>\n",
       "      <td>0.333000</td>\n",
       "      <td>0.341988</td>\n",
       "    </tr>\n",
       "  </tbody>\n",
       "</table>\n",
       "</div>"
      ],
      "text/plain": [
       "     Mean (Tall)  Mean (Short)\n",
       "FT%     0.756667      0.793333\n",
       "2P%     0.515014      0.490654\n",
       "3P%     0.333000      0.341988"
      ]
     },
     "execution_count": 34,
     "metadata": {},
     "output_type": "execute_result"
    }
   ],
   "source": [
    "N = 3\n",
    "tall_players_stats = (0.752929, 0.525717, 0.334354)\n",
    "short_players_stats = (0.793333, 0.490654, 0.341988)\n",
    "\n",
    "ind = np.arange(N) \n",
    "width = 0.30\n",
    "\n",
    "plt.bar(ind, tall_players_stats, width, label='Tall')\n",
    "plt.bar(ind + width, short_players_stats, width, label='Short')\n",
    "\n",
    "plt.title('Percentages')\n",
    "\n",
    "plt.xticks(ind + width / 2, ('Free Throws', '2 Points', '3 Points'))\n",
    "plt.legend(loc='best')\n",
    "plt.show()\n",
    "central_tendency_df[['Mean (Tall)','Mean (Short)']].loc[['FT%', '2P%', '3P%']]"
   ]
  },
  {
   "cell_type": "markdown",
   "metadata": {},
   "source": [
    "# "
   ]
  },
  {
   "cell_type": "markdown",
   "metadata": {},
   "source": [
    "# Comparing Scoring Ability Based on Position"
   ]
  },
  {
   "cell_type": "markdown",
   "metadata": {},
   "source": [
    "## Assign Positions"
   ]
  },
  {
   "cell_type": "code",
   "execution_count": 27,
   "metadata": {},
   "outputs": [],
   "source": [
    "merged_data_df[\"POS\"].replace({\"PF-C\":\"PF\",\"C-PF\": \"C\", \"PF-SF\": \"PF\", \"SF-PF\":\"SF\",\"SG-PG\":'SG',\"PG-SG\":\"PG\",\"SG-SF\":\"SG\",\"SF-SG\":\"SF\"}, inplace=True)\n",
    "merged_data_df[\"POS\"].unique() #Check that there are only 5 position\n",
    "\n",
    "#Traditionally taller players are assigned the positions of CENTER, POWER FORWARD, & SMALL FORWARD\n",
    "tall_short_list=[]\n",
    "for index, row in merged_data_df.iterrows():\n",
    "    if row['POS']=='PF':\n",
    "        tall_short_list.append('Big Man')\n",
    "    elif row['POS']=='SF':\n",
    "        tall_short_list.append('Big Man')\n",
    "    elif row['POS']=='C':\n",
    "        tall_short_list.append('Big Man')\n",
    "    else:\n",
    "        tall_short_list.append('Average Man')\n",
    "        \n",
    "merged_data_df['Tall_Short']=tall_short_list"
   ]
  },
  {
   "cell_type": "markdown",
   "metadata": {},
   "source": [
    "### Big Man Positions vs Average (Mean)"
   ]
  },
  {
   "cell_type": "code",
   "execution_count": 28,
   "metadata": {},
   "outputs": [],
   "source": [
    "tall_short_gb=merged_data_df.groupby('Tall_Short')"
   ]
  },
  {
   "cell_type": "code",
   "execution_count": 29,
   "metadata": {},
   "outputs": [],
   "source": [
    "tall_short_avg=tall_short_gb[['FTA','2PA','3PA','FT%','2P%','3P%']].mean()\n",
    "tall_short_avg.rename_axis(None,inplace=True)"
   ]
  },
  {
   "cell_type": "code",
   "execution_count": 30,
   "metadata": {},
   "outputs": [
    {
     "data": {
      "image/png": "[encoded data removed]",
      "text/plain": [
       "<Figure size 432x288 with 1 Axes>"
      ]
     },
     "metadata": {
      "needs_background": "light"
     },
     "output_type": "display_data"
    },
    {
     "data": {
      "image/png": "[encoded data removed]",
      "text/plain": [
       "<Figure size 432x288 with 1 Axes>"
      ]
     },
     "metadata": {
      "needs_background": "light"
     },
     "output_type": "display_data"
    },
    {
     "data": {
      "text/html": [
       "<div>\n",
       "<style scoped>\n",
       "    .dataframe tbody tr th:only-of-type {\n",
       "        vertical-align: middle;\n",
       "    }\n",
       "\n",
       "    .dataframe tbody tr th {\n",
       "        vertical-align: top;\n",
       "    }\n",
       "\n",
       "    .dataframe thead th {\n",
       "        text-align: right;\n",
       "    }\n",
       "</style>\n",
       "<table border=\"1\" class=\"dataframe\">\n",
       "  <thead>\n",
       "    <tr style=\"text-align: right;\">\n",
       "      <th></th>\n",
       "      <th>FTA</th>\n",
       "      <th>2PA</th>\n",
       "      <th>3PA</th>\n",
       "      <th>FT%</th>\n",
       "      <th>2P%</th>\n",
       "      <th>3P%</th>\n",
       "    </tr>\n",
       "  </thead>\n",
       "  <tbody>\n",
       "    <tr>\n",
       "      <th>Average Man</th>\n",
       "      <td>118.478632</td>\n",
       "      <td>280.341880</td>\n",
       "      <td>206.111111</td>\n",
       "      <td>0.788154</td>\n",
       "      <td>0.489128</td>\n",
       "      <td>0.342197</td>\n",
       "    </tr>\n",
       "    <tr>\n",
       "      <th>Big Man</th>\n",
       "      <td>109.372549</td>\n",
       "      <td>266.794118</td>\n",
       "      <td>152.676471</td>\n",
       "      <td>0.749667</td>\n",
       "      <td>0.525363</td>\n",
       "      <td>0.329588</td>\n",
       "    </tr>\n",
       "  </tbody>\n",
       "</table>\n",
       "</div>"
      ],
      "text/plain": [
       "                    FTA         2PA         3PA       FT%       2P%       3P%\n",
       "Average Man  118.478632  280.341880  206.111111  0.788154  0.489128  0.342197\n",
       "Big Man      109.372549  266.794118  152.676471  0.749667  0.525363  0.329588"
      ]
     },
     "execution_count": 30,
     "metadata": {},
     "output_type": "execute_result"
    }
   ],
   "source": [
    "tall_short_avg[['FTA','2PA','3PA']].plot(kind='bar', grid=True)\n",
    "plt.title('Average Number of Attempts')\n",
    "plt.xlabel(None)\n",
    "plt.show()\n",
    "\n",
    "tall_short_avg[['FT%','2P%','3P%']].plot(kind='bar', grid=True)\n",
    "plt.title('Average Percentage')\n",
    "plt.xlabel(None)\n",
    "plt.show()\n",
    "\n",
    "tall_short_avg"
   ]
  }
 ],
 "metadata": {
  "kernelspec": {
   "display_name": "Python 3",
   "language": "python",
   "name": "python3"
  },
  "language_info": {
   "codemirror_mode": {
    "name": "ipython",
    "version": 3
   },
   "file_extension": ".py",
   "mimetype": "text/x-python",
   "name": "python",
   "nbconvert_exporter": "python",
   "pygments_lexer": "ipython3",
   "version": "3.7.7"
  }
 },
 "nbformat": 4,
 "nbformat_minor": 4
}
