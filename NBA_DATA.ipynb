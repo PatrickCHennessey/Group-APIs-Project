{
 "cells": [
  {
   "cell_type": "code",
   "execution_count": 1,
   "metadata": {},
   "outputs": [],
   "source": [
    "import numpy as np\n",
    "import pandas as pd\n",
    "import matplotlib.pyplot as plt\n",
    "from scipy.stats import linregress\n",
    "import scipy.stats as st"
   ]
  },
  {
   "cell_type": "markdown",
   "metadata": {},
   "source": [
    "### Read In CSVs"
   ]
  },
  {
   "cell_type": "code",
   "execution_count": 2,
   "metadata": {},
   "outputs": [],
   "source": [
    "raw_combine_data=pd.read_csv('Resources/raw_combine_data.csv')\n",
    "raw_nba_data=pd.read_csv('Resources/raw_nba_data.csv')\n",
    "season_data_df=pd.read_csv('Resources/season_data_height.csv')"
   ]
  },
  {
   "cell_type": "markdown",
   "metadata": {},
   "source": [
    "### Finding Duplicates"
   ]
  },
  {
   "cell_type": "code",
   "execution_count": 3,
   "metadata": {},
   "outputs": [],
   "source": [
    "nba_duplicates=raw_nba_data[raw_nba_data.duplicated(['PLAYER'])]\n",
    "combine_duplicates=raw_combine_data[raw_combine_data.duplicated(['PLAYER'])]"
   ]
  },
  {
   "cell_type": "markdown",
   "metadata": {},
   "source": [
    "### Drop Duplicates from Dataframes"
   ]
  },
  {
   "cell_type": "code",
   "execution_count": 4,
   "metadata": {},
   "outputs": [],
   "source": [
    "dropped_combine_data=raw_combine_data.drop_duplicates(subset='PLAYER',keep='first')\n",
    "dropped_nba_data=raw_nba_data.drop_duplicates(subset='PLAYER',keep='first')"
   ]
  },
  {
   "cell_type": "markdown",
   "metadata": {},
   "source": [
    "### Merge DataFrames"
   ]
  },
  {
   "cell_type": "code",
   "execution_count": 5,
   "metadata": {},
   "outputs": [],
   "source": [
    "merged_data_df=dropped_combine_data.merge(dropped_nba_data, on='PLAYER')"
   ]
  },
  {
   "cell_type": "markdown",
   "metadata": {},
   "source": [
    "### Remove Players Who Didn't Take Enough Shots to Include in Analysis"
   ]
  },
  {
   "cell_type": "code",
   "execution_count": 6,
   "metadata": {},
   "outputs": [],
   "source": [
    "merged_data_df=merged_data_df[merged_data_df['3PA']>10]\n",
    "merged_data_df=merged_data_df[merged_data_df['2PA']>10]\n",
    "merged_data_df=merged_data_df[merged_data_df['FTA']>10]"
   ]
  },
  {
   "cell_type": "markdown",
   "metadata": {},
   "source": [
    "### Drop Rows w/ Missing Wingspan & Height Data"
   ]
  },
  {
   "cell_type": "code",
   "execution_count": 7,
   "metadata": {},
   "outputs": [],
   "source": [
    "merged_data_df=merged_data_df.dropna(subset=['WINGSPAN'])\n",
    "merged_data_df=merged_data_df.dropna(subset=['HEIGHT\\xa0W/O\\xa0SHOES'])\n",
    "\n",
    "merged_data_df.reset_index(inplace=True)\n",
    "merged_data_df.drop(axis=1, labels='index', inplace=True)"
   ]
  },
  {
   "cell_type": "markdown",
   "metadata": {},
   "source": [
    "### Export as CSV"
   ]
  },
  {
   "cell_type": "code",
   "execution_count": 8,
   "metadata": {},
   "outputs": [],
   "source": [
    "merged_data_df.to_csv(\"Resources/merged_data.csv\",index=False)"
   ]
  },
  {
   "cell_type": "markdown",
   "metadata": {},
   "source": [
    "### Narrowing Down 2PA, 3PA, FTA Criteria"
   ]
  },
  {
   "cell_type": "code",
   "execution_count": 9,
   "metadata": {},
   "outputs": [
    {
     "data": {
      "text/html": [
       "<div>\n",
       "<style scoped>\n",
       "    .dataframe tbody tr th:only-of-type {\n",
       "        vertical-align: middle;\n",
       "    }\n",
       "\n",
       "    .dataframe tbody tr th {\n",
       "        vertical-align: top;\n",
       "    }\n",
       "\n",
       "    .dataframe thead th {\n",
       "        text-align: right;\n",
       "    }\n",
       "</style>\n",
       "<table border=\"1\" class=\"dataframe\">\n",
       "  <thead>\n",
       "    <tr style=\"text-align: right;\">\n",
       "      <th></th>\n",
       "      <th>2PA</th>\n",
       "      <th>FTA</th>\n",
       "      <th>3PA</th>\n",
       "    </tr>\n",
       "  </thead>\n",
       "  <tbody>\n",
       "    <tr>\n",
       "      <th>Lower Quartile</th>\n",
       "      <td>110.5</td>\n",
       "      <td>42.5</td>\n",
       "      <td>78.5</td>\n",
       "    </tr>\n",
       "    <tr>\n",
       "      <th>Median</th>\n",
       "      <td>215</td>\n",
       "      <td>83</td>\n",
       "      <td>154</td>\n",
       "    </tr>\n",
       "    <tr>\n",
       "      <th>Upper Quartile</th>\n",
       "      <td>371.5</td>\n",
       "      <td>142.5</td>\n",
       "      <td>248</td>\n",
       "    </tr>\n",
       "    <tr>\n",
       "      <th>IQR</th>\n",
       "      <td>261</td>\n",
       "      <td>100</td>\n",
       "      <td>169.5</td>\n",
       "    </tr>\n",
       "    <tr>\n",
       "      <th>Lower Bound</th>\n",
       "      <td>-281</td>\n",
       "      <td>-107.5</td>\n",
       "      <td>-175.75</td>\n",
       "    </tr>\n",
       "    <tr>\n",
       "      <th>Upper Bound</th>\n",
       "      <td>763</td>\n",
       "      <td>292.5</td>\n",
       "      <td>502.25</td>\n",
       "    </tr>\n",
       "    <tr>\n",
       "      <th>Std</th>\n",
       "      <td>214.517</td>\n",
       "      <td>110.703</td>\n",
       "      <td>130.481</td>\n",
       "    </tr>\n",
       "  </tbody>\n",
       "</table>\n",
       "</div>"
      ],
      "text/plain": [
       "                    2PA      FTA      3PA\n",
       "Lower Quartile    110.5     42.5     78.5\n",
       "Median              215       83      154\n",
       "Upper Quartile    371.5    142.5      248\n",
       "IQR                 261      100    169.5\n",
       "Lower Bound        -281   -107.5  -175.75\n",
       "Upper Bound         763    292.5   502.25\n",
       "Std             214.517  110.703  130.481"
      ]
     },
     "execution_count": 9,
     "metadata": {},
     "output_type": "execute_result"
    }
   ],
   "source": [
    "# Calculate the IQR and quantitatively determine if there are any potential outliers and append them to a dataframe\n",
    "df=pd.DataFrame({'2PA':[\"\",\"\",\"\",\"\",\"\",\"\",\"\"],\n",
    "                 'FTA':[\"\",\"\",\"\",\"\",\"\",\"\",\"\"],\n",
    "                 '3PA':[\"\",\"\",\"\",\"\",\"\",\"\",\"\"]\n",
    "                })\n",
    "df=df.set_index(keys=[[\"Lower Quartile\",\"Median\",\"Upper Quartile\",\"IQR\",\"Lower Bound\",\"Upper Bound\",\"Std\"]]) #set index\n",
    "\n",
    "for data in df:\n",
    "    quartiles = merged_data_df[data].quantile([.25,.5,.75])\n",
    "    lowerq = quartiles[0.25]\n",
    "    median= quartiles[0.5]\n",
    "    upperq = quartiles[0.75]\n",
    "    iqr = upperq-lowerq\n",
    "    lower_bound = lowerq - (1.5*iqr)\n",
    "    upper_bound = upperq + (1.5*iqr)\n",
    "    df[data][0]=lowerq\n",
    "    df[data][1]=median\n",
    "    df[data][2]=upperq\n",
    "    df[data][3]=iqr\n",
    "    df[data][4]=lower_bound\n",
    "    df[data][5]=upper_bound\n",
    "    df[data][6]=merged_data_df[data].std()\n",
    "df"
   ]
  },
  {
   "cell_type": "markdown",
   "metadata": {},
   "source": [
    "### Wingspan Conversion to Inches"
   ]
  },
  {
   "cell_type": "code",
   "execution_count": 10,
   "metadata": {},
   "outputs": [],
   "source": [
    "wingspan = []\n",
    "wingspan_convert=[]\n",
    "\n",
    "wingspan = merged_data_df['WINGSPAN']\n",
    "wingspan_list = wingspan.tolist()\n",
    "for wingspan in wingspan_list:\n",
    "    wingspan_cleaned = wingspan.strip(\"'\").split(\"'\")\n",
    "    wingspan_convert.append((int(wingspan_cleaned[0])*12)+(float(wingspan_cleaned[1])))\n",
    "\n",
    "merged_data_df['WINGSPAN']=wingspan_convert"
   ]
  },
  {
   "cell_type": "markdown",
   "metadata": {},
   "source": [
    "### Height w/o Shoes Conversion to Inches"
   ]
  },
  {
   "cell_type": "code",
   "execution_count": 11,
   "metadata": {},
   "outputs": [],
   "source": [
    "height_wo_shoes = []\n",
    "height_wo_shoes_convert=[]\n",
    "\n",
    "height_wo_shoes = merged_data_df['HEIGHT\\xa0W/O\\xa0SHOES']\n",
    "height_wo_shoes_list = height_wo_shoes.tolist()\n",
    "height_wo_shoes_list\n",
    "for height in height_wo_shoes_list:\n",
    "    height_cleaned = str(height).strip(\" ' \").split(\"'\")\n",
    "    height_wo_shoes_convert.append((int(height_cleaned[0])*12)+(float(height_cleaned[1])))\n",
    "    \n",
    "merged_data_df['HEIGHT\\xa0W/O\\xa0SHOES']=height_wo_shoes_convert"
   ]
  },
  {
   "cell_type": "markdown",
   "metadata": {},
   "source": [
    "# Scatter Plots"
   ]
  },
  {
   "cell_type": "markdown",
   "metadata": {},
   "source": [
    "## Wingspan vs. Free Throws"
   ]
  },
  {
   "cell_type": "code",
   "execution_count": 12,
   "metadata": {},
   "outputs": [
    {
     "data": {
      "image/png": "[encoded data removed]",
      "text/plain": [
       "<Figure size 432x288 with 1 Axes>"
      ]
     },
     "metadata": {
      "needs_background": "light"
     },
     "output_type": "display_data"
    },
    {
     "name": "stdout",
     "output_type": "stream",
     "text": [
      "The correlation between both factors is -0.3\n"
     ]
    }
   ],
   "source": [
    "\n",
    "(slope, intercept, rvalue, pvalue, stderr) = linregress(wingspan_convert, merged_data_df['FT%'] )\n",
    "regress_values = np.array(wingspan_convert) * slope + intercept\n",
    "line_eq = \"y = \" + str(round(slope,2)) + \"x + \" + str(round(intercept,2))\n",
    "\n",
    "plt.plot(wingspan_convert,regress_values, color='red')\n",
    "plt.scatter(x=wingspan_convert, y=merged_data_df['FT%'])\n",
    "plt.ylabel('Free Throw (%)')\n",
    "plt.xlabel('Wingspan (inches)')\n",
    "plt.title(\"Wingspan vs FT(%)\")\n",
    "plt.show()\n",
    "correlation = st.pearsonr(wingspan_convert,merged_data_df['FT%'])\n",
    "print(f\"The correlation between both factors is {round(correlation[0],2)}\")"
   ]
  },
  {
   "cell_type": "markdown",
   "metadata": {},
   "source": [
    "## Wingspan vs. 2P%"
   ]
  },
  {
   "cell_type": "code",
   "execution_count": 13,
   "metadata": {},
   "outputs": [
    {
     "data": {
      "image/png": "[encoded data removed]",
      "text/plain": [
       "<Figure size 432x288 with 1 Axes>"
      ]
     },
     "metadata": {
      "needs_background": "light"
     },
     "output_type": "display_data"
    },
    {
     "name": "stdout",
     "output_type": "stream",
     "text": [
      "The correlation between both factors is 0.27\n"
     ]
    }
   ],
   "source": [
    "\n",
    "(slope, intercept, rvalue, pvalue, stderr) = linregress(wingspan_convert, merged_data_df['2P%'] )\n",
    "regress_values = np.array(wingspan_convert) * slope + intercept\n",
    "line_eq = \"y = \" + str(round(slope,2)) + \"x + \" + str(round(intercept,2))\n",
    "\n",
    "plt.plot(wingspan_convert,regress_values, color='red')\n",
    "plt.scatter(x=wingspan_convert, y=merged_data_df['2P%'])\n",
    "plt.ylabel('2 Point (%)')\n",
    "plt.xlabel('Wingspan (inches)')\n",
    "plt.title(\"Wingspan vs 2P(%)\")\n",
    "plt.show()\n",
    "correlation = st.pearsonr(wingspan_convert,merged_data_df['2P%'])\n",
    "print(f\"The correlation between both factors is {round(correlation[0],2)}\")"
   ]
  },
  {
   "cell_type": "markdown",
   "metadata": {},
   "source": [
    "## Wingspan vs. 3P%"
   ]
  },
  {
   "cell_type": "code",
   "execution_count": 14,
   "metadata": {},
   "outputs": [
    {
     "data": {
      "image/png": "[encoded data removed]",
      "text/plain": [
       "<Figure size 432x288 with 1 Axes>"
      ]
     },
     "metadata": {
      "needs_background": "light"
     },
     "output_type": "display_data"
    },
    {
     "name": "stdout",
     "output_type": "stream",
     "text": [
      "The correlation between both factors is -0.25\n"
     ]
    }
   ],
   "source": [
    "(slope, intercept, rvalue, pvalue, stderr) = linregress(wingspan_convert, merged_data_df['3P%'] )\n",
    "regress_values = np.array(wingspan_convert) * slope + intercept\n",
    "line_eq = \"y = \" + str(round(slope,2)) + \"x + \" + str(round(intercept,2))\n",
    "\n",
    "plt.plot(wingspan_convert,regress_values,color='red')\n",
    "plt.scatter(x=wingspan_convert, y=merged_data_df['3P%'])\n",
    "plt.ylabel('3 Point (%)')\n",
    "plt.xlabel('Wingspan (inches)')\n",
    "plt.title(\"Wingspan vs 3P(%)\")\n",
    "plt.show()\n",
    "correlation = st.pearsonr(wingspan_convert,merged_data_df['3P%'])\n",
    "print(f\"The correlation between both factors is {round(correlation[0],2)}\")"
   ]
  },
  {
   "cell_type": "markdown",
   "metadata": {},
   "source": [
    "## Height vs. FT%"
   ]
  },
  {
   "cell_type": "code",
   "execution_count": 15,
   "metadata": {},
   "outputs": [
    {
     "data": {
      "image/png": "[encoded data removed]",
      "text/plain": [
       "<Figure size 432x288 with 1 Axes>"
      ]
     },
     "metadata": {
      "needs_background": "light"
     },
     "output_type": "display_data"
    },
    {
     "name": "stdout",
     "output_type": "stream",
     "text": [
      "The correlation between both factors is -0.25\n"
     ]
    }
   ],
   "source": [
    "(correlation_coefficient) = st.pearsonr(height_wo_shoes_convert, merged_data_df['FT%'])[0]\n",
    "(slope, intercept, r_value, p_value, standard_error) = st.linregress(height_wo_shoes_convert, merged_data_df['FT%'])\n",
    "\n",
    "#Slope formula 'y=mx+b'\n",
    "y = slope * np.array(height_wo_shoes_convert) + intercept\n",
    "\n",
    "plt.scatter(x = height_wo_shoes_convert, y = merged_data_df['FT%'], color = \"purple\")\n",
    "plt.xlabel('Height (inches)')\n",
    "plt.ylabel('Free Throw (%)')\n",
    "plt.title('Height vs. FT(%)')\n",
    "\n",
    "plt.plot(height_wo_shoes_convert, y, color = 'red')\n",
    "plt.show()\n",
    "correlation = st.pearsonr(height_wo_shoes_convert,merged_data_df['FT%'])\n",
    "print(f\"The correlation between both factors is {round(correlation[0],2)}\")"
   ]
  },
  {
   "cell_type": "markdown",
   "metadata": {},
   "source": [
    "## Height vs. 2P%"
   ]
  },
  {
   "cell_type": "code",
   "execution_count": 16,
   "metadata": {},
   "outputs": [
    {
     "data": {
      "image/png": "[encoded data removed]",
      "text/plain": [
       "<Figure size 432x288 with 1 Axes>"
      ]
     },
     "metadata": {
      "needs_background": "light"
     },
     "output_type": "display_data"
    },
    {
     "name": "stdout",
     "output_type": "stream",
     "text": [
      "The correlation between both factors is 0.32\n"
     ]
    }
   ],
   "source": [
    "(correlation_coefficient) = st.pearsonr(height_wo_shoes_convert, merged_data_df['2P%'])[0]\n",
    "(slope, intercept, r_value, p_value, standard_error) = st.linregress(height_wo_shoes_convert, merged_data_df['2P%'])\n",
    "\n",
    "#Slope formula 'y=mx+b'\n",
    "y = slope * np.array(height_wo_shoes_convert) + intercept\n",
    "\n",
    "plt.scatter(x = height_wo_shoes_convert, y = merged_data_df['2P%'], color = \"purple\")\n",
    "plt.xlabel('Height (inches)')\n",
    "plt.ylabel('2 Point (%)')\n",
    "plt.title('Height vs. 2P(%)')\n",
    "\n",
    "plt.plot(height_wo_shoes_convert, y, color = 'red')\n",
    "plt.show()\n",
    "correlation = st.pearsonr(height_wo_shoes_convert,merged_data_df['2P%'])\n",
    "print(f\"The correlation between both factors is {round(correlation[0],2)}\")"
   ]
  },
  {
   "cell_type": "markdown",
   "metadata": {},
   "source": [
    "## Height vs. 3P%"
   ]
  },
  {
   "cell_type": "code",
   "execution_count": 17,
   "metadata": {},
   "outputs": [
    {
     "data": {
      "image/png": "[encoded data removed]",
      "text/plain": [
       "<Figure size 432x288 with 1 Axes>"
      ]
     },
     "metadata": {
      "needs_background": "light"
     },
     "output_type": "display_data"
    },
    {
     "name": "stdout",
     "output_type": "stream",
     "text": [
      "The correlation between both factors is -0.12\n"
     ]
    }
   ],
   "source": [
    "(correlation_coefficient) = st.pearsonr(height_wo_shoes_convert, merged_data_df['3P%'])[0]\n",
    "(slope, intercept, r_value, p_value, standard_error) = st.linregress(height_wo_shoes_convert, merged_data_df['3P%'])\n",
    "\n",
    "#Slope formula 'y=mx+b'\n",
    "y = slope * np.array(height_wo_shoes_convert) + intercept\n",
    "\n",
    "plt.scatter(x = height_wo_shoes_convert, y = merged_data_df['3P%'], color = \"purple\")\n",
    "plt.xlabel('Height (inches)')\n",
    "plt.ylabel('3 Point (%)')\n",
    "plt.title('Height vs. 3P(%)')\n",
    "\n",
    "plt.plot(height_wo_shoes_convert, y, color = 'red')\n",
    "plt.show()\n",
    "correlation = st.pearsonr(height_wo_shoes_convert,merged_data_df['3P%'])\n",
    "print(f\"The correlation between both factors is {round(correlation[0],2)}\")"
   ]
  },
  {
   "cell_type": "markdown",
   "metadata": {},
   "source": [
    "## Establish RATIO = (Wingspan / Height)"
   ]
  },
  {
   "cell_type": "code",
   "execution_count": 18,
   "metadata": {},
   "outputs": [],
   "source": [
    "ratio_wing_over_height = []\n",
    "\n",
    "for i in range(len(wingspan_convert)):\n",
    "    ratio_wing_over_height.append(wingspan_convert[i] / height_wo_shoes_convert[i])"
   ]
  },
  {
   "cell_type": "markdown",
   "metadata": {},
   "source": [
    "## Ratio vs. FT%"
   ]
  },
  {
   "cell_type": "code",
   "execution_count": 19,
   "metadata": {},
   "outputs": [
    {
     "data": {
      "image/png": "[encoded data removed]",
      "text/plain": [
       "<Figure size 432x288 with 1 Axes>"
      ]
     },
     "metadata": {
      "needs_background": "light"
     },
     "output_type": "display_data"
    },
    {
     "name": "stdout",
     "output_type": "stream",
     "text": [
      "The correlation between both factors is -0.13\n"
     ]
    }
   ],
   "source": [
    "plt.scatter(ratio_wing_over_height,merged_data_df[\"FT%\"])\n",
    "\n",
    "correlation_coefficient = st.pearsonr(ratio_wing_over_height, merged_data_df['FT%'])[0]\n",
    "(slope, intercept, r_value, p_value, standard_error) = st.linregress(ratio_wing_over_height, merged_data_df['FT%'])\n",
    "\n",
    "y = slope * np.array(ratio_wing_over_height) + intercept\n",
    "\n",
    "plt.scatter(x = ratio_wing_over_height, y = merged_data_df['FT%'])\n",
    "plt.xlabel('Ratio (wingspan / height)')\n",
    "plt.ylabel('Free Throw (%)')\n",
    "plt.title('Ratio vs. FT(%)')\n",
    "\n",
    "plt.plot(ratio_wing_over_height, y, color = 'red')\n",
    "plt.show()\n",
    "correlation = st.pearsonr(ratio_wing_over_height,merged_data_df['FT%'])\n",
    "print(f\"The correlation between both factors is {round(correlation[0],2)}\")"
   ]
  },
  {
   "cell_type": "markdown",
   "metadata": {},
   "source": [
    "## Ratio vs. 2P%"
   ]
  },
  {
   "cell_type": "code",
   "execution_count": 20,
   "metadata": {},
   "outputs": [
    {
     "data": {
      "image/png": "[encoded data removed]",
      "text/plain": [
       "<Figure size 432x288 with 1 Axes>"
      ]
     },
     "metadata": {
      "needs_background": "light"
     },
     "output_type": "display_data"
    },
    {
     "name": "stdout",
     "output_type": "stream",
     "text": [
      "The correlation between both factors is -0.02\n"
     ]
    }
   ],
   "source": [
    "plt.scatter(ratio_wing_over_height,merged_data_df[\"2P%\"])\n",
    "\n",
    "correlation_coefficient = st.pearsonr(ratio_wing_over_height, merged_data_df['2P%'])[0]\n",
    "(slope, intercept, r_value, p_value, standard_error) = st.linregress(ratio_wing_over_height, merged_data_df['2P%'])\n",
    "\n",
    "y = slope * np.array(ratio_wing_over_height) + intercept\n",
    "\n",
    "plt.scatter(x = ratio_wing_over_height, y = merged_data_df['2P%'])\n",
    "plt.xlabel('Ratio (wingspan / height)')\n",
    "plt.ylabel('2 Point (%)')\n",
    "plt.title('Ratio vs. 2P(%)')\n",
    "\n",
    "plt.plot(ratio_wing_over_height, y, color = 'red')\n",
    "plt.show()\n",
    "correlation = st.pearsonr(ratio_wing_over_height,merged_data_df['2P%'])\n",
    "print(f\"The correlation between both factors is {round(correlation[0],2)}\")"
   ]
  },
  {
   "cell_type": "markdown",
   "metadata": {},
   "source": [
    "## Ratio vs. 3P%"
   ]
  },
  {
   "cell_type": "code",
   "execution_count": 21,
   "metadata": {},
   "outputs": [
    {
     "data": {
      "image/png": "[encoded data removed]",
      "text/plain": [
       "<Figure size 432x288 with 1 Axes>"
      ]
     },
     "metadata": {
      "needs_background": "light"
     },
     "output_type": "display_data"
    },
    {
     "name": "stdout",
     "output_type": "stream",
     "text": [
      "The correlation between both factors is -0.22\n"
     ]
    }
   ],
   "source": [
    "plt.scatter(ratio_wing_over_height,merged_data_df[\"3P%\"])\n",
    "\n",
    "(correlation_coefficient) = st.pearsonr(ratio_wing_over_height, merged_data_df['3P%'])[0]\n",
    "(slope, intercept, r_value, p_value, standard_error) = st.linregress(ratio_wing_over_height, merged_data_df['3P%'])\n",
    "\n",
    "y = slope * np.array(ratio_wing_over_height) + intercept\n",
    "\n",
    "plt.scatter(x = ratio_wing_over_height, y = merged_data_df['3P%'])\n",
    "plt.xlabel('Ratio (wingspan / height)')\n",
    "plt.ylabel('3 Point (%)')\n",
    "plt.title('Ratio vs. 3P(%)')\n",
    "\n",
    "plt.plot(ratio_wing_over_height, y, color = 'red')\n",
    "plt.show()\n",
    "correlation = st.pearsonr(ratio_wing_over_height,merged_data_df['3P%'])\n",
    "print(f\"The correlation between both factors is {round(correlation[0],2)}\")"
   ]
  },
  {
   "cell_type": "markdown",
   "metadata": {},
   "source": [
    "## "
   ]
  },
  {
   "cell_type": "code",
   "execution_count": null,
   "metadata": {},
   "outputs": [],
   "source": []
  },
  {
   "cell_type": "code",
   "execution_count": null,
   "metadata": {},
   "outputs": [],
   "source": []
  },
  {
   "cell_type": "code",
   "execution_count": 22,
   "metadata": {},
   "outputs": [
    {
     "data": {
      "text/plain": [
       "Pos\n",
       "C        79.00\n",
       "C-PF     79.00\n",
       "PF       76.50\n",
       "PF-SF    77.75\n",
       "PG       68.75\n",
       "SF       75.75\n",
       "SF-PF    79.00\n",
       "SG       70.75\n",
       "Name: HEIGHT W/O SHOES, dtype: float64"
      ]
     },
     "execution_count": 22,
     "metadata": {},
     "output_type": "execute_result"
    }
   ],
   "source": [
    "#Find the optimal height that people play for each of their positions\n",
    "merged_data_df.groupby('Pos')['HEIGHT\\xa0W/O\\xa0SHOES'].min()"
   ]
  },
  {
   "cell_type": "code",
   "execution_count": 23,
   "metadata": {
    "scrolled": true
   },
   "outputs": [
    {
     "data": {
      "text/html": [
       "<div>\n",
       "<style scoped>\n",
       "    .dataframe tbody tr th:only-of-type {\n",
       "        vertical-align: middle;\n",
       "    }\n",
       "\n",
       "    .dataframe tbody tr th {\n",
       "        vertical-align: top;\n",
       "    }\n",
       "\n",
       "    .dataframe thead th {\n",
       "        text-align: right;\n",
       "    }\n",
       "</style>\n",
       "<table border=\"1\" class=\"dataframe\">\n",
       "  <thead>\n",
       "    <tr style=\"text-align: right;\">\n",
       "      <th></th>\n",
       "      <th>HEIGHT W/O SHOES</th>\n",
       "      <th>FT%</th>\n",
       "      <th>2P%</th>\n",
       "      <th>3P%</th>\n",
       "      <th>FTA</th>\n",
       "      <th>2PA</th>\n",
       "      <th>3PA</th>\n",
       "    </tr>\n",
       "    <tr>\n",
       "      <th>POS</th>\n",
       "      <th></th>\n",
       "      <th></th>\n",
       "      <th></th>\n",
       "      <th></th>\n",
       "      <th></th>\n",
       "      <th></th>\n",
       "      <th></th>\n",
       "    </tr>\n",
       "  </thead>\n",
       "  <tbody>\n",
       "    <tr>\n",
       "      <th>C</th>\n",
       "      <td>82.208333</td>\n",
       "      <td>0.696000</td>\n",
       "      <td>0.568500</td>\n",
       "      <td>0.261333</td>\n",
       "      <td>101.833333</td>\n",
       "      <td>275.166667</td>\n",
       "      <td>120.666667</td>\n",
       "    </tr>\n",
       "    <tr>\n",
       "      <th>C-PF</th>\n",
       "      <td>82.600000</td>\n",
       "      <td>0.747400</td>\n",
       "      <td>0.571000</td>\n",
       "      <td>0.325000</td>\n",
       "      <td>103.000000</td>\n",
       "      <td>211.800000</td>\n",
       "      <td>120.600000</td>\n",
       "    </tr>\n",
       "    <tr>\n",
       "      <th>PF</th>\n",
       "      <td>79.970588</td>\n",
       "      <td>0.730706</td>\n",
       "      <td>0.534353</td>\n",
       "      <td>0.309971</td>\n",
       "      <td>106.794118</td>\n",
       "      <td>258.852941</td>\n",
       "      <td>129.941176</td>\n",
       "    </tr>\n",
       "    <tr>\n",
       "      <th>PF-C</th>\n",
       "      <td>81.500000</td>\n",
       "      <td>0.811200</td>\n",
       "      <td>0.541000</td>\n",
       "      <td>0.390800</td>\n",
       "      <td>183.400000</td>\n",
       "      <td>401.200000</td>\n",
       "      <td>140.000000</td>\n",
       "    </tr>\n",
       "    <tr>\n",
       "      <th>PF-SF</th>\n",
       "      <td>78.500000</td>\n",
       "      <td>0.779750</td>\n",
       "      <td>0.496750</td>\n",
       "      <td>0.327250</td>\n",
       "      <td>95.500000</td>\n",
       "      <td>186.250000</td>\n",
       "      <td>156.000000</td>\n",
       "    </tr>\n",
       "    <tr>\n",
       "      <th>PG</th>\n",
       "      <td>73.477273</td>\n",
       "      <td>0.799409</td>\n",
       "      <td>0.483205</td>\n",
       "      <td>0.345091</td>\n",
       "      <td>137.704545</td>\n",
       "      <td>316.704545</td>\n",
       "      <td>199.613636</td>\n",
       "    </tr>\n",
       "    <tr>\n",
       "      <th>PG-SG</th>\n",
       "      <td>75.000000</td>\n",
       "      <td>0.782000</td>\n",
       "      <td>0.516833</td>\n",
       "      <td>0.324500</td>\n",
       "      <td>105.500000</td>\n",
       "      <td>355.833333</td>\n",
       "      <td>233.333333</td>\n",
       "    </tr>\n",
       "    <tr>\n",
       "      <th>SF</th>\n",
       "      <td>78.322368</td>\n",
       "      <td>0.749184</td>\n",
       "      <td>0.508158</td>\n",
       "      <td>0.339368</td>\n",
       "      <td>101.105263</td>\n",
       "      <td>255.578947</td>\n",
       "      <td>164.000000</td>\n",
       "    </tr>\n",
       "    <tr>\n",
       "      <th>SF-PF</th>\n",
       "      <td>78.687500</td>\n",
       "      <td>0.781000</td>\n",
       "      <td>0.548000</td>\n",
       "      <td>0.347000</td>\n",
       "      <td>115.000000</td>\n",
       "      <td>347.000000</td>\n",
       "      <td>255.750000</td>\n",
       "    </tr>\n",
       "    <tr>\n",
       "      <th>SF-SG</th>\n",
       "      <td>78.375000</td>\n",
       "      <td>0.823500</td>\n",
       "      <td>0.493167</td>\n",
       "      <td>0.389833</td>\n",
       "      <td>133.000000</td>\n",
       "      <td>308.500000</td>\n",
       "      <td>208.166667</td>\n",
       "    </tr>\n",
       "    <tr>\n",
       "      <th>SG</th>\n",
       "      <td>75.906977</td>\n",
       "      <td>0.779000</td>\n",
       "      <td>0.494442</td>\n",
       "      <td>0.342209</td>\n",
       "      <td>116.813953</td>\n",
       "      <td>260.534884</td>\n",
       "      <td>223.441860</td>\n",
       "    </tr>\n",
       "    <tr>\n",
       "      <th>SG-PG</th>\n",
       "      <td>75.150000</td>\n",
       "      <td>0.766000</td>\n",
       "      <td>0.492800</td>\n",
       "      <td>0.371400</td>\n",
       "      <td>75.200000</td>\n",
       "      <td>235.600000</td>\n",
       "      <td>165.200000</td>\n",
       "    </tr>\n",
       "    <tr>\n",
       "      <th>SG-SF</th>\n",
       "      <td>77.315789</td>\n",
       "      <td>0.790579</td>\n",
       "      <td>0.481105</td>\n",
       "      <td>0.333368</td>\n",
       "      <td>93.210526</td>\n",
       "      <td>228.894737</td>\n",
       "      <td>184.105263</td>\n",
       "    </tr>\n",
       "  </tbody>\n",
       "</table>\n",
       "</div>"
      ],
      "text/plain": [
       "       HEIGHT W/O SHOES       FT%       2P%       3P%         FTA         2PA  \\\n",
       "POS                                                                             \n",
       "C             82.208333  0.696000  0.568500  0.261333  101.833333  275.166667   \n",
       "C-PF          82.600000  0.747400  0.571000  0.325000  103.000000  211.800000   \n",
       "PF            79.970588  0.730706  0.534353  0.309971  106.794118  258.852941   \n",
       "PF-C          81.500000  0.811200  0.541000  0.390800  183.400000  401.200000   \n",
       "PF-SF         78.500000  0.779750  0.496750  0.327250   95.500000  186.250000   \n",
       "PG            73.477273  0.799409  0.483205  0.345091  137.704545  316.704545   \n",
       "PG-SG         75.000000  0.782000  0.516833  0.324500  105.500000  355.833333   \n",
       "SF            78.322368  0.749184  0.508158  0.339368  101.105263  255.578947   \n",
       "SF-PF         78.687500  0.781000  0.548000  0.347000  115.000000  347.000000   \n",
       "SF-SG         78.375000  0.823500  0.493167  0.389833  133.000000  308.500000   \n",
       "SG            75.906977  0.779000  0.494442  0.342209  116.813953  260.534884   \n",
       "SG-PG         75.150000  0.766000  0.492800  0.371400   75.200000  235.600000   \n",
       "SG-SF         77.315789  0.790579  0.481105  0.333368   93.210526  228.894737   \n",
       "\n",
       "              3PA  \n",
       "POS                \n",
       "C      120.666667  \n",
       "C-PF   120.600000  \n",
       "PF     129.941176  \n",
       "PF-C   140.000000  \n",
       "PF-SF  156.000000  \n",
       "PG     199.613636  \n",
       "PG-SG  233.333333  \n",
       "SF     164.000000  \n",
       "SF-PF  255.750000  \n",
       "SF-SG  208.166667  \n",
       "SG     223.441860  \n",
       "SG-PG  165.200000  \n",
       "SG-SF  184.105263  "
      ]
     },
     "execution_count": 23,
     "metadata": {},
     "output_type": "execute_result"
    }
   ],
   "source": [
    "merged_data_df.groupby('POS')[['HEIGHT\\xa0W/O\\xa0SHOES', 'FT%', '2P%', '3P%', 'FTA', '2PA', '3PA']].mean()"
   ]
  },
  {
   "cell_type": "code",
   "execution_count": 24,
   "metadata": {},
   "outputs": [],
   "source": [
    "#Traditional Big men players are not as common and are mainly used to stretch the floor \n",
    "#rather than score points by posting up near the basket\n",
    "\n",
    "tall_avg_ser=merged_data_df.loc[merged_data_df['HEIGHT\\xa0W/O\\xa0SHOES'] >= 77.75,:][['FTA','FT%','2PA','2P%','3PA', '3P%']].mean()\n",
    "tall_med_ser=merged_data_df.loc[merged_data_df['HEIGHT\\xa0W/O\\xa0SHOES'] >= 77.75,:][['FTA','FT%','2PA','2P%','3PA', '3P%']].median()\n",
    "tall_count=merged_data_df.loc[merged_data_df['HEIGHT\\xa0W/O\\xa0SHOES'] >= 77.75,:].count()['PLAYER']\n",
    "\n",
    "short_avg_ser=merged_data_df.loc[merged_data_df['HEIGHT\\xa0W/O\\xa0SHOES'] < 77.75,:][['FTA','FT%','2PA','2P%','3PA', '3P%']].mean()\n",
    "short_med_ser=merged_data_df.loc[merged_data_df['HEIGHT\\xa0W/O\\xa0SHOES'] < 77.75,:][['FTA','FT%','2PA','2P%','3PA', '3P%']].median()\n",
    "short_count=merged_data_df.loc[merged_data_df['HEIGHT\\xa0W/O\\xa0SHOES'] < 77.75,:].count()['PLAYER']\n"
   ]
  },
  {
   "cell_type": "code",
   "execution_count": 25,
   "metadata": {},
   "outputs": [
    {
     "data": {
      "text/html": [
       "<div>\n",
       "<style scoped>\n",
       "    .dataframe tbody tr th:only-of-type {\n",
       "        vertical-align: middle;\n",
       "    }\n",
       "\n",
       "    .dataframe tbody tr th {\n",
       "        vertical-align: top;\n",
       "    }\n",
       "\n",
       "    .dataframe thead th {\n",
       "        text-align: right;\n",
       "    }\n",
       "</style>\n",
       "<table border=\"1\" class=\"dataframe\">\n",
       "  <thead>\n",
       "    <tr style=\"text-align: right;\">\n",
       "      <th></th>\n",
       "      <th>Mean (Tall)</th>\n",
       "      <th>Median (Tall)</th>\n",
       "      <th>Mean (Short)</th>\n",
       "      <th>Median (Short)</th>\n",
       "    </tr>\n",
       "  </thead>\n",
       "  <tbody>\n",
       "    <tr>\n",
       "      <th>FTA</th>\n",
       "      <td>112.393939</td>\n",
       "      <td>83.000</td>\n",
       "      <td>115.758333</td>\n",
       "      <td>81.0000</td>\n",
       "    </tr>\n",
       "    <tr>\n",
       "      <th>FT%</th>\n",
       "      <td>0.752929</td>\n",
       "      <td>0.774</td>\n",
       "      <td>0.784500</td>\n",
       "      <td>0.7995</td>\n",
       "    </tr>\n",
       "    <tr>\n",
       "      <th>2PA</th>\n",
       "      <td>272.444444</td>\n",
       "      <td>192.000</td>\n",
       "      <td>275.341667</td>\n",
       "      <td>231.5000</td>\n",
       "    </tr>\n",
       "    <tr>\n",
       "      <th>2P%</th>\n",
       "      <td>0.525717</td>\n",
       "      <td>0.522</td>\n",
       "      <td>0.489742</td>\n",
       "      <td>0.4935</td>\n",
       "    </tr>\n",
       "    <tr>\n",
       "      <th>3PA</th>\n",
       "      <td>162.313131</td>\n",
       "      <td>142.000</td>\n",
       "      <td>196.825000</td>\n",
       "      <td>158.0000</td>\n",
       "    </tr>\n",
       "    <tr>\n",
       "      <th>3P%</th>\n",
       "      <td>0.334354</td>\n",
       "      <td>0.356</td>\n",
       "      <td>0.337950</td>\n",
       "      <td>0.3510</td>\n",
       "    </tr>\n",
       "  </tbody>\n",
       "</table>\n",
       "</div>"
      ],
      "text/plain": [
       "     Mean (Tall)  Median (Tall)  Mean (Short)  Median (Short)\n",
       "FTA   112.393939         83.000    115.758333         81.0000\n",
       "FT%     0.752929          0.774      0.784500          0.7995\n",
       "2PA   272.444444        192.000    275.341667        231.5000\n",
       "2P%     0.525717          0.522      0.489742          0.4935\n",
       "3PA   162.313131        142.000    196.825000        158.0000\n",
       "3P%     0.334354          0.356      0.337950          0.3510"
      ]
     },
     "execution_count": 25,
     "metadata": {},
     "output_type": "execute_result"
    }
   ],
   "source": [
    "central_tendency_df=pd.DataFrame({'Mean (Tall)':tall_avg_ser,\n",
    "              'Median (Tall)':tall_med_ser,\n",
    "              'Mean (Short)':short_avg_ser,\n",
    "              'Median (Short)':short_med_ser   \n",
    "})\n",
    "central_tendency_df"
   ]
  },
  {
   "cell_type": "markdown",
   "metadata": {},
   "source": [
    "## Tall vs Short Attempts Histogram"
   ]
  },
  {
   "cell_type": "code",
   "execution_count": 26,
   "metadata": {},
   "outputs": [
    {
     "data": {
      "image/png": "[encoded data removed]",
      "text/plain": [
       "<Figure size 432x288 with 1 Axes>"
      ]
     },
     "metadata": {
      "needs_background": "light"
     },
     "output_type": "display_data"
    }
   ],
   "source": [
    "N = 3\n",
    "tall_players_stats = (112.393939, 272.444444, 162.313131)\n",
    "short_players_stats = (115.758333, 275.341667, 196.825000)\n",
    "\n",
    "ind = np.arange(N) \n",
    "width = 0.30\n",
    "\n",
    "plt.bar(ind, tall_players_stats, width, label='Tall')\n",
    "plt.bar(ind + width, short_players_stats, width, label='Short')\n",
    "\n",
    "plt.title('Attempts')\n",
    "\n",
    "plt.xticks(ind + width / 2, ('Free Throws', '2 Points', '3 Points'))\n",
    "plt.legend(loc='best')\n",
    "plt.show()"
   ]
  },
  {
   "cell_type": "markdown",
   "metadata": {},
   "source": [
    "## Tall vs Short Percentage Histogram"
   ]
  },
  {
   "cell_type": "code",
   "execution_count": 27,
   "metadata": {},
   "outputs": [
    {
     "data": {
      "image/png": "[encoded data removed]",
      "text/plain": [
       "<Figure size 432x288 with 1 Axes>"
      ]
     },
     "metadata": {
      "needs_background": "light"
     },
     "output_type": "display_data"
    }
   ],
   "source": [
    "N = 3\n",
    "tall_players_stats = (0.752929, 0.525717, 0.334354)\n",
    "short_players_stats = (0.784500, 0.489742, 0.337950)\n",
    "\n",
    "ind = np.arange(N) \n",
    "width = 0.30\n",
    "\n",
    "plt.bar(ind, tall_players_stats, width, label='Tall')\n",
    "plt.bar(ind + width, short_players_stats, width, label='Short')\n",
    "\n",
    "plt.title('Percentages')\n",
    "\n",
    "plt.xticks(ind + width / 2, ('Free Throws', '2 Points', '3 Points'))\n",
    "plt.legend(loc='best')\n",
    "plt.show()"
   ]
  },
  {
   "cell_type": "code",
   "execution_count": null,
   "metadata": {},
   "outputs": [],
   "source": []
  },
  {
   "cell_type": "code",
   "execution_count": null,
   "metadata": {},
   "outputs": [],
   "source": []
  },
  {
   "cell_type": "markdown",
   "metadata": {},
   "source": [
    "## Correlations"
   ]
  },
  {
   "cell_type": "code",
   "execution_count": 28,
   "metadata": {},
   "outputs": [
    {
     "name": "stdout",
     "output_type": "stream",
     "text": [
      "---------------Height Correlation-------------\n",
      "The correlation between Height and 2P% is 0.32\n",
      "The correlation between Height and 3P% is -0.12\n",
      "The correlation between Height and FT% is -0.25\n",
      "\n",
      "\n",
      "---------------Wingspan Correlation-------------\n",
      "The correlation between Wingspan and 2P% is 0.27\n",
      "The correlation between Wingspan and 3P% is -0.25\n",
      "The correlation between Wingspan and FT% is -0.3\n",
      "\n",
      "\n",
      "---------------Ratio Correlation----------------\n",
      "The correlation between Ratio and 2P% is -0.02\n",
      "The correlation between Ratio and 3P% is -0.22\n",
      "The correlation between Ratio and FT% is -0.13\n",
      "\n",
      "\n",
      "------------------2PA Correlation----------------\n",
      "The correlation between 2PA and 2P% is 0.11\n",
      "The correlation between 2PA and 3P% is 0.05\n",
      "The correlation between 2PA and FT% is 0.2\n",
      "\n",
      "\n",
      "------------------3PA Correlation----------------\n",
      "The correlation between 3PA and 2P%  is -0.03\n",
      "The correlation between 3PA and 3P%  is 0.42\n",
      "The correlation between 3PA and FT%  is 0.37\n",
      "\n",
      "\n",
      "------------------FTA Correlation----------------\n",
      "The correlation between FTA and 2P%  is 0.12\n",
      "The correlation between FTA and 3P%  is 0.02\n",
      "The correlation between FTA and FT%  is 0.24\n"
     ]
    }
   ],
   "source": [
    "# Height------------------------------------------------------------------------------------------------------\n",
    " \n",
    "print(\"---------------Height Correlation-------------\")\n",
    "correlation = st.pearsonr(height_wo_shoes_convert,merged_data_df['2P%'])\n",
    "print(f\"The correlation between Height and 2P% is {round(correlation[0],2)}\")\n",
    "\n",
    "correlation = st.pearsonr(height_wo_shoes_convert,merged_data_df['3P%'])\n",
    "print(f\"The correlation between Height and 3P% is {round(correlation[0],2)}\")\n",
    "\n",
    "correlation = st.pearsonr(height_wo_shoes_convert,merged_data_df['FT%'])\n",
    "print(f\"The correlation between Height and FT% is {round(correlation[0],2)}\")\n",
    "print('\\n')\n",
    "\n",
    "\n",
    "# Wingspan------------------------------------------------------------------------------------------------------\n",
    " \n",
    "print(\"---------------Wingspan Correlation-------------\")\n",
    "correlation = st.pearsonr(wingspan_convert,merged_data_df['2P%'])\n",
    "print(f\"The correlation between Wingspan and 2P% is {round(correlation[0],2)}\")\n",
    "\n",
    "correlation = st.pearsonr(wingspan_convert,merged_data_df['3P%'])\n",
    "print(f\"The correlation between Wingspan and 3P% is {round(correlation[0],2)}\")\n",
    "\n",
    "correlation = st.pearsonr(wingspan_convert,merged_data_df['FT%'])\n",
    "print(f\"The correlation between Wingspan and FT% is {round(correlation[0],2)}\")\n",
    "print('\\n')\n",
    "\n",
    "\n",
    "# Ratio------------------------------------------------------------------------------------------------------\n",
    "\n",
    "print(\"---------------Ratio Correlation----------------\")\n",
    "correlation = st.pearsonr(ratio_wing_over_height,merged_data_df['2P%'])\n",
    "print(f\"The correlation between Ratio and 2P% is {round(correlation[0],2)}\")\n",
    "\n",
    "correlation = st.pearsonr(ratio_wing_over_height,merged_data_df['3P%'])\n",
    "print(f\"The correlation between Ratio and 3P% is {round(correlation[0],2)}\")\n",
    "\n",
    "correlation = st.pearsonr(ratio_wing_over_height,merged_data_df['FT%'])\n",
    "print(f\"The correlation between Ratio and FT% is {round(correlation[0],2)}\")\n",
    "print('\\n')\n",
    "\n",
    "\n",
    "# 2PA------------------------------------------------------------------------------------------------------\n",
    " \n",
    "print(\"------------------2PA Correlation----------------\")\n",
    "correlation = st.pearsonr(merged_data_df['2PA'],merged_data_df['2P%'])\n",
    "print(f\"The correlation between 2PA and 2P% is {round(correlation[0],2)}\")\n",
    "\n",
    "correlation = st.pearsonr(merged_data_df['2PA'],merged_data_df['3P%'])\n",
    "print(f\"The correlation between 2PA and 3P% is {round(correlation[0],2)}\")\n",
    "\n",
    "correlation = st.pearsonr(merged_data_df['2PA'],merged_data_df['FT%'])\n",
    "print(f\"The correlation between 2PA and FT% is {round(correlation[0],2)}\")\n",
    "print('\\n')\n",
    "\n",
    "# 3PA------------------------------------------------------------------------------------------------------\n",
    "\n",
    "print(\"------------------3PA Correlation----------------\")\n",
    "correlation = st.pearsonr(merged_data_df['3PA'],merged_data_df['2P%'])\n",
    "print(f\"The correlation between 3PA and 2P%  is {round(correlation[0],2)}\")\n",
    "\n",
    "correlation = st.pearsonr(merged_data_df['3PA'],merged_data_df['3P%'])\n",
    "print(f\"The correlation between 3PA and 3P%  is {round(correlation[0],2)}\")\n",
    "\n",
    "correlation = st.pearsonr(merged_data_df['3PA'],merged_data_df['FT%'])\n",
    "print(f\"The correlation between 3PA and FT%  is {round(correlation[0],2)}\")\n",
    "print('\\n')\n",
    "\n",
    "\n",
    "# FTA------------------------------------------------------------------------------------------------------\n",
    "\n",
    "print(\"------------------FTA Correlation----------------\")\n",
    "correlation = st.pearsonr(merged_data_df['FTA'],merged_data_df['2P%'])\n",
    "print(f\"The correlation between FTA and 2P%  is {round(correlation[0],2)}\")\n",
    "\n",
    "correlation = st.pearsonr(merged_data_df['FTA'],merged_data_df['3P%'])\n",
    "print(f\"The correlation between FTA and 3P%  is {round(correlation[0],2)}\")\n",
    "\n",
    "correlation = st.pearsonr(merged_data_df['FTA'],merged_data_df['FT%'])\n",
    "print(f\"The correlation between FTA and FT%  is {round(correlation[0],2)}\")"
   ]
  },
  {
   "cell_type": "code",
   "execution_count": 29,
   "metadata": {},
   "outputs": [
    {
     "data": {
      "image/png": "[encoded data removed]",
      "text/plain": [
       "<Figure size 432x288 with 1 Axes>"
      ]
     },
     "metadata": {
      "needs_background": "light"
     },
     "output_type": "display_data"
    },
    {
     "name": "stdout",
     "output_type": "stream",
     "text": [
      "The line of best fit is : y = 0.0x + 0.72\n",
      "The correlation between both factors is 0.37\n"
     ]
    }
   ],
   "source": [
    "(slope, intercept, rvalue, pvalue, stderr) = linregress(merged_data_df['3PA'], merged_data_df['FT%'] )\n",
    "regress_values = np.array(merged_data_df['3PA']) * slope + intercept\n",
    "line_eq = \"y = \" + str(round(slope,2)) + \"x + \" + str(round(intercept,2))\n",
    "\n",
    "plt.plot(merged_data_df['3PA'],regress_values,color='red')\n",
    "plt.scatter(x=merged_data_df['3PA'], y=merged_data_df['FT%'])\n",
    "plt.ylabel('FT(%)')\n",
    "plt.xlabel('3 Point Attempts ')\n",
    "plt.title(\"3 Point Attempts vs FT(%)\")\n",
    "plt.show()\n",
    "print(f\"The line of best fit is : {line_eq}\")\n",
    "correlation = st.pearsonr(merged_data_df['3PA'],merged_data_df['FT%'])\n",
    "print(f\"The correlation between both factors is {round(correlation[0],2)}\")"
   ]
  },
  {
   "cell_type": "code",
   "execution_count": 30,
   "metadata": {},
   "outputs": [
    {
     "data": {
      "text/plain": [
       "array(['PF', 'PG', 'SF', 'SG', 'C'], dtype=object)"
      ]
     },
     "execution_count": 30,
     "metadata": {},
     "output_type": "execute_result"
    }
   ],
   "source": [
    "#There are 5 positions in basketball\n",
    "#Assign players position based on the first position provided\n",
    "#THIS WOULD GO NEAR TOP WHEN CLEANING AND FILTERING DATA\n",
    "merged_data_df_copy=merged_data_df\n",
    "\n",
    "merged_data_df_copy[\"POS\"].replace({\"PF-C\":\"PF\",\"C-PF\": \"C\", \"PF-SF\": \"PF\", \"SF-PF\":\"SF\",\"SG-PG\":'SG',\"PG-SG\":\"PG\",\"SG-SF\":\"SG\",\"SF-SG\":\"SF\"}, inplace=True)\n",
    "\n",
    "merged_data_df_copy[\"POS\"].unique() #Check that there are only 5 position"
   ]
  },
  {
   "cell_type": "code",
   "execution_count": 31,
   "metadata": {},
   "outputs": [],
   "source": [
    "#Traditionally taller players are assigned the positions of CENTER, POWER FORWARD, & SMALL FORWARD\n",
    "tall_short_list=[]\n",
    "for index, row in merged_data_df_copy.iterrows():\n",
    "    if row['POS']=='PF':\n",
    "        tall_short_list.append('Tall')\n",
    "    elif row['POS']=='SF':\n",
    "        tall_short_list.append('Tall')\n",
    "    elif row['POS']=='C':\n",
    "        tall_short_list.append('Tall')\n",
    "    else:\n",
    "        tall_short_list.append('Short')\n",
    "        \n",
    "merged_data_df_copy['Tall_Short']=tall_short_list"
   ]
  },
  {
   "cell_type": "code",
   "execution_count": 32,
   "metadata": {},
   "outputs": [
    {
     "data": {
      "text/html": [
       "<div>\n",
       "<style scoped>\n",
       "    .dataframe tbody tr th:only-of-type {\n",
       "        vertical-align: middle;\n",
       "    }\n",
       "\n",
       "    .dataframe tbody tr th {\n",
       "        vertical-align: top;\n",
       "    }\n",
       "\n",
       "    .dataframe thead th {\n",
       "        text-align: right;\n",
       "    }\n",
       "</style>\n",
       "<table border=\"1\" class=\"dataframe\">\n",
       "  <thead>\n",
       "    <tr style=\"text-align: right;\">\n",
       "      <th></th>\n",
       "      <th>PLAYER</th>\n",
       "      <th>POS</th>\n",
       "      <th>BODY FAT %</th>\n",
       "      <th>HAND LENGTH (INCHES)</th>\n",
       "      <th>HAND WIDTH (INCHES)</th>\n",
       "      <th>HEIGHT W/O SHOES</th>\n",
       "      <th>HEIGHT W/ SHOES</th>\n",
       "      <th>STANDING REACH</th>\n",
       "      <th>WEIGHT (LBS)</th>\n",
       "      <th>WINGSPAN</th>\n",
       "      <th>...</th>\n",
       "      <th>ORB</th>\n",
       "      <th>DRB</th>\n",
       "      <th>TRB</th>\n",
       "      <th>AST</th>\n",
       "      <th>STL</th>\n",
       "      <th>BLK</th>\n",
       "      <th>TOV</th>\n",
       "      <th>PF</th>\n",
       "      <th>PTS</th>\n",
       "      <th>Tall_Short</th>\n",
       "    </tr>\n",
       "  </thead>\n",
       "  <tbody>\n",
       "    <tr>\n",
       "      <th>0</th>\n",
       "      <td>Aaron Gordon</td>\n",
       "      <td>PF</td>\n",
       "      <td>5.05%</td>\n",
       "      <td>8.75</td>\n",
       "      <td>10.5</td>\n",
       "      <td>79.50</td>\n",
       "      <td>6' 8.75''</td>\n",
       "      <td>8' 9''</td>\n",
       "      <td>220.1</td>\n",
       "      <td>83.75</td>\n",
       "      <td>...</td>\n",
       "      <td>103</td>\n",
       "      <td>338</td>\n",
       "      <td>441</td>\n",
       "      <td>215</td>\n",
       "      <td>50</td>\n",
       "      <td>36</td>\n",
       "      <td>94</td>\n",
       "      <td>116</td>\n",
       "      <td>833</td>\n",
       "      <td>Tall</td>\n",
       "    </tr>\n",
       "    <tr>\n",
       "      <th>1</th>\n",
       "      <td>Aaron Holiday</td>\n",
       "      <td>PG</td>\n",
       "      <td>6.40%</td>\n",
       "      <td>8.75</td>\n",
       "      <td>8.5</td>\n",
       "      <td>71.75</td>\n",
       "      <td>6' 0.75''</td>\n",
       "      <td>8' 1''</td>\n",
       "      <td>187</td>\n",
       "      <td>79.50</td>\n",
       "      <td>...</td>\n",
       "      <td>21</td>\n",
       "      <td>111</td>\n",
       "      <td>132</td>\n",
       "      <td>193</td>\n",
       "      <td>45</td>\n",
       "      <td>13</td>\n",
       "      <td>75</td>\n",
       "      <td>102</td>\n",
       "      <td>546</td>\n",
       "      <td>Short</td>\n",
       "    </tr>\n",
       "    <tr>\n",
       "      <th>2</th>\n",
       "      <td>Admiral Schofield</td>\n",
       "      <td>SF</td>\n",
       "      <td>6.80%</td>\n",
       "      <td>8.75</td>\n",
       "      <td>9</td>\n",
       "      <td>76.00</td>\n",
       "      <td>6' 5.25''</td>\n",
       "      <td>8' 6.5''</td>\n",
       "      <td>240.6</td>\n",
       "      <td>81.75</td>\n",
       "      <td>...</td>\n",
       "      <td>6</td>\n",
       "      <td>28</td>\n",
       "      <td>34</td>\n",
       "      <td>14</td>\n",
       "      <td>8</td>\n",
       "      <td>3</td>\n",
       "      <td>7</td>\n",
       "      <td>41</td>\n",
       "      <td>83</td>\n",
       "      <td>Tall</td>\n",
       "    </tr>\n",
       "    <tr>\n",
       "      <th>3</th>\n",
       "      <td>Al Horford</td>\n",
       "      <td>PF</td>\n",
       "      <td>9.10%</td>\n",
       "      <td>-</td>\n",
       "      <td>-</td>\n",
       "      <td>80.00</td>\n",
       "      <td>6' 9.75''</td>\n",
       "      <td>8' 11''</td>\n",
       "      <td>246</td>\n",
       "      <td>84.75</td>\n",
       "      <td>...</td>\n",
       "      <td>92</td>\n",
       "      <td>320</td>\n",
       "      <td>412</td>\n",
       "      <td>244</td>\n",
       "      <td>52</td>\n",
       "      <td>55</td>\n",
       "      <td>65</td>\n",
       "      <td>128</td>\n",
       "      <td>722</td>\n",
       "      <td>Tall</td>\n",
       "    </tr>\n",
       "    <tr>\n",
       "      <th>4</th>\n",
       "      <td>Alec Burks</td>\n",
       "      <td>SG</td>\n",
       "      <td>5.10%</td>\n",
       "      <td>9</td>\n",
       "      <td>8.25</td>\n",
       "      <td>77.00</td>\n",
       "      <td>6' 6''</td>\n",
       "      <td>8' 7.5''</td>\n",
       "      <td>192.6</td>\n",
       "      <td>82.00</td>\n",
       "      <td>...</td>\n",
       "      <td>43</td>\n",
       "      <td>219</td>\n",
       "      <td>262</td>\n",
       "      <td>171</td>\n",
       "      <td>58</td>\n",
       "      <td>17</td>\n",
       "      <td>85</td>\n",
       "      <td>120</td>\n",
       "      <td>891</td>\n",
       "      <td>Short</td>\n",
       "    </tr>\n",
       "    <tr>\n",
       "      <th>...</th>\n",
       "      <td>...</td>\n",
       "      <td>...</td>\n",
       "      <td>...</td>\n",
       "      <td>...</td>\n",
       "      <td>...</td>\n",
       "      <td>...</td>\n",
       "      <td>...</td>\n",
       "      <td>...</td>\n",
       "      <td>...</td>\n",
       "      <td>...</td>\n",
       "      <td>...</td>\n",
       "      <td>...</td>\n",
       "      <td>...</td>\n",
       "      <td>...</td>\n",
       "      <td>...</td>\n",
       "      <td>...</td>\n",
       "      <td>...</td>\n",
       "      <td>...</td>\n",
       "      <td>...</td>\n",
       "      <td>...</td>\n",
       "      <td>...</td>\n",
       "    </tr>\n",
       "    <tr>\n",
       "      <th>214</th>\n",
       "      <td>Victor Oladipo</td>\n",
       "      <td>SG</td>\n",
       "      <td>6.55%</td>\n",
       "      <td>8.75</td>\n",
       "      <td>9.25</td>\n",
       "      <td>75.25</td>\n",
       "      <td>6' 4.25''</td>\n",
       "      <td>8' 4.5''</td>\n",
       "      <td>213.2</td>\n",
       "      <td>81.25</td>\n",
       "      <td>...</td>\n",
       "      <td>7</td>\n",
       "      <td>34</td>\n",
       "      <td>41</td>\n",
       "      <td>39</td>\n",
       "      <td>11</td>\n",
       "      <td>3</td>\n",
       "      <td>28</td>\n",
       "      <td>21</td>\n",
       "      <td>179</td>\n",
       "      <td>Short</td>\n",
       "    </tr>\n",
       "    <tr>\n",
       "      <th>215</th>\n",
       "      <td>Wayne Ellington</td>\n",
       "      <td>SG</td>\n",
       "      <td>5.50%</td>\n",
       "      <td>-</td>\n",
       "      <td>-</td>\n",
       "      <td>76.25</td>\n",
       "      <td>6' 5.25''</td>\n",
       "      <td>8' 4''</td>\n",
       "      <td>202.4</td>\n",
       "      <td>78.50</td>\n",
       "      <td>...</td>\n",
       "      <td>4</td>\n",
       "      <td>61</td>\n",
       "      <td>65</td>\n",
       "      <td>44</td>\n",
       "      <td>13</td>\n",
       "      <td>4</td>\n",
       "      <td>18</td>\n",
       "      <td>41</td>\n",
       "      <td>183</td>\n",
       "      <td>Short</td>\n",
       "    </tr>\n",
       "    <tr>\n",
       "      <th>216</th>\n",
       "      <td>Wesley Iwundu</td>\n",
       "      <td>SG</td>\n",
       "      <td>4.00%</td>\n",
       "      <td>8.75</td>\n",
       "      <td>9.5</td>\n",
       "      <td>77.50</td>\n",
       "      <td>6' 6.75''</td>\n",
       "      <td>8' 9.5''</td>\n",
       "      <td>193.4</td>\n",
       "      <td>85.00</td>\n",
       "      <td>...</td>\n",
       "      <td>23</td>\n",
       "      <td>90</td>\n",
       "      <td>113</td>\n",
       "      <td>46</td>\n",
       "      <td>25</td>\n",
       "      <td>11</td>\n",
       "      <td>18</td>\n",
       "      <td>62</td>\n",
       "      <td>237</td>\n",
       "      <td>Short</td>\n",
       "    </tr>\n",
       "    <tr>\n",
       "      <th>217</th>\n",
       "      <td>Will Barton</td>\n",
       "      <td>SG</td>\n",
       "      <td>4.10%</td>\n",
       "      <td>9</td>\n",
       "      <td>9.5</td>\n",
       "      <td>77.00</td>\n",
       "      <td>6' 6''</td>\n",
       "      <td>8' 6.5''</td>\n",
       "      <td>174.4</td>\n",
       "      <td>81.75</td>\n",
       "      <td>...</td>\n",
       "      <td>76</td>\n",
       "      <td>289</td>\n",
       "      <td>365</td>\n",
       "      <td>212</td>\n",
       "      <td>61</td>\n",
       "      <td>29</td>\n",
       "      <td>88</td>\n",
       "      <td>121</td>\n",
       "      <td>874</td>\n",
       "      <td>Short</td>\n",
       "    </tr>\n",
       "    <tr>\n",
       "      <th>218</th>\n",
       "      <td>Zach LaVine</td>\n",
       "      <td>PG</td>\n",
       "      <td>4.70%</td>\n",
       "      <td>8.25</td>\n",
       "      <td>8.75</td>\n",
       "      <td>76.50</td>\n",
       "      <td>6' 5.75''</td>\n",
       "      <td>8' 4''</td>\n",
       "      <td>180.9</td>\n",
       "      <td>80.25</td>\n",
       "      <td>...</td>\n",
       "      <td>41</td>\n",
       "      <td>248</td>\n",
       "      <td>289</td>\n",
       "      <td>254</td>\n",
       "      <td>88</td>\n",
       "      <td>28</td>\n",
       "      <td>206</td>\n",
       "      <td>131</td>\n",
       "      <td>1530</td>\n",
       "      <td>Short</td>\n",
       "    </tr>\n",
       "  </tbody>\n",
       "</table>\n",
       "<p>219 rows × 41 columns</p>\n",
       "</div>"
      ],
      "text/plain": [
       "                PLAYER POS BODY FAT % HAND LENGTH (INCHES)  \\\n",
       "0         Aaron Gordon  PF      5.05%                 8.75   \n",
       "1        Aaron Holiday  PG      6.40%                 8.75   \n",
       "2    Admiral Schofield  SF      6.80%                 8.75   \n",
       "3           Al Horford  PF      9.10%                    -   \n",
       "4           Alec Burks  SG      5.10%                    9   \n",
       "..                 ...  ..        ...                  ...   \n",
       "214     Victor Oladipo  SG      6.55%                 8.75   \n",
       "215    Wayne Ellington  SG      5.50%                    -   \n",
       "216      Wesley Iwundu  SG      4.00%                 8.75   \n",
       "217        Will Barton  SG      4.10%                    9   \n",
       "218        Zach LaVine  PG      4.70%                 8.25   \n",
       "\n",
       "    HAND WIDTH (INCHES)  HEIGHT W/O SHOES HEIGHT W/ SHOES STANDING REACH  \\\n",
       "0                  10.5             79.50       6' 8.75''         8' 9''   \n",
       "1                   8.5             71.75       6' 0.75''         8' 1''   \n",
       "2                     9             76.00       6' 5.25''       8' 6.5''   \n",
       "3                     -             80.00       6' 9.75''        8' 11''   \n",
       "4                  8.25             77.00          6' 6''       8' 7.5''   \n",
       "..                  ...               ...             ...            ...   \n",
       "214                9.25             75.25       6' 4.25''       8' 4.5''   \n",
       "215                   -             76.25       6' 5.25''         8' 4''   \n",
       "216                 9.5             77.50       6' 6.75''       8' 9.5''   \n",
       "217                 9.5             77.00          6' 6''       8' 6.5''   \n",
       "218                8.75             76.50       6' 5.75''         8' 4''   \n",
       "\n",
       "    WEIGHT (LBS)  WINGSPAN  ...  ORB  DRB  TRB  AST STL  BLK  TOV   PF   PTS  \\\n",
       "0          220.1     83.75  ...  103  338  441  215  50   36   94  116   833   \n",
       "1            187     79.50  ...   21  111  132  193  45   13   75  102   546   \n",
       "2          240.6     81.75  ...    6   28   34   14   8    3    7   41    83   \n",
       "3            246     84.75  ...   92  320  412  244  52   55   65  128   722   \n",
       "4          192.6     82.00  ...   43  219  262  171  58   17   85  120   891   \n",
       "..           ...       ...  ...  ...  ...  ...  ...  ..  ...  ...  ...   ...   \n",
       "214        213.2     81.25  ...    7   34   41   39  11    3   28   21   179   \n",
       "215        202.4     78.50  ...    4   61   65   44  13    4   18   41   183   \n",
       "216        193.4     85.00  ...   23   90  113   46  25   11   18   62   237   \n",
       "217        174.4     81.75  ...   76  289  365  212  61   29   88  121   874   \n",
       "218        180.9     80.25  ...   41  248  289  254  88   28  206  131  1530   \n",
       "\n",
       "     Tall_Short  \n",
       "0          Tall  \n",
       "1         Short  \n",
       "2          Tall  \n",
       "3          Tall  \n",
       "4         Short  \n",
       "..          ...  \n",
       "214       Short  \n",
       "215       Short  \n",
       "216       Short  \n",
       "217       Short  \n",
       "218       Short  \n",
       "\n",
       "[219 rows x 41 columns]"
      ]
     },
     "execution_count": 32,
     "metadata": {},
     "output_type": "execute_result"
    }
   ],
   "source": [
    "merged_data_df_copy"
   ]
  },
  {
   "cell_type": "code",
   "execution_count": 33,
   "metadata": {},
   "outputs": [],
   "source": [
    "\n",
    "tall_short_gb=merged_data_df_copy.groupby('Tall_Short')\n",
    "\n",
    "tall_short_avg=tall_short_gb[['FTA','FT%','2PA','2P%','3PA', '3P%']].mean()\n",
    "tall_short_avg.rename_axis(None,inplace=True)\n",
    "\n",
    "tall_short_med=tall_short_gb[['FTA','FT%','2PA','2P%','3PA', '3P%']].median()\n",
    "tall_short_med.rename_axis(None,inplace=True)"
   ]
  },
  {
   "cell_type": "code",
   "execution_count": 34,
   "metadata": {},
   "outputs": [
    {
     "data": {
      "image/png": "[encoded data removed]",
      "text/plain": [
       "<Figure size 432x288 with 1 Axes>"
      ]
     },
     "metadata": {
      "needs_background": "light"
     },
     "output_type": "display_data"
    }
   ],
   "source": [
    "tall_short_avg[['FTA','2PA','3PA']].plot(kind='bar', grid=True)\n",
    "plt.title('Average Number of Attempts')\n",
    "plt.xlabel(None)\n",
    "plt.show()"
   ]
  },
  {
   "cell_type": "code",
   "execution_count": 35,
   "metadata": {},
   "outputs": [
    {
     "data": {
      "image/png": "[encoded data removed]",
      "text/plain": [
       "<Figure size 432x288 with 1 Axes>"
      ]
     },
     "metadata": {
      "needs_background": "light"
     },
     "output_type": "display_data"
    }
   ],
   "source": [
    "tall_short_avg[['FT%','2P%','3P%']].plot(kind='bar', grid=True)\n",
    "plt.title('Average Percentage')\n",
    "plt.xlabel(None)\n",
    "plt.show()"
   ]
  },
  {
   "cell_type": "code",
   "execution_count": 36,
   "metadata": {},
   "outputs": [
    {
     "data": {
      "image/png": "[encoded data removed]",
      "text/plain": [
       "<Figure size 432x288 with 1 Axes>"
      ]
     },
     "metadata": {
      "needs_background": "light"
     },
     "output_type": "display_data"
    }
   ],
   "source": [
    "tall_short_med[['FTA','2PA','3PA']].plot(kind='bar', grid=True)\n",
    "plt.title('Median Number of Attempts')\n",
    "plt.xlabel(None)\n",
    "plt.show()"
   ]
  },
  {
   "cell_type": "code",
   "execution_count": 37,
   "metadata": {},
   "outputs": [
    {
     "data": {
      "image/png": "[encoded data removed]",
      "text/plain": [
       "<Figure size 432x288 with 1 Axes>"
      ]
     },
     "metadata": {
      "needs_background": "light"
     },
     "output_type": "display_data"
    }
   ],
   "source": [
    "tall_short_med[['FT%','2P%','3P%']].plot(kind='bar', grid=True)\n",
    "plt.title('Median Percentage')\n",
    "plt.xlabel(None)\n",
    "plt.show()"
   ]
  },
  {
   "cell_type": "code",
   "execution_count": 38,
   "metadata": {},
   "outputs": [
    {
     "data": {
      "text/html": [
       "<div>\n",
       "<style scoped>\n",
       "    .dataframe tbody tr th:only-of-type {\n",
       "        vertical-align: middle;\n",
       "    }\n",
       "\n",
       "    .dataframe tbody tr th {\n",
       "        vertical-align: top;\n",
       "    }\n",
       "\n",
       "    .dataframe thead th {\n",
       "        text-align: right;\n",
       "    }\n",
       "</style>\n",
       "<table border=\"1\" class=\"dataframe\">\n",
       "  <thead>\n",
       "    <tr style=\"text-align: right;\">\n",
       "      <th></th>\n",
       "      <th>FTA</th>\n",
       "      <th>2PA</th>\n",
       "      <th>3PA</th>\n",
       "    </tr>\n",
       "    <tr>\n",
       "      <th>Tall_Short</th>\n",
       "      <th></th>\n",
       "      <th></th>\n",
       "      <th></th>\n",
       "    </tr>\n",
       "  </thead>\n",
       "  <tbody>\n",
       "    <tr>\n",
       "      <th>Short</th>\n",
       "      <td>118.478632</td>\n",
       "      <td>280.341880</td>\n",
       "      <td>206.111111</td>\n",
       "    </tr>\n",
       "    <tr>\n",
       "      <th>Tall</th>\n",
       "      <td>109.372549</td>\n",
       "      <td>266.794118</td>\n",
       "      <td>152.676471</td>\n",
       "    </tr>\n",
       "  </tbody>\n",
       "</table>\n",
       "</div>"
      ],
      "text/plain": [
       "                   FTA         2PA         3PA\n",
       "Tall_Short                                    \n",
       "Short       118.478632  280.341880  206.111111\n",
       "Tall        109.372549  266.794118  152.676471"
      ]
     },
     "execution_count": 38,
     "metadata": {},
     "output_type": "execute_result"
    }
   ],
   "source": [
    "tall_short_gb[['FTA','2PA','3PA']].mean()"
   ]
  },
  {
   "cell_type": "code",
   "execution_count": 39,
   "metadata": {},
   "outputs": [
    {
     "data": {
      "image/png": "[encoded data removed]",
      "text/plain": [
       "<Figure size 432x288 with 1 Axes>"
      ]
     },
     "metadata": {
      "needs_background": "light"
     },
     "output_type": "display_data"
    }
   ],
   "source": [
    "N = 3\n",
    "tall_players_stats = (112.393939, 272.444444, 162.313131)\n",
    "short_players_stats = (115.758333, 275.341667, 196.825000)\n",
    "\n",
    "ind = np.arange(N) \n",
    "width = 0.30\n",
    "\n",
    "plt.bar(ind, tall_players_stats, width, label='Tall')\n",
    "plt.bar(ind + width, short_players_stats, width, label='Short')\n",
    "\n",
    "plt.title('Attempts')\n",
    "\n",
    "plt.xticks(ind + width / 2, ('Free Throws', '2 Points', '3 Points'))\n",
    "plt.legend(loc='best')\n",
    "plt.show()"
   ]
  },
  {
   "cell_type": "code",
   "execution_count": 40,
   "metadata": {},
   "outputs": [
    {
     "data": {
      "image/png": "[encoded data removed]",
      "text/plain": [
       "<Figure size 432x288 with 1 Axes>"
      ]
     },
     "metadata": {
      "needs_background": "light"
     },
     "output_type": "display_data"
    },
    {
     "data": {
      "image/png": "[encoded data removed]",
      "text/plain": [
       "<Figure size 432x288 with 1 Axes>"
      ]
     },
     "metadata": {
      "needs_background": "light"
     },
     "output_type": "display_data"
    },
    {
     "data": {
      "text/html": [
       "<div>\n",
       "<style scoped>\n",
       "    .dataframe tbody tr th:only-of-type {\n",
       "        vertical-align: middle;\n",
       "    }\n",
       "\n",
       "    .dataframe tbody tr th {\n",
       "        vertical-align: top;\n",
       "    }\n",
       "\n",
       "    .dataframe thead th {\n",
       "        text-align: right;\n",
       "    }\n",
       "</style>\n",
       "<table border=\"1\" class=\"dataframe\">\n",
       "  <thead>\n",
       "    <tr style=\"text-align: right;\">\n",
       "      <th></th>\n",
       "      <th>FTA</th>\n",
       "      <th>2PA</th>\n",
       "      <th>3PA</th>\n",
       "      <th>FT%</th>\n",
       "      <th>2P%</th>\n",
       "      <th>3P%</th>\n",
       "    </tr>\n",
       "  </thead>\n",
       "  <tbody>\n",
       "    <tr>\n",
       "      <th>Short</th>\n",
       "      <td>79.0</td>\n",
       "      <td>235.0</td>\n",
       "      <td>173.0</td>\n",
       "      <td>0.802</td>\n",
       "      <td>0.492</td>\n",
       "      <td>0.354</td>\n",
       "    </tr>\n",
       "    <tr>\n",
       "      <th>Tall</th>\n",
       "      <td>83.0</td>\n",
       "      <td>188.5</td>\n",
       "      <td>138.5</td>\n",
       "      <td>0.766</td>\n",
       "      <td>0.523</td>\n",
       "      <td>0.348</td>\n",
       "    </tr>\n",
       "  </tbody>\n",
       "</table>\n",
       "</div>"
      ],
      "text/plain": [
       "        FTA    2PA    3PA    FT%    2P%    3P%\n",
       "Short  79.0  235.0  173.0  0.802  0.492  0.354\n",
       "Tall   83.0  188.5  138.5  0.766  0.523  0.348"
      ]
     },
     "execution_count": 40,
     "metadata": {},
     "output_type": "execute_result"
    }
   ],
   "source": [
    "### Big Man Positions vs Average (Median)\n",
    "\n",
    "tall_short_med=tall_short_gb[['FTA','2PA','3PA','FT%','2P%','3P%']].median()\n",
    "tall_short_med.rename_axis(None,inplace=True)\n",
    "\n",
    "tall_short_med[['FTA','2PA','3PA']].plot(kind='bar', grid=True)\n",
    "plt.title('Median Number of Attempts')\n",
    "plt.xlabel(None)\n",
    "plt.show()\n",
    "\n",
    "tall_short_med[['FT%','2P%','3P%']].plot(kind='bar', grid=True)\n",
    "plt.title('Median Percentage')\n",
    "plt.xlabel(None)\n",
    "plt.show()\n",
    "\n",
    "tall_short_med"
   ]
  },
  {
   "cell_type": "code",
   "execution_count": null,
   "metadata": {},
   "outputs": [],
   "source": []
  }
 ],
 "metadata": {
  "kernelspec": {
   "display_name": "Python 3",
   "language": "python",
   "name": "python3"
  },
  "language_info": {
   "codemirror_mode": {
    "name": "ipython",
    "version": 3
   },
   "file_extension": ".py",
   "mimetype": "text/x-python",
   "name": "python",
   "nbconvert_exporter": "python",
   "pygments_lexer": "ipython3",
   "version": "3.7.7"
  }
 },
 "nbformat": 4,
 "nbformat_minor": 4
}
