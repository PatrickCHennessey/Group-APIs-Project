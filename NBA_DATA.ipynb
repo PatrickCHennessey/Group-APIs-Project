{
 "cells": [
  {
   "cell_type": "markdown",
   "metadata": {},
   "source": [
    "# NBA DATA ANALYSIS\n",
    "## Objective\n",
    "- H0: Taller NBA players do not have the ability to improve their overall seasonal performance\n",
    "- H1: Taller NBA players have the ability to improve their overall seasonal performance.\n",
    "- What we mean by this is do categorized taller NBA players have the ability to improve drastically in their weaker areas significantly as a shorter player who is stronger in those fields. Or is there no room for improvement and taller people generally have no chance of improvement. We are testing whether it is possible for improvement not whether it is optimal for team and seasonal performance.\n",
    "    - What is considered short or tall?  (Categorized) [Box plot]\n",
    "        - Shorter players are considered to be below 6'8 anything above is tall according to google.\n",
    "    - Compare Height/Wingspan to FT,2P,3P Percentage (Done - regressional analysis)\n",
    "        - Does Taking more Free throws lead to an increased FT%\n",
    "    - What are taller NBA players currently good at and what positions predominantly played (Test of mean)\n",
    "        - Centers, PF vs Small forward, Shooting, and Point guards \n",
    "    - Taller vs shorter players in the NBA (H0: Taller players are more dominant as centers compared to shorter players)\n",
    "        - Dominant in terms of Blocks, rebounds(O/D), steals\n",
    "    - Do they have the opportunity to play other positions rather than \"big men\" positions\n",
    "        - Look at point attempts for Centers, PF vs Small forward, Shooting, and Point guards and see if \n",
    "          'big men' should take more attempts"
   ]
  },
  {
   "cell_type": "markdown",
   "metadata": {},
   "source": [
    "## Notes\n",
    "- Merged Data only considers players who have above FTA and have a reported Height and Wingspan from the combine data to be eligible for comparision.\n",
    "- To account for error there are Players who have a reported Height but was not reported in combine data"
   ]
  },
  {
   "cell_type": "code",
   "execution_count": 107,
   "metadata": {},
   "outputs": [],
   "source": [
    "import numpy as np\n",
    "import pandas as pd\n",
    "import matplotlib.pyplot as plt\n",
    "from scipy.stats import linregress\n",
    "import scipy.stats as st"
   ]
  },
  {
   "cell_type": "markdown",
   "metadata": {},
   "source": [
    "### Read In CSVs"
   ]
  },
  {
   "cell_type": "code",
   "execution_count": 108,
   "metadata": {},
   "outputs": [],
   "source": [
    "raw_combine_data=pd.read_csv('Resources/raw_combine_data.csv')\n",
    "raw_nba_data=pd.read_csv('Resources/raw_nba_data.csv')"
   ]
  },
  {
   "cell_type": "markdown",
   "metadata": {},
   "source": [
    "### Finding Duplicates"
   ]
  },
  {
   "cell_type": "code",
   "execution_count": 109,
   "metadata": {},
   "outputs": [],
   "source": [
    "nba_duplicates=raw_nba_data[raw_nba_data.duplicated(['PLAYER'])]\n",
    "combine_duplicates=raw_combine_data[raw_combine_data.duplicated(['PLAYER'])]"
   ]
  },
  {
   "cell_type": "markdown",
   "metadata": {},
   "source": [
    "### Drop Duplicates from Dataframes"
   ]
  },
  {
   "cell_type": "code",
   "execution_count": 110,
   "metadata": {},
   "outputs": [],
   "source": [
    "dropped_combine_data=raw_combine_data.drop_duplicates(subset='PLAYER',keep='first')\n",
    "dropped_nba_data=raw_nba_data.drop_duplicates(subset='PLAYER',keep='first')"
   ]
  },
  {
   "cell_type": "markdown",
   "metadata": {},
   "source": [
    "### Merge DataFrames"
   ]
  },
  {
   "cell_type": "code",
   "execution_count": 111,
   "metadata": {},
   "outputs": [],
   "source": [
    "merged_data_df=dropped_combine_data.merge(dropped_nba_data, on='PLAYER')"
   ]
  },
  {
   "cell_type": "markdown",
   "metadata": {},
   "source": [
    "### Remove Players Who Didn't Take Enough Shots to Include in Analysis"
   ]
  },
  {
   "cell_type": "code",
   "execution_count": 112,
   "metadata": {},
   "outputs": [],
   "source": [
    "merged_data_df=merged_data_df[merged_data_df['3PA']>10]\n",
    "merged_data_df=merged_data_df[merged_data_df['2PA']>10]\n",
    "merged_data_df=merged_data_df[merged_data_df['FTA']>10]"
   ]
  },
  {
   "cell_type": "markdown",
   "metadata": {},
   "source": [
    "### Drop Rows w/ Missing Wingspan & Height Data"
   ]
  },
  {
   "cell_type": "code",
   "execution_count": 113,
   "metadata": {},
   "outputs": [],
   "source": [
    "merged_data_df=merged_data_df.dropna(subset=['WINGSPAN'])\n",
    "merged_data_df=merged_data_df.dropna(subset=['HEIGHT\\xa0W/O\\xa0SHOES'])\n",
    "\n",
    "merged_data_df.reset_index(inplace=True)\n",
    "merged_data_df.drop(axis=1, labels='index', inplace=True)"
   ]
  },
  {
   "cell_type": "markdown",
   "metadata": {},
   "source": [
    "### Export as CSV"
   ]
  },
  {
   "cell_type": "code",
   "execution_count": 114,
   "metadata": {},
   "outputs": [],
   "source": [
    "merged_data_df.to_csv(\"Resources/merged_data.csv\",index=False)"
   ]
  },
  {
   "cell_type": "markdown",
   "metadata": {},
   "source": [
    "### Finding Outliers for 2PA, 3PA, FTA"
   ]
  },
  {
   "cell_type": "code",
   "execution_count": 115,
   "metadata": {},
   "outputs": [
    {
     "data": {
      "text/html": [
       "<div>\n",
       "<style scoped>\n",
       "    .dataframe tbody tr th:only-of-type {\n",
       "        vertical-align: middle;\n",
       "    }\n",
       "\n",
       "    .dataframe tbody tr th {\n",
       "        vertical-align: top;\n",
       "    }\n",
       "\n",
       "    .dataframe thead th {\n",
       "        text-align: right;\n",
       "    }\n",
       "</style>\n",
       "<table border=\"1\" class=\"dataframe\">\n",
       "  <thead>\n",
       "    <tr style=\"text-align: right;\">\n",
       "      <th></th>\n",
       "      <th>2PA</th>\n",
       "      <th>FTA</th>\n",
       "      <th>3PA</th>\n",
       "    </tr>\n",
       "  </thead>\n",
       "  <tbody>\n",
       "    <tr>\n",
       "      <th>Lower Quartile</th>\n",
       "      <td>110.5</td>\n",
       "      <td>42.5</td>\n",
       "      <td>78.5</td>\n",
       "    </tr>\n",
       "    <tr>\n",
       "      <th>Median</th>\n",
       "      <td>215</td>\n",
       "      <td>83</td>\n",
       "      <td>154</td>\n",
       "    </tr>\n",
       "    <tr>\n",
       "      <th>Upper Quartile</th>\n",
       "      <td>371.5</td>\n",
       "      <td>142.5</td>\n",
       "      <td>248</td>\n",
       "    </tr>\n",
       "    <tr>\n",
       "      <th>IQR</th>\n",
       "      <td>261</td>\n",
       "      <td>100</td>\n",
       "      <td>169.5</td>\n",
       "    </tr>\n",
       "    <tr>\n",
       "      <th>Lower Bound</th>\n",
       "      <td>-281</td>\n",
       "      <td>-107.5</td>\n",
       "      <td>-175.75</td>\n",
       "    </tr>\n",
       "    <tr>\n",
       "      <th>Upper Bound</th>\n",
       "      <td>763</td>\n",
       "      <td>292.5</td>\n",
       "      <td>502.25</td>\n",
       "    </tr>\n",
       "    <tr>\n",
       "      <th>Std</th>\n",
       "      <td>214.517</td>\n",
       "      <td>110.703</td>\n",
       "      <td>130.481</td>\n",
       "    </tr>\n",
       "  </tbody>\n",
       "</table>\n",
       "</div>"
      ],
      "text/plain": [
       "                    2PA      FTA      3PA\n",
       "Lower Quartile    110.5     42.5     78.5\n",
       "Median              215       83      154\n",
       "Upper Quartile    371.5    142.5      248\n",
       "IQR                 261      100    169.5\n",
       "Lower Bound        -281   -107.5  -175.75\n",
       "Upper Bound         763    292.5   502.25\n",
       "Std             214.517  110.703  130.481"
      ]
     },
     "execution_count": 115,
     "metadata": {},
     "output_type": "execute_result"
    }
   ],
   "source": [
    "# Calculate the IQR and quantitatively determine if there are any potential outliers and append them to a dataframe\n",
    "df=pd.DataFrame({'2PA':[\"\",\"\",\"\",\"\",\"\",\"\",\"\"],\n",
    "                 'FTA':[\"\",\"\",\"\",\"\",\"\",\"\",\"\"],\n",
    "                 '3PA':[\"\",\"\",\"\",\"\",\"\",\"\",\"\"]\n",
    "                })\n",
    "df=df.set_index(keys=[[\"Lower Quartile\",\"Median\",\"Upper Quartile\",\"IQR\",\"Lower Bound\",\"Upper Bound\",\"Std\"]]) #set index\n",
    "\n",
    "for data in df:\n",
    "    quartiles = merged_data_df[data].quantile([.25,.5,.75])\n",
    "    lowerq = quartiles[0.25]\n",
    "    median= quartiles[0.5]\n",
    "    upperq = quartiles[0.75]\n",
    "    iqr = upperq-lowerq\n",
    "    lower_bound = lowerq - (1.5*iqr)\n",
    "    upper_bound = upperq + (1.5*iqr)\n",
    "    df[data][0]=lowerq\n",
    "    df[data][1]=median\n",
    "    df[data][2]=upperq\n",
    "    df[data][3]=iqr\n",
    "    df[data][4]=lower_bound\n",
    "    df[data][5]=upper_bound\n",
    "    df[data][6]=merged_data_df[data].std()\n",
    "df"
   ]
  },
  {
   "cell_type": "markdown",
   "metadata": {},
   "source": [
    "### Wingspan Conversion to Inches"
   ]
  },
  {
   "cell_type": "code",
   "execution_count": 116,
   "metadata": {},
   "outputs": [],
   "source": [
    "wingspan = []\n",
    "wingspan_convert=[]\n",
    "\n",
    "wingspan = merged_data_df['WINGSPAN']\n",
    "wingspan_list = wingspan.tolist()\n",
    "for wingspan in wingspan_list:\n",
    "    wingspan_cleaned = wingspan.strip(\"'\").split(\"'\")\n",
    "    wingspan_convert.append((int(wingspan_cleaned[0])*12)+(float(wingspan_cleaned[1])))\n",
    "\n",
    "merged_data_df['WINGSPAN']=wingspan_convert"
   ]
  },
  {
   "cell_type": "markdown",
   "metadata": {},
   "source": [
    "### Height w/o Shoes Conversion to Inches"
   ]
  },
  {
   "cell_type": "code",
   "execution_count": 117,
   "metadata": {},
   "outputs": [],
   "source": [
    "height_wo_shoes = []\n",
    "height_wo_shoes_convert=[]\n",
    "\n",
    "height_wo_shoes = merged_data_df['HEIGHT\\xa0W/O\\xa0SHOES']\n",
    "height_wo_shoes_list = height_wo_shoes.tolist()\n",
    "height_wo_shoes_list\n",
    "for height in height_wo_shoes_list:\n",
    "    height_cleaned = str(height).strip(\" ' \").split(\"'\")\n",
    "    height_wo_shoes_convert.append((int(height_cleaned[0])*12)+(float(height_cleaned[1])))\n",
    "    \n",
    "merged_data_df['HEIGHT\\xa0W/O\\xa0SHOES']=height_wo_shoes_convert"
   ]
  },
  {
   "cell_type": "markdown",
   "metadata": {},
   "source": [
    "# Scatter Plots"
   ]
  },
  {
   "cell_type": "markdown",
   "metadata": {},
   "source": [
    "## Wingspan vs. Free Throws"
   ]
  },
  {
   "cell_type": "code",
   "execution_count": 118,
   "metadata": {
    "tags": []
   },
   "outputs": [
    {
     "data": {
      "image/png": "[encoded data removed]",
      "text/plain": [
       "<Figure size 432x288 with 1 Axes>"
      ]
     },
     "metadata": {
      "needs_background": "light"
     },
     "output_type": "display_data"
    },
    {
     "name": "stdout",
     "output_type": "stream",
     "text": [
      "The line of best fit is : y = -0.01x + 1.45\n",
      "The correlation between both factors is -0.3\n"
     ]
    }
   ],
   "source": [
    "(slope, intercept, rvalue, pvalue, stderr) = linregress(wingspan_convert, merged_data_df['FT%'] )\n",
    "regress_values = np.array(wingspan_convert) * slope + intercept\n",
    "line_eq = \"y = \" + str(round(slope,2)) + \"x + \" + str(round(intercept,2))\n",
    "\n",
    "plt.plot(wingspan_convert,regress_values, color='red')\n",
    "plt.scatter(x=wingspan_convert, y=merged_data_df['FT%'])\n",
    "plt.ylabel('Free Throw (%)')\n",
    "plt.xlabel('Wingspan (inches)')\n",
    "plt.title(\"Wingspan vs FT(%)\")\n",
    "plt.show()\n",
    "print(f\"The line of best fit is : {line_eq}\")\n",
    "correlation = st.pearsonr(wingspan_convert,merged_data_df['FT%'])\n",
    "print(f\"The correlation between both factors is {round(correlation[0],2)}\")"
   ]
  },
  {
   "cell_type": "markdown",
   "metadata": {},
   "source": [
    "## Wingspan vs. 2P%"
   ]
  },
  {
   "cell_type": "code",
   "execution_count": 119,
   "metadata": {
    "tags": []
   },
   "outputs": [
    {
     "data": {
      "image/png": "[encoded data removed]",
      "text/plain": [
       "<Figure size 432x288 with 1 Axes>"
      ]
     },
     "metadata": {
      "needs_background": "light"
     },
     "output_type": "display_data"
    },
    {
     "name": "stdout",
     "output_type": "stream",
     "text": [
      "The line of best fit is : y = 0.01x + 0.08\n",
      "The correlation between both factors is 0.27\n"
     ]
    }
   ],
   "source": [
    "\n",
    "(slope, intercept, rvalue, pvalue, stderr) = linregress(wingspan_convert, merged_data_df['2P%'] )\n",
    "regress_values = np.array(wingspan_convert) * slope + intercept\n",
    "line_eq = \"y = \" + str(round(slope,2)) + \"x + \" + str(round(intercept,2))\n",
    "\n",
    "plt.plot(wingspan_convert,regress_values, color='red')\n",
    "plt.scatter(x=wingspan_convert, y=merged_data_df['2P%'])\n",
    "plt.ylabel('2 Point (%)')\n",
    "plt.xlabel('Wingspan (inches)')\n",
    "plt.title(\"Wingspan vs 2P(%)\")\n",
    "plt.show()\n",
    "print(f\"The line of best fit is : {line_eq}\")\n",
    "correlation = st.pearsonr(wingspan_convert,merged_data_df['2P%'])\n",
    "print(f\"The correlation between both factors is {round(correlation[0],2)}\")"
   ]
  },
  {
   "cell_type": "markdown",
   "metadata": {},
   "source": [
    "## Wingspan vs. 3P%"
   ]
  },
  {
   "cell_type": "code",
   "execution_count": 120,
   "metadata": {
    "tags": []
   },
   "outputs": [
    {
     "data": {
      "image/png": "[encoded data removed]",
      "text/plain": [
       "<Figure size 432x288 with 1 Axes>"
      ]
     },
     "metadata": {
      "needs_background": "light"
     },
     "output_type": "display_data"
    },
    {
     "name": "stdout",
     "output_type": "stream",
     "text": [
      "The line of best fit is : y = -0.01x + 0.76\n",
      "The correlation between both factors is -0.25\n"
     ]
    }
   ],
   "source": [
    "(slope, intercept, rvalue, pvalue, stderr) = linregress(wingspan_convert, merged_data_df['3P%'] )\n",
    "regress_values = np.array(wingspan_convert) * slope + intercept\n",
    "line_eq = \"y = \" + str(round(slope,2)) + \"x + \" + str(round(intercept,2))\n",
    "\n",
    "plt.plot(wingspan_convert,regress_values,color='red')\n",
    "plt.scatter(x=wingspan_convert, y=merged_data_df['3P%'])\n",
    "plt.ylabel('3 Point (%)')\n",
    "plt.xlabel('Wingspan (inches)')\n",
    "plt.title(\"Wingspan vs 3P(%)\")\n",
    "plt.show()\n",
    "print(f\"The line of best fit is : {line_eq}\")\n",
    "correlation = st.pearsonr(wingspan_convert,merged_data_df['3P%'])\n",
    "print(f\"The correlation between both factors is {round(correlation[0],2)}\")"
   ]
  },
  {
   "cell_type": "markdown",
   "metadata": {},
   "source": [
    "## Height vs. FT%"
   ]
  },
  {
   "cell_type": "code",
   "execution_count": 121,
   "metadata": {},
   "outputs": [
    {
     "data": {
      "image/png": "[encoded data removed]",
      "text/plain": [
       "<Figure size 432x288 with 1 Axes>"
      ]
     },
     "metadata": {
      "needs_background": "light"
     },
     "output_type": "display_data"
    }
   ],
   "source": [
    "(correlation_coefficient) = st.pearsonr(height_wo_shoes_convert, merged_data_df['FT%'])[0]\n",
    "(slope, intercept, r_value, p_value, standard_error) = st.linregress(height_wo_shoes_convert, merged_data_df['FT%'])\n",
    "\n",
    "#Slope formula 'y=mx+b'\n",
    "y = slope * np.array(height_wo_shoes_convert) + intercept\n",
    "\n",
    "plt.scatter(x = height_wo_shoes_convert, y = merged_data_df['FT%'], color = \"purple\")\n",
    "plt.xlabel('Height (inches)')\n",
    "plt.ylabel('Free Throw (%)')\n",
    "plt.title('Height vs. FT(%)')\n",
    "\n",
    "plt.plot(height_wo_shoes_convert, y, color = 'red')\n",
    "plt.show()"
   ]
  },
  {
   "cell_type": "markdown",
   "metadata": {},
   "source": [
    "## Height vs. 2P%"
   ]
  },
  {
   "cell_type": "code",
   "execution_count": 122,
   "metadata": {},
   "outputs": [
    {
     "data": {
      "image/png": "[encoded data removed]",
      "text/plain": [
       "<Figure size 432x288 with 1 Axes>"
      ]
     },
     "metadata": {
      "needs_background": "light"
     },
     "output_type": "display_data"
    }
   ],
   "source": [
    "\n",
    "\n",
    "(correlation_coefficient) = st.pearsonr(height_wo_shoes_convert, merged_data_df['2P%'])[0]\n",
    "(slope, intercept, r_value, p_value, standard_error) = st.linregress(height_wo_shoes_convert, merged_data_df['2P%'])\n",
    "\n",
    "#Slope formula 'y=mx+b'\n",
    "y = slope * np.array(height_wo_shoes_convert) + intercept\n",
    "\n",
    "plt.scatter(x = height_wo_shoes_convert, y = merged_data_df['2P%'], color = \"purple\")\n",
    "plt.xlabel('Height (inches)')\n",
    "plt.ylabel('2 Point (%)')\n",
    "plt.title('Height vs. 2P(%)')\n",
    "\n",
    "plt.plot(height_wo_shoes_convert, y, color = 'red')\n",
    "plt.show()"
   ]
  },
  {
   "cell_type": "markdown",
   "metadata": {},
   "source": [
    "## Height vs. 3P%"
   ]
  },
  {
   "cell_type": "code",
   "execution_count": 123,
   "metadata": {},
   "outputs": [
    {
     "data": {
      "image/png": "[encoded data removed]",
      "text/plain": [
       "<Figure size 432x288 with 1 Axes>"
      ]
     },
     "metadata": {
      "needs_background": "light"
     },
     "output_type": "display_data"
    }
   ],
   "source": [
    "\n",
    "(correlation_coefficient) = st.pearsonr(height_wo_shoes_convert, merged_data_df['3P%'])[0]\n",
    "(slope, intercept, r_value, p_value, standard_error) = st.linregress(height_wo_shoes_convert, merged_data_df['3P%'])\n",
    "\n",
    "#Slope formula 'y=mx+b'\n",
    "y = slope * np.array(height_wo_shoes_convert) + intercept\n",
    "\n",
    "plt.scatter(x = height_wo_shoes_convert, y = merged_data_df['3P%'], color = \"purple\")\n",
    "plt.xlabel('Height (inches)')\n",
    "plt.ylabel('3 Point (%)')\n",
    "plt.title('Height vs. 3P(%)')\n",
    "\n",
    "plt.plot(height_wo_shoes_convert, y, color = 'red')\n",
    "plt.show()"
   ]
  },
  {
   "cell_type": "code",
   "execution_count": 124,
   "metadata": {},
   "outputs": [],
   "source": [
    "ratio_wing_over_height = []\n",
    "\n",
    "for i in range(len(wingspan_convert)):\n",
    "    ratio_wing_over_height.append(wingspan_convert[i] / height_wo_shoes_convert[i])"
   ]
  },
  {
   "cell_type": "markdown",
   "metadata": {},
   "source": [
    "## Ratio vs. FT%"
   ]
  },
  {
   "cell_type": "code",
   "execution_count": 125,
   "metadata": {},
   "outputs": [
    {
     "data": {
      "image/png": "[encoded data removed]",
      "text/plain": [
       "<Figure size 432x288 with 1 Axes>"
      ]
     },
     "metadata": {
      "needs_background": "light"
     },
     "output_type": "display_data"
    }
   ],
   "source": [
    "plt.scatter(ratio_wing_over_height,merged_data_df[\"FT%\"])\n",
    "\n",
    "correlation_coefficient = st.pearsonr(ratio_wing_over_height, merged_data_df['FT%'])[0]\n",
    "(slope, intercept, r_value, p_value, standard_error) = st.linregress(ratio_wing_over_height, merged_data_df['FT%'])\n",
    "\n",
    "y = slope * np.array(ratio_wing_over_height) + intercept\n",
    "\n",
    "plt.scatter(x = ratio_wing_over_height, y = merged_data_df['FT%'])\n",
    "plt.xlabel('Ratio (wingspan / height)')\n",
    "plt.ylabel('Free Throw (%)')\n",
    "plt.title('Ratio vs. FT(%)')\n",
    "\n",
    "plt.plot(ratio_wing_over_height, y, color = 'red')\n",
    "plt.show()"
   ]
  },
  {
   "cell_type": "markdown",
   "metadata": {},
   "source": [
    "## Ratio vs. 2P%"
   ]
  },
  {
   "cell_type": "code",
   "execution_count": 126,
   "metadata": {},
   "outputs": [
    {
     "data": {
      "image/png": "[encoded data removed]",
      "text/plain": [
       "<Figure size 432x288 with 1 Axes>"
      ]
     },
     "metadata": {
      "needs_background": "light"
     },
     "output_type": "display_data"
    }
   ],
   "source": [
    "plt.scatter(ratio_wing_over_height,merged_data_df[\"2P%\"])\n",
    "\n",
    "correlation_coefficient = st.pearsonr(ratio_wing_over_height, merged_data_df['2P%'])[0]\n",
    "(slope, intercept, r_value, p_value, standard_error) = st.linregress(ratio_wing_over_height, merged_data_df['2P%'])\n",
    "\n",
    "y = slope * np.array(ratio_wing_over_height) + intercept\n",
    "\n",
    "plt.scatter(x = ratio_wing_over_height, y = merged_data_df['2P%'])\n",
    "plt.xlabel('Ratio (wingspan / height)')\n",
    "plt.ylabel('2 Point (%)')\n",
    "plt.title('Ratio vs. 2P(%)')\n",
    "\n",
    "plt.plot(ratio_wing_over_height, y, color = 'red')\n",
    "plt.show()"
   ]
  },
  {
   "cell_type": "markdown",
   "metadata": {},
   "source": [
    "## Ratio vs. 3P%"
   ]
  },
  {
   "cell_type": "code",
   "execution_count": 127,
   "metadata": {},
   "outputs": [
    {
     "data": {
      "image/png": "[encoded data removed]",
      "text/plain": [
       "<Figure size 432x288 with 1 Axes>"
      ]
     },
     "metadata": {
      "needs_background": "light"
     },
     "output_type": "display_data"
    }
   ],
   "source": [
    "\n",
    "plt.scatter(ratio_wing_over_height,merged_data_df[\"3P%\"])\n",
    "\n",
    "(correlation_coefficient) = st.pearsonr(ratio_wing_over_height, merged_data_df['3P%'])[0]\n",
    "(slope, intercept, r_value, p_value, standard_error) = st.linregress(ratio_wing_over_height, merged_data_df['3P%'])\n",
    "\n",
    "y = slope * np.array(ratio_wing_over_height) + intercept\n",
    "\n",
    "plt.scatter(x = ratio_wing_over_height, y = merged_data_df['3P%'])\n",
    "plt.xlabel('Ratio (wingspan / height)')\n",
    "plt.ylabel('3 Point (%)')\n",
    "plt.title('Ratio vs. 3P(%)')\n",
    "\n",
    "plt.plot(ratio_wing_over_height, y, color = 'red')\n",
    "plt.show()"
   ]
  },
  {
   "cell_type": "markdown",
   "metadata": {},
   "source": [
    "## SEASON STAT ANALYSIS:"
   ]
  },
  {
   "cell_type": "code",
   "execution_count": 177,
   "metadata": {},
   "outputs": [],
   "source": [
    "season_data_df = pd.read_csv('Resources/season_data_height.csv')\n",
    "merged2_df = season_data_df.merge(dropped_combine_data, on = \"PLAYER\")\n",
    "merged2_df.to_csv(\"Resources/merged2.csv\", index = False)\n",
    "\n",
    "merged3_df = dropped_nba_data.merge(season_data_df)\n",
    "merged3_df.to_csv('Resources/merged3.csv', index = False)"
   ]
  },
  {
   "cell_type": "code",
   "execution_count": 54,
   "metadata": {},
   "outputs": [
    {
     "name": "stdout",
     "output_type": "stream",
     "text": [
      "Total Rows/Columns NBA Stats (514, 31)\n",
      "Total Rows/Columns Combined Data (1327, 10)\n"
     ]
    },
    {
     "data": {
      "text/html": [
       "<div>\n",
       "<style scoped>\n",
       "    .dataframe tbody tr th:only-of-type {\n",
       "        vertical-align: middle;\n",
       "    }\n",
       "\n",
       "    .dataframe tbody tr th {\n",
       "        vertical-align: top;\n",
       "    }\n",
       "\n",
       "    .dataframe thead th {\n",
       "        text-align: right;\n",
       "    }\n",
       "</style>\n",
       "<table border=\"1\" class=\"dataframe\">\n",
       "  <thead>\n",
       "    <tr style=\"text-align: right;\">\n",
       "      <th></th>\n",
       "      <th>Rk</th>\n",
       "      <th>PLAYER</th>\n",
       "      <th>Unnamed: 2</th>\n",
       "      <th>Pos</th>\n",
       "      <th>Age</th>\n",
       "      <th>Tm</th>\n",
       "      <th>G</th>\n",
       "      <th>GS</th>\n",
       "      <th>MP</th>\n",
       "      <th>FG</th>\n",
       "      <th>...</th>\n",
       "      <th>FT%</th>\n",
       "      <th>ORB</th>\n",
       "      <th>DRB</th>\n",
       "      <th>TRB</th>\n",
       "      <th>AST</th>\n",
       "      <th>STL</th>\n",
       "      <th>BLK</th>\n",
       "      <th>TOV</th>\n",
       "      <th>PF</th>\n",
       "      <th>PTS</th>\n",
       "    </tr>\n",
       "  </thead>\n",
       "  <tbody>\n",
       "    <tr>\n",
       "      <th>0</th>\n",
       "      <td>173</td>\n",
       "      <td>Aaron Gordon</td>\n",
       "      <td>gordoaa01</td>\n",
       "      <td>PF</td>\n",
       "      <td>24</td>\n",
       "      <td>ORL</td>\n",
       "      <td>58</td>\n",
       "      <td>58</td>\n",
       "      <td>1914</td>\n",
       "      <td>314</td>\n",
       "      <td>...</td>\n",
       "      <td>0.675</td>\n",
       "      <td>103</td>\n",
       "      <td>338</td>\n",
       "      <td>441</td>\n",
       "      <td>215</td>\n",
       "      <td>50</td>\n",
       "      <td>36</td>\n",
       "      <td>94</td>\n",
       "      <td>116</td>\n",
       "      <td>833</td>\n",
       "    </tr>\n",
       "    <tr>\n",
       "      <th>1</th>\n",
       "      <td>216</td>\n",
       "      <td>Aaron Holiday</td>\n",
       "      <td>holidaa01</td>\n",
       "      <td>PG</td>\n",
       "      <td>23</td>\n",
       "      <td>IND</td>\n",
       "      <td>58</td>\n",
       "      <td>26</td>\n",
       "      <td>1368</td>\n",
       "      <td>202</td>\n",
       "      <td>...</td>\n",
       "      <td>0.861</td>\n",
       "      <td>21</td>\n",
       "      <td>111</td>\n",
       "      <td>132</td>\n",
       "      <td>193</td>\n",
       "      <td>45</td>\n",
       "      <td>13</td>\n",
       "      <td>75</td>\n",
       "      <td>102</td>\n",
       "      <td>546</td>\n",
       "    </tr>\n",
       "    <tr>\n",
       "      <th>2</th>\n",
       "      <td>355</td>\n",
       "      <td>Abdel Nader</td>\n",
       "      <td>naderab01</td>\n",
       "      <td>SF</td>\n",
       "      <td>26</td>\n",
       "      <td>OKC</td>\n",
       "      <td>48</td>\n",
       "      <td>5</td>\n",
       "      <td>756</td>\n",
       "      <td>100</td>\n",
       "      <td>...</td>\n",
       "      <td>0.774</td>\n",
       "      <td>14</td>\n",
       "      <td>76</td>\n",
       "      <td>90</td>\n",
       "      <td>35</td>\n",
       "      <td>20</td>\n",
       "      <td>20</td>\n",
       "      <td>36</td>\n",
       "      <td>65</td>\n",
       "      <td>287</td>\n",
       "    </tr>\n",
       "    <tr>\n",
       "      <th>3</th>\n",
       "      <td>338</td>\n",
       "      <td>Adam Mokoka</td>\n",
       "      <td>mokokad01</td>\n",
       "      <td>SG</td>\n",
       "      <td>21</td>\n",
       "      <td>CHI</td>\n",
       "      <td>11</td>\n",
       "      <td>0</td>\n",
       "      <td>112</td>\n",
       "      <td>12</td>\n",
       "      <td>...</td>\n",
       "      <td>0.500</td>\n",
       "      <td>7</td>\n",
       "      <td>3</td>\n",
       "      <td>10</td>\n",
       "      <td>4</td>\n",
       "      <td>4</td>\n",
       "      <td>0</td>\n",
       "      <td>2</td>\n",
       "      <td>17</td>\n",
       "      <td>32</td>\n",
       "    </tr>\n",
       "    <tr>\n",
       "      <th>4</th>\n",
       "      <td>429</td>\n",
       "      <td>Admiral Schofield</td>\n",
       "      <td>schofad01</td>\n",
       "      <td>SF</td>\n",
       "      <td>22</td>\n",
       "      <td>WAS</td>\n",
       "      <td>27</td>\n",
       "      <td>2</td>\n",
       "      <td>293</td>\n",
       "      <td>30</td>\n",
       "      <td>...</td>\n",
       "      <td>0.692</td>\n",
       "      <td>6</td>\n",
       "      <td>28</td>\n",
       "      <td>34</td>\n",
       "      <td>14</td>\n",
       "      <td>8</td>\n",
       "      <td>3</td>\n",
       "      <td>7</td>\n",
       "      <td>41</td>\n",
       "      <td>83</td>\n",
       "    </tr>\n",
       "  </tbody>\n",
       "</table>\n",
       "<p>5 rows × 31 columns</p>\n",
       "</div>"
      ],
      "text/plain": [
       "    Rk             PLAYER Unnamed: 2 Pos  Age   Tm   G  GS    MP   FG  ...  \\\n",
       "0  173       Aaron Gordon  gordoaa01  PF   24  ORL  58  58  1914  314  ...   \n",
       "1  216      Aaron Holiday  holidaa01  PG   23  IND  58  26  1368  202  ...   \n",
       "2  355        Abdel Nader  naderab01  SF   26  OKC  48   5   756  100  ...   \n",
       "3  338        Adam Mokoka  mokokad01  SG   21  CHI  11   0   112   12  ...   \n",
       "4  429  Admiral Schofield  schofad01  SF   22  WAS  27   2   293   30  ...   \n",
       "\n",
       "     FT%  ORB  DRB  TRB  AST  STL  BLK  TOV   PF  PTS  \n",
       "0  0.675  103  338  441  215   50   36   94  116  833  \n",
       "1  0.861   21  111  132  193   45   13   75  102  546  \n",
       "2  0.774   14   76   90   35   20   20   36   65  287  \n",
       "3  0.500    7    3   10    4    4    0    2   17   32  \n",
       "4  0.692    6   28   34   14    8    3    7   41   83  \n",
       "\n",
       "[5 rows x 31 columns]"
      ]
     },
     "execution_count": 54,
     "metadata": {},
     "output_type": "execute_result"
    }
   ],
   "source": [
    "print(\"Total Rows/Columns NBA Stats\", dropped_nba_data.shape)\n",
    "print(\"Total Rows/Columns Combined Data\", dropped_combine_data.shape)\n",
    "dropped_nba_data.head()"
   ]
  },
  {
   "cell_type": "code",
   "execution_count": 150,
   "metadata": {},
   "outputs": [
    {
     "data": {
      "text/html": [
       "<div>\n",
       "<style scoped>\n",
       "    .dataframe tbody tr th:only-of-type {\n",
       "        vertical-align: middle;\n",
       "    }\n",
       "\n",
       "    .dataframe tbody tr th {\n",
       "        vertical-align: top;\n",
       "    }\n",
       "\n",
       "    .dataframe thead th {\n",
       "        text-align: right;\n",
       "    }\n",
       "</style>\n",
       "<table border=\"1\" class=\"dataframe\">\n",
       "  <thead>\n",
       "    <tr style=\"text-align: right;\">\n",
       "      <th></th>\n",
       "      <th>PLAYER</th>\n",
       "      <th>TEAM</th>\n",
       "      <th>AGE</th>\n",
       "      <th>HEIGHT</th>\n",
       "      <th>WEIGHT</th>\n",
       "      <th>COUNTRY</th>\n",
       "      <th>DRAFT YEAR</th>\n",
       "      <th>DRAFT ROUND</th>\n",
       "      <th>DRAFT NUMBER</th>\n",
       "      <th>GP</th>\n",
       "      <th>PTS</th>\n",
       "      <th>REB</th>\n",
       "      <th>AST</th>\n",
       "      <th>NETRTG</th>\n",
       "      <th>OREB%</th>\n",
       "      <th>DREB%</th>\n",
       "      <th>USG%</th>\n",
       "      <th>TS%</th>\n",
       "      <th>AST%</th>\n",
       "    </tr>\n",
       "  </thead>\n",
       "  <tbody>\n",
       "    <tr>\n",
       "      <th>150</th>\n",
       "      <td>Enes Kanter</td>\n",
       "      <td>BOS</td>\n",
       "      <td>28</td>\n",
       "      <td>6'10</td>\n",
       "      <td>250</td>\n",
       "      <td>Turkey</td>\n",
       "      <td>2011</td>\n",
       "      <td>1</td>\n",
       "      <td>3</td>\n",
       "      <td>51</td>\n",
       "      <td>8.2</td>\n",
       "      <td>7.7</td>\n",
       "      <td>1.0</td>\n",
       "      <td>8.3</td>\n",
       "      <td>15.00%</td>\n",
       "      <td>26.60%</td>\n",
       "      <td>18.50%</td>\n",
       "      <td>59.40%</td>\n",
       "      <td>8.20%</td>\n",
       "    </tr>\n",
       "    <tr>\n",
       "      <th>312</th>\n",
       "      <td>Langston Galloway</td>\n",
       "      <td>DET</td>\n",
       "      <td>28</td>\n",
       "      <td>6'1</td>\n",
       "      <td>200</td>\n",
       "      <td>USA</td>\n",
       "      <td>Undrafted</td>\n",
       "      <td>Undrafted</td>\n",
       "      <td>Undrafted</td>\n",
       "      <td>66</td>\n",
       "      <td>10.3</td>\n",
       "      <td>2.3</td>\n",
       "      <td>1.5</td>\n",
       "      <td>4.4</td>\n",
       "      <td>1.90%</td>\n",
       "      <td>6.80%</td>\n",
       "      <td>14.90%</td>\n",
       "      <td>58.40%</td>\n",
       "      <td>8.90%</td>\n",
       "    </tr>\n",
       "    <tr>\n",
       "      <th>472</th>\n",
       "      <td>Tony Snell</td>\n",
       "      <td>DET</td>\n",
       "      <td>28</td>\n",
       "      <td>6'6</td>\n",
       "      <td>213</td>\n",
       "      <td>USA</td>\n",
       "      <td>2013</td>\n",
       "      <td>1</td>\n",
       "      <td>20</td>\n",
       "      <td>59</td>\n",
       "      <td>8.0</td>\n",
       "      <td>1.9</td>\n",
       "      <td>2.2</td>\n",
       "      <td>5.5</td>\n",
       "      <td>0.50%</td>\n",
       "      <td>6.40%</td>\n",
       "      <td>11.00%</td>\n",
       "      <td>59.80%</td>\n",
       "      <td>11.00%</td>\n",
       "    </tr>\n",
       "  </tbody>\n",
       "</table>\n",
       "</div>"
      ],
      "text/plain": [
       "                PLAYER TEAM  AGE HEIGHT  WEIGHT COUNTRY DRAFT YEAR  \\\n",
       "150        Enes Kanter  BOS   28   6'10     250  Turkey       2011   \n",
       "312  Langston Galloway  DET   28    6'1     200     USA  Undrafted   \n",
       "472         Tony Snell  DET   28    6'6     213     USA       2013   \n",
       "\n",
       "    DRAFT ROUND DRAFT NUMBER  GP   PTS  REB  AST  NETRTG   OREB%   DREB%  \\\n",
       "150           1            3  51   8.2  7.7  1.0     8.3  15.00%  26.60%   \n",
       "312   Undrafted    Undrafted  66  10.3  2.3  1.5     4.4   1.90%   6.80%   \n",
       "472           1           20  59   8.0  1.9  2.2     5.5   0.50%   6.40%   \n",
       "\n",
       "       USG%     TS%    AST%  \n",
       "150  18.50%  59.40%   8.20%  \n",
       "312  14.90%  58.40%   8.90%  \n",
       "472  11.00%  59.80%  11.00%  "
      ]
     },
     "execution_count": 150,
     "metadata": {},
     "output_type": "execute_result"
    }
   ],
   "source": [
    "raw_nba_data_height=pd.read_csv('Resources/season_data_height.csv')\n",
    "raw_nba_data_height.loc[raw_nba_data_height['PLAYER'].duplicated(), :]\n",
    "raw_nba_data_height[raw_nba_data_height.isna().any(axis=1)].drop(columns='COLLEGE')"
   ]
  },
  {
   "cell_type": "code",
   "execution_count": 80,
   "metadata": {},
   "outputs": [
    {
     "data": {
      "text/html": [
       "<div>\n",
       "<style scoped>\n",
       "    .dataframe tbody tr th:only-of-type {\n",
       "        vertical-align: middle;\n",
       "    }\n",
       "\n",
       "    .dataframe tbody tr th {\n",
       "        vertical-align: top;\n",
       "    }\n",
       "\n",
       "    .dataframe thead th {\n",
       "        text-align: right;\n",
       "    }\n",
       "</style>\n",
       "<table border=\"1\" class=\"dataframe\">\n",
       "  <thead>\n",
       "    <tr style=\"text-align: right;\">\n",
       "      <th></th>\n",
       "      <th>Rk</th>\n",
       "      <th>PLAYER</th>\n",
       "      <th>Unnamed: 2</th>\n",
       "      <th>Pos</th>\n",
       "      <th>Age</th>\n",
       "      <th>Tm</th>\n",
       "      <th>G</th>\n",
       "      <th>GS</th>\n",
       "      <th>MP</th>\n",
       "      <th>FG</th>\n",
       "      <th>...</th>\n",
       "      <th>DRB</th>\n",
       "      <th>TRB</th>\n",
       "      <th>AST</th>\n",
       "      <th>STL</th>\n",
       "      <th>BLK</th>\n",
       "      <th>TOV</th>\n",
       "      <th>PF</th>\n",
       "      <th>PTS</th>\n",
       "      <th>HEIGHT</th>\n",
       "      <th>HEIGHT W/O SHOES</th>\n",
       "    </tr>\n",
       "  </thead>\n",
       "  <tbody>\n",
       "    <tr>\n",
       "      <th>0</th>\n",
       "      <td>173</td>\n",
       "      <td>Aaron Gordon</td>\n",
       "      <td>gordoaa01</td>\n",
       "      <td>PF</td>\n",
       "      <td>24</td>\n",
       "      <td>ORL</td>\n",
       "      <td>58</td>\n",
       "      <td>58</td>\n",
       "      <td>1914</td>\n",
       "      <td>314</td>\n",
       "      <td>...</td>\n",
       "      <td>338</td>\n",
       "      <td>441</td>\n",
       "      <td>215</td>\n",
       "      <td>50</td>\n",
       "      <td>36</td>\n",
       "      <td>94</td>\n",
       "      <td>116</td>\n",
       "      <td>833</td>\n",
       "      <td>6' 7.5''</td>\n",
       "      <td>6' 7.5''</td>\n",
       "    </tr>\n",
       "    <tr>\n",
       "      <th>1</th>\n",
       "      <td>216</td>\n",
       "      <td>Aaron Holiday</td>\n",
       "      <td>holidaa01</td>\n",
       "      <td>PG</td>\n",
       "      <td>23</td>\n",
       "      <td>IND</td>\n",
       "      <td>58</td>\n",
       "      <td>26</td>\n",
       "      <td>1368</td>\n",
       "      <td>202</td>\n",
       "      <td>...</td>\n",
       "      <td>111</td>\n",
       "      <td>132</td>\n",
       "      <td>193</td>\n",
       "      <td>45</td>\n",
       "      <td>13</td>\n",
       "      <td>75</td>\n",
       "      <td>102</td>\n",
       "      <td>546</td>\n",
       "      <td>6' 0.75''</td>\n",
       "      <td>5' 11.75''</td>\n",
       "    </tr>\n",
       "    <tr>\n",
       "      <th>2</th>\n",
       "      <td>429</td>\n",
       "      <td>Admiral Schofield</td>\n",
       "      <td>schofad01</td>\n",
       "      <td>SF</td>\n",
       "      <td>22</td>\n",
       "      <td>WAS</td>\n",
       "      <td>27</td>\n",
       "      <td>2</td>\n",
       "      <td>293</td>\n",
       "      <td>30</td>\n",
       "      <td>...</td>\n",
       "      <td>28</td>\n",
       "      <td>34</td>\n",
       "      <td>14</td>\n",
       "      <td>8</td>\n",
       "      <td>3</td>\n",
       "      <td>7</td>\n",
       "      <td>41</td>\n",
       "      <td>83</td>\n",
       "      <td>6' 0.75''</td>\n",
       "      <td>6' 4''</td>\n",
       "    </tr>\n",
       "    <tr>\n",
       "      <th>3</th>\n",
       "      <td>222</td>\n",
       "      <td>Al Horford</td>\n",
       "      <td>horfoal01</td>\n",
       "      <td>C</td>\n",
       "      <td>33</td>\n",
       "      <td>PHI</td>\n",
       "      <td>60</td>\n",
       "      <td>57</td>\n",
       "      <td>1848</td>\n",
       "      <td>289</td>\n",
       "      <td>...</td>\n",
       "      <td>320</td>\n",
       "      <td>412</td>\n",
       "      <td>244</td>\n",
       "      <td>52</td>\n",
       "      <td>55</td>\n",
       "      <td>65</td>\n",
       "      <td>128</td>\n",
       "      <td>722</td>\n",
       "      <td>6' 7.5''</td>\n",
       "      <td>6' 8''</td>\n",
       "    </tr>\n",
       "    <tr>\n",
       "      <th>4</th>\n",
       "      <td>77</td>\n",
       "      <td>Alec Burks</td>\n",
       "      <td>burksal01</td>\n",
       "      <td>SG</td>\n",
       "      <td>28</td>\n",
       "      <td>TOT</td>\n",
       "      <td>59</td>\n",
       "      <td>18</td>\n",
       "      <td>1612</td>\n",
       "      <td>283</td>\n",
       "      <td>...</td>\n",
       "      <td>219</td>\n",
       "      <td>262</td>\n",
       "      <td>171</td>\n",
       "      <td>58</td>\n",
       "      <td>17</td>\n",
       "      <td>85</td>\n",
       "      <td>120</td>\n",
       "      <td>891</td>\n",
       "      <td>7' 0''</td>\n",
       "      <td>6' 5''</td>\n",
       "    </tr>\n",
       "    <tr>\n",
       "      <th>...</th>\n",
       "      <td>...</td>\n",
       "      <td>...</td>\n",
       "      <td>...</td>\n",
       "      <td>...</td>\n",
       "      <td>...</td>\n",
       "      <td>...</td>\n",
       "      <td>...</td>\n",
       "      <td>...</td>\n",
       "      <td>...</td>\n",
       "      <td>...</td>\n",
       "      <td>...</td>\n",
       "      <td>...</td>\n",
       "      <td>...</td>\n",
       "      <td>...</td>\n",
       "      <td>...</td>\n",
       "      <td>...</td>\n",
       "      <td>...</td>\n",
       "      <td>...</td>\n",
       "      <td>...</td>\n",
       "      <td>...</td>\n",
       "      <td>...</td>\n",
       "    </tr>\n",
       "    <tr>\n",
       "      <th>301</th>\n",
       "      <td>90</td>\n",
       "      <td>Willie Cauley-Stein</td>\n",
       "      <td>caulewi01</td>\n",
       "      <td>C</td>\n",
       "      <td>26</td>\n",
       "      <td>TOT</td>\n",
       "      <td>54</td>\n",
       "      <td>39</td>\n",
       "      <td>1097</td>\n",
       "      <td>175</td>\n",
       "      <td>...</td>\n",
       "      <td>231</td>\n",
       "      <td>315</td>\n",
       "      <td>70</td>\n",
       "      <td>49</td>\n",
       "      <td>61</td>\n",
       "      <td>40</td>\n",
       "      <td>121</td>\n",
       "      <td>390</td>\n",
       "      <td>6' 0.5''</td>\n",
       "      <td>6' 11.25''</td>\n",
       "    </tr>\n",
       "    <tr>\n",
       "      <th>302</th>\n",
       "      <td>105</td>\n",
       "      <td>Zach Collins</td>\n",
       "      <td>colliza01</td>\n",
       "      <td>PF</td>\n",
       "      <td>22</td>\n",
       "      <td>POR</td>\n",
       "      <td>3</td>\n",
       "      <td>3</td>\n",
       "      <td>86</td>\n",
       "      <td>9</td>\n",
       "      <td>...</td>\n",
       "      <td>8</td>\n",
       "      <td>12</td>\n",
       "      <td>6</td>\n",
       "      <td>0</td>\n",
       "      <td>2</td>\n",
       "      <td>6</td>\n",
       "      <td>11</td>\n",
       "      <td>27</td>\n",
       "      <td>6' 11.5''</td>\n",
       "      <td>6' 10.25''</td>\n",
       "    </tr>\n",
       "    <tr>\n",
       "      <th>303</th>\n",
       "      <td>280</td>\n",
       "      <td>Zach LaVine</td>\n",
       "      <td>lavinza01</td>\n",
       "      <td>SG</td>\n",
       "      <td>24</td>\n",
       "      <td>CHI</td>\n",
       "      <td>60</td>\n",
       "      <td>60</td>\n",
       "      <td>2085</td>\n",
       "      <td>539</td>\n",
       "      <td>...</td>\n",
       "      <td>248</td>\n",
       "      <td>289</td>\n",
       "      <td>254</td>\n",
       "      <td>88</td>\n",
       "      <td>28</td>\n",
       "      <td>206</td>\n",
       "      <td>131</td>\n",
       "      <td>1530</td>\n",
       "      <td>6' 4''</td>\n",
       "      <td>6' 4.5''</td>\n",
       "    </tr>\n",
       "    <tr>\n",
       "      <th>304</th>\n",
       "      <td>445</td>\n",
       "      <td>Zhaire Smith</td>\n",
       "      <td>smithzh01</td>\n",
       "      <td>SG</td>\n",
       "      <td>20</td>\n",
       "      <td>PHI</td>\n",
       "      <td>7</td>\n",
       "      <td>0</td>\n",
       "      <td>32</td>\n",
       "      <td>3</td>\n",
       "      <td>...</td>\n",
       "      <td>2</td>\n",
       "      <td>2</td>\n",
       "      <td>2</td>\n",
       "      <td>3</td>\n",
       "      <td>0</td>\n",
       "      <td>2</td>\n",
       "      <td>4</td>\n",
       "      <td>8</td>\n",
       "      <td>6' 5.5''</td>\n",
       "      <td>6' 2.75''</td>\n",
       "    </tr>\n",
       "    <tr>\n",
       "      <th>305</th>\n",
       "      <td>504</td>\n",
       "      <td>Zion Williamson</td>\n",
       "      <td>willizi01</td>\n",
       "      <td>PF</td>\n",
       "      <td>19</td>\n",
       "      <td>NOP</td>\n",
       "      <td>19</td>\n",
       "      <td>19</td>\n",
       "      <td>565</td>\n",
       "      <td>172</td>\n",
       "      <td>...</td>\n",
       "      <td>74</td>\n",
       "      <td>129</td>\n",
       "      <td>41</td>\n",
       "      <td>16</td>\n",
       "      <td>9</td>\n",
       "      <td>51</td>\n",
       "      <td>32</td>\n",
       "      <td>448</td>\n",
       "      <td>6' 0.25''</td>\n",
       "      <td>NaN</td>\n",
       "    </tr>\n",
       "  </tbody>\n",
       "</table>\n",
       "<p>306 rows × 33 columns</p>\n",
       "</div>"
      ],
      "text/plain": [
       "      Rk               PLAYER Unnamed: 2 Pos  Age   Tm   G  GS    MP   FG  \\\n",
       "0    173         Aaron Gordon  gordoaa01  PF   24  ORL  58  58  1914  314   \n",
       "1    216        Aaron Holiday  holidaa01  PG   23  IND  58  26  1368  202   \n",
       "2    429    Admiral Schofield  schofad01  SF   22  WAS  27   2   293   30   \n",
       "3    222           Al Horford  horfoal01   C   33  PHI  60  57  1848  289   \n",
       "4     77           Alec Burks  burksal01  SG   28  TOT  59  18  1612  283   \n",
       "..   ...                  ...        ...  ..  ...  ...  ..  ..   ...  ...   \n",
       "301   90  Willie Cauley-Stein  caulewi01   C   26  TOT  54  39  1097  175   \n",
       "302  105         Zach Collins  colliza01  PF   22  POR   3   3    86    9   \n",
       "303  280          Zach LaVine  lavinza01  SG   24  CHI  60  60  2085  539   \n",
       "304  445         Zhaire Smith  smithzh01  SG   20  PHI   7   0    32    3   \n",
       "305  504      Zion Williamson  willizi01  PF   19  NOP  19  19   565  172   \n",
       "\n",
       "     ...  DRB  TRB  AST  STL  BLK  TOV   PF   PTS     HEIGHT  HEIGHT W/O SHOES  \n",
       "0    ...  338  441  215   50   36   94  116   833   6' 7.5''          6' 7.5''  \n",
       "1    ...  111  132  193   45   13   75  102   546  6' 0.75''        5' 11.75''  \n",
       "2    ...   28   34   14    8    3    7   41    83  6' 0.75''            6' 4''  \n",
       "3    ...  320  412  244   52   55   65  128   722   6' 7.5''            6' 8''  \n",
       "4    ...  219  262  171   58   17   85  120   891     7' 0''            6' 5''  \n",
       "..   ...  ...  ...  ...  ...  ...  ...  ...   ...        ...               ...  \n",
       "301  ...  231  315   70   49   61   40  121   390   6' 0.5''        6' 11.25''  \n",
       "302  ...    8   12    6    0    2    6   11    27  6' 11.5''        6' 10.25''  \n",
       "303  ...  248  289  254   88   28  206  131  1530     6' 4''          6' 4.5''  \n",
       "304  ...    2    2    2    3    0    2    4     8   6' 5.5''         6' 2.75''  \n",
       "305  ...   74  129   41   16    9   51   32   448  6' 0.25''               NaN  \n",
       "\n",
       "[306 rows x 33 columns]"
      ]
     },
     "execution_count": 80,
     "metadata": {},
     "output_type": "execute_result"
    }
   ],
   "source": [
    "#Previous merge check\n",
    "dropped_nba_data.merge(dropped_combine_data[['PLAYER','HEIGHT\\xa0W/O\\xa0SHOES']])"
   ]
  },
  {
   "cell_type": "code",
   "execution_count": 181,
   "metadata": {},
   "outputs": [
    {
     "data": {
      "text/html": [
       "<div>\n",
       "<style scoped>\n",
       "    .dataframe tbody tr th:only-of-type {\n",
       "        vertical-align: middle;\n",
       "    }\n",
       "\n",
       "    .dataframe tbody tr th {\n",
       "        vertical-align: top;\n",
       "    }\n",
       "\n",
       "    .dataframe thead th {\n",
       "        text-align: right;\n",
       "    }\n",
       "</style>\n",
       "<table border=\"1\" class=\"dataframe\">\n",
       "  <thead>\n",
       "    <tr style=\"text-align: right;\">\n",
       "      <th></th>\n",
       "      <th>HEIGHT W/O SHOES</th>\n",
       "      <th>BLK</th>\n",
       "      <th>FT%</th>\n",
       "      <th>2P%</th>\n",
       "      <th>3P%</th>\n",
       "      <th>FTA</th>\n",
       "      <th>2PA</th>\n",
       "      <th>3PA</th>\n",
       "    </tr>\n",
       "    <tr>\n",
       "      <th>POS</th>\n",
       "      <th></th>\n",
       "      <th></th>\n",
       "      <th></th>\n",
       "      <th></th>\n",
       "      <th></th>\n",
       "      <th></th>\n",
       "      <th></th>\n",
       "      <th></th>\n",
       "    </tr>\n",
       "  </thead>\n",
       "  <tbody>\n",
       "    <tr>\n",
       "      <th>C</th>\n",
       "      <td>82.208333</td>\n",
       "      <td>61.833333</td>\n",
       "      <td>0.696000</td>\n",
       "      <td>0.568500</td>\n",
       "      <td>0.261333</td>\n",
       "      <td>101.833333</td>\n",
       "      <td>275.166667</td>\n",
       "      <td>120.666667</td>\n",
       "    </tr>\n",
       "    <tr>\n",
       "      <th>C-PF</th>\n",
       "      <td>82.600000</td>\n",
       "      <td>36.600000</td>\n",
       "      <td>0.747400</td>\n",
       "      <td>0.571000</td>\n",
       "      <td>0.325000</td>\n",
       "      <td>103.000000</td>\n",
       "      <td>211.800000</td>\n",
       "      <td>120.600000</td>\n",
       "    </tr>\n",
       "    <tr>\n",
       "      <th>PF</th>\n",
       "      <td>79.970588</td>\n",
       "      <td>29.382353</td>\n",
       "      <td>0.730706</td>\n",
       "      <td>0.534353</td>\n",
       "      <td>0.309971</td>\n",
       "      <td>106.794118</td>\n",
       "      <td>258.852941</td>\n",
       "      <td>129.941176</td>\n",
       "    </tr>\n",
       "    <tr>\n",
       "      <th>PF-C</th>\n",
       "      <td>81.500000</td>\n",
       "      <td>59.200000</td>\n",
       "      <td>0.811200</td>\n",
       "      <td>0.541000</td>\n",
       "      <td>0.390800</td>\n",
       "      <td>183.400000</td>\n",
       "      <td>401.200000</td>\n",
       "      <td>140.000000</td>\n",
       "    </tr>\n",
       "    <tr>\n",
       "      <th>PF-SF</th>\n",
       "      <td>78.500000</td>\n",
       "      <td>22.500000</td>\n",
       "      <td>0.779750</td>\n",
       "      <td>0.496750</td>\n",
       "      <td>0.327250</td>\n",
       "      <td>95.500000</td>\n",
       "      <td>186.250000</td>\n",
       "      <td>156.000000</td>\n",
       "    </tr>\n",
       "    <tr>\n",
       "      <th>PG</th>\n",
       "      <td>73.477273</td>\n",
       "      <td>13.340909</td>\n",
       "      <td>0.799409</td>\n",
       "      <td>0.483205</td>\n",
       "      <td>0.345091</td>\n",
       "      <td>137.704545</td>\n",
       "      <td>316.704545</td>\n",
       "      <td>199.613636</td>\n",
       "    </tr>\n",
       "    <tr>\n",
       "      <th>PG-SG</th>\n",
       "      <td>75.000000</td>\n",
       "      <td>18.000000</td>\n",
       "      <td>0.782000</td>\n",
       "      <td>0.516833</td>\n",
       "      <td>0.324500</td>\n",
       "      <td>105.500000</td>\n",
       "      <td>355.833333</td>\n",
       "      <td>233.333333</td>\n",
       "    </tr>\n",
       "    <tr>\n",
       "      <th>SF</th>\n",
       "      <td>78.322368</td>\n",
       "      <td>19.657895</td>\n",
       "      <td>0.749184</td>\n",
       "      <td>0.508158</td>\n",
       "      <td>0.339368</td>\n",
       "      <td>101.105263</td>\n",
       "      <td>255.578947</td>\n",
       "      <td>164.000000</td>\n",
       "    </tr>\n",
       "    <tr>\n",
       "      <th>SF-PF</th>\n",
       "      <td>78.687500</td>\n",
       "      <td>43.750000</td>\n",
       "      <td>0.781000</td>\n",
       "      <td>0.548000</td>\n",
       "      <td>0.347000</td>\n",
       "      <td>115.000000</td>\n",
       "      <td>347.000000</td>\n",
       "      <td>255.750000</td>\n",
       "    </tr>\n",
       "    <tr>\n",
       "      <th>SF-SG</th>\n",
       "      <td>78.375000</td>\n",
       "      <td>14.666667</td>\n",
       "      <td>0.823500</td>\n",
       "      <td>0.493167</td>\n",
       "      <td>0.389833</td>\n",
       "      <td>133.000000</td>\n",
       "      <td>308.500000</td>\n",
       "      <td>208.166667</td>\n",
       "    </tr>\n",
       "    <tr>\n",
       "      <th>SG</th>\n",
       "      <td>75.906977</td>\n",
       "      <td>13.534884</td>\n",
       "      <td>0.779000</td>\n",
       "      <td>0.494442</td>\n",
       "      <td>0.342209</td>\n",
       "      <td>116.813953</td>\n",
       "      <td>260.534884</td>\n",
       "      <td>223.441860</td>\n",
       "    </tr>\n",
       "    <tr>\n",
       "      <th>SG-PG</th>\n",
       "      <td>75.150000</td>\n",
       "      <td>12.000000</td>\n",
       "      <td>0.766000</td>\n",
       "      <td>0.492800</td>\n",
       "      <td>0.371400</td>\n",
       "      <td>75.200000</td>\n",
       "      <td>235.600000</td>\n",
       "      <td>165.200000</td>\n",
       "    </tr>\n",
       "    <tr>\n",
       "      <th>SG-SF</th>\n",
       "      <td>77.315789</td>\n",
       "      <td>13.631579</td>\n",
       "      <td>0.790579</td>\n",
       "      <td>0.481105</td>\n",
       "      <td>0.333368</td>\n",
       "      <td>93.210526</td>\n",
       "      <td>228.894737</td>\n",
       "      <td>184.105263</td>\n",
       "    </tr>\n",
       "  </tbody>\n",
       "</table>\n",
       "</div>"
      ],
      "text/plain": [
       "       HEIGHT W/O SHOES        BLK       FT%       2P%       3P%         FTA  \\\n",
       "POS                                                                            \n",
       "C             82.208333  61.833333  0.696000  0.568500  0.261333  101.833333   \n",
       "C-PF          82.600000  36.600000  0.747400  0.571000  0.325000  103.000000   \n",
       "PF            79.970588  29.382353  0.730706  0.534353  0.309971  106.794118   \n",
       "PF-C          81.500000  59.200000  0.811200  0.541000  0.390800  183.400000   \n",
       "PF-SF         78.500000  22.500000  0.779750  0.496750  0.327250   95.500000   \n",
       "PG            73.477273  13.340909  0.799409  0.483205  0.345091  137.704545   \n",
       "PG-SG         75.000000  18.000000  0.782000  0.516833  0.324500  105.500000   \n",
       "SF            78.322368  19.657895  0.749184  0.508158  0.339368  101.105263   \n",
       "SF-PF         78.687500  43.750000  0.781000  0.548000  0.347000  115.000000   \n",
       "SF-SG         78.375000  14.666667  0.823500  0.493167  0.389833  133.000000   \n",
       "SG            75.906977  13.534884  0.779000  0.494442  0.342209  116.813953   \n",
       "SG-PG         75.150000  12.000000  0.766000  0.492800  0.371400   75.200000   \n",
       "SG-SF         77.315789  13.631579  0.790579  0.481105  0.333368   93.210526   \n",
       "\n",
       "              2PA         3PA  \n",
       "POS                            \n",
       "C      275.166667  120.666667  \n",
       "C-PF   211.800000  120.600000  \n",
       "PF     258.852941  129.941176  \n",
       "PF-C   401.200000  140.000000  \n",
       "PF-SF  186.250000  156.000000  \n",
       "PG     316.704545  199.613636  \n",
       "PG-SG  355.833333  233.333333  \n",
       "SF     255.578947  164.000000  \n",
       "SF-PF  347.000000  255.750000  \n",
       "SF-SG  308.500000  208.166667  \n",
       "SG     260.534884  223.441860  \n",
       "SG-PG  235.600000  165.200000  \n",
       "SG-SF  228.894737  184.105263  "
      ]
     },
     "execution_count": 181,
     "metadata": {},
     "output_type": "execute_result"
    }
   ],
   "source": [
    "merged_data_df.groupby('POS')[['HEIGHT\\xa0W/O\\xa0SHOES', 'BLK', 'FT%', '2P%', '3P%', 'FTA', '2PA', '3PA']].mean()"
   ]
  },
  {
   "cell_type": "code",
   "execution_count": 23,
   "metadata": {},
   "outputs": [
    {
     "data": {
      "text/plain": [
       "92"
      ]
     },
     "execution_count": 23,
     "metadata": {},
     "output_type": "execute_result"
    }
   ],
   "source": [
    "merged_data_df.loc[merged_data_df['HEIGHT\\xa0W/O\\xa0SHOES'] > 77.75,:].count()['PLAYER']"
   ]
  },
  {
   "cell_type": "code",
   "execution_count": 24,
   "metadata": {},
   "outputs": [
    {
     "data": {
      "text/plain": [
       "HEIGHT W/O SHOES     79.845109\n",
       "FT%                   0.753446\n",
       "3PA                 164.934783\n",
       "3P%                   0.336054\n",
       "dtype: float64"
      ]
     },
     "execution_count": 24,
     "metadata": {},
     "output_type": "execute_result"
    }
   ],
   "source": [
    "#Traditional Big men players are not as common and are mainly used to stretch the floor \n",
    "#rather than score points by posting up near the basket\n",
    "\n",
    "merged_data_df.loc[merged_data_df['HEIGHT\\xa0W/O\\xa0SHOES'] > 77.75,:][['PLAYER','HEIGHT\\xa0W/O\\xa0SHOES', 'FT%', '3PA', '3P%']].mean()"
   ]
  },
  {
   "cell_type": "code",
   "execution_count": 25,
   "metadata": {},
   "outputs": [
    {
     "data": {
      "text/plain": [
       "120"
      ]
     },
     "execution_count": 25,
     "metadata": {},
     "output_type": "execute_result"
    }
   ],
   "source": [
    "merged_data_df.loc[merged_data_df['HEIGHT\\xa0W/O\\xa0SHOES'] < 77.75,:].count()['PLAYER']"
   ]
  },
  {
   "cell_type": "code",
   "execution_count": 26,
   "metadata": {},
   "outputs": [
    {
     "data": {
      "text/plain": [
       "HEIGHT W/O SHOES     75.08125\n",
       "FT%                   0.78450\n",
       "3PA                 196.82500\n",
       "3P%                   0.33795\n",
       "dtype: float64"
      ]
     },
     "execution_count": 26,
     "metadata": {},
     "output_type": "execute_result"
    }
   ],
   "source": [
    "merged_data_df.loc[merged_data_df['HEIGHT\\xa0W/O\\xa0SHOES'] < 77.75,:][['HEIGHT\\xa0W/O\\xa0SHOES', 'FT%', '3PA', '3P%']].mean()"
   ]
  },
  {
   "cell_type": "code",
   "execution_count": 27,
   "metadata": {},
   "outputs": [
    {
     "data": {
      "text/plain": [
       "Pos\n",
       "C        79.00\n",
       "C-PF     79.00\n",
       "PF       76.50\n",
       "PF-SF    77.75\n",
       "PG       68.75\n",
       "SF       75.75\n",
       "SF-PF    79.00\n",
       "SG       70.75\n",
       "Name: HEIGHT W/O SHOES, dtype: float64"
      ]
     },
     "execution_count": 27,
     "metadata": {},
     "output_type": "execute_result"
    }
   ],
   "source": [
    "#Find the optimal height that people play for each of their positions\n",
    "merged_data_df.groupby('Pos')['HEIGHT\\xa0W/O\\xa0SHOES'].min()"
   ]
  },
  {
   "cell_type": "code",
   "execution_count": 28,
   "metadata": {},
   "outputs": [
    {
     "data": {
      "text/plain": [
       "HEIGHT W/O SHOES     77.500\n",
       "FT%                   1.000\n",
       "3PA                 769.000\n",
       "3P%                   0.541\n",
       "dtype: float64"
      ]
     },
     "execution_count": 28,
     "metadata": {},
     "output_type": "execute_result"
    }
   ],
   "source": [
    "merged_data_df.loc[merged_data_df['HEIGHT\\xa0W/O\\xa0SHOES'] < 77.75,:][['HEIGHT\\xa0W/O\\xa0SHOES', 'FT%', '3PA', '3P%']].max()"
   ]
  },
  {
   "cell_type": "code",
   "execution_count": 29,
   "metadata": {},
   "outputs": [
    {
     "data": {
      "text/plain": [
       "HEIGHT W/O SHOES     83.750\n",
       "FT%                   1.000\n",
       "3PA                 454.000\n",
       "3P%                   0.493\n",
       "dtype: float64"
      ]
     },
     "execution_count": 29,
     "metadata": {},
     "output_type": "execute_result"
    }
   ],
   "source": [
    "merged_data_df.loc[merged_data_df['HEIGHT\\xa0W/O\\xa0SHOES'] > 77.75,:][['HEIGHT\\xa0W/O\\xa0SHOES', 'FT%', '3PA', '3P%']].max()"
   ]
  },
  {
   "cell_type": "code",
   "execution_count": 187,
   "metadata": {},
   "outputs": [],
   "source": [
    "#Traditional Big men players are not as common and are mainly used to stretch the floor \n",
    "#rather than score points by posting up near the basket\n",
    "tall_avg_ser=merged_data_df.loc[merged_data_df['HEIGHT\\xa0W/O\\xa0SHOES'] >= 77.75,:][['FTA','FT%','2PA','2P%','3PA', '3P%']].mean()\n",
    "tall_count=merged_data_df.loc[merged_data_df['HEIGHT\\xa0W/O\\xa0SHOES'] >= 77.75,:].count()['PLAYER']\n",
    "short_avg_ser=merged_data_df.loc[merged_data_df['HEIGHT\\xa0W/O\\xa0SHOES'] < 77.75,:][['FTA','FT%','2PA','2P%','3PA', '3P%']].mean()\n",
    "short_count=merged_data_df.loc[merged_data_df['HEIGHT\\xa0W/O\\xa0SHOES'] < 77.75,:].count()['PLAYER']"
   ]
  },
  {
   "cell_type": "code",
   "execution_count": 183,
   "metadata": {},
   "outputs": [
    {
     "name": "stdout",
     "output_type": "stream",
     "text": [
      "\n",
      "Number of Tall Players: 99\n",
      "------------------------------------\n",
      "FTA    112.393939\n",
      "FT%      0.752929\n",
      "2PA    272.444444\n",
      "2P%      0.525717\n",
      "3PA    162.313131\n",
      "3P%      0.334354\n",
      "dtype: float64\n",
      "\n",
      "Number of Short Players: 120\n",
      "----------------------------------\n",
      "FTA    115.758333\n",
      "FT%      0.784500\n",
      "2PA    275.341667\n",
      "2P%      0.489742\n",
      "3PA    196.825000\n",
      "3P%      0.337950\n",
      "dtype: float64\n"
     ]
    }
   ],
   "source": [
    "print(f\"\"\"\n",
    "Number of Tall Players: {tall_count}\n",
    "------------------------------------\n",
    "{tall_avg_ser}\"\"\")\n",
    "print(f\"\"\"\n",
    "Number of Short Players: {short_count}\n",
    "----------------------------------\n",
    "{short_avg_ser}\"\"\")"
   ]
  },
  {
   "cell_type": "code",
   "execution_count": 200,
   "metadata": {},
   "outputs": [
    {
     "data": {
      "image/png": "[encoded data removed]",
      "text/plain": [
       "<Figure size 432x288 with 1 Axes>"
      ]
     },
     "metadata": {
      "needs_background": "light"
     },
     "output_type": "display_data"
    }
   ],
   "source": [
    "N = 3\n",
    "tall_players_stats = (112.393939, 272.444444, 162.313131)\n",
    "short_players_stats = (115.758333, 275.341667, 196.825000)\n",
    "\n",
    "ind = np.arange(N) \n",
    "width = 0.30\n",
    "\n",
    "plt.bar(ind, tall_players_stats, width, label='Tall')\n",
    "plt.bar(ind + width, short_players_stats, width, label='Short')\n",
    "\n",
    "plt.ylabel('Attempts')\n",
    "plt.title('Attempts')\n",
    "\n",
    "plt.xticks(ind + width / 2, ('Free Throws', '2 Points', '3 Points'))\n",
    "plt.legend(loc='best')\n",
    "plt.show()"
   ]
  },
  {
   "cell_type": "code",
   "execution_count": 199,
   "metadata": {},
   "outputs": [
    {
     "data": {
      "image/png": "[encoded data removed]",
      "text/plain": [
       "<Figure size 432x288 with 1 Axes>"
      ]
     },
     "metadata": {
      "needs_background": "light"
     },
     "output_type": "display_data"
    }
   ],
   "source": [
    "N = 3\n",
    "tall_players_stats = (0.752929, 0.525717, 0.334354)\n",
    "short_players_stats = (0.784500, 0.489742, 0.337950)\n",
    "\n",
    "ind = np.arange(N) \n",
    "width = 0.30\n",
    "\n",
    "plt.bar(ind, tall_players_stats, width, label='Tall')\n",
    "plt.bar(ind + width, short_players_stats, width, label='Short')\n",
    "\n",
    "plt.ylabel('Percentage')\n",
    "plt.title('Percentages')\n",
    "\n",
    "plt.xticks(ind + width / 2, ('Free Throws', '2 Points', '3 Points'))\n",
    "plt.legend(loc='best')\n",
    "plt.show()"
   ]
  },
  {
   "cell_type": "code",
   "execution_count": 184,
   "metadata": {},
   "outputs": [],
   "source": [
    "(slope, intercept, rvalue, pvalue, stderr) = linregress(merged_data_df['3PA'], merged_data_df['3P%'] )\n",
    "regress_values = np.array(merged_data_df['3PA']) * slope + intercept\n",
    "line_eq = \"y = \" + str(round(slope,2)) + \"x + \" + str(round(intercept,2))"
   ]
  },
  {
   "cell_type": "code",
   "execution_count": 185,
   "metadata": {},
   "outputs": [
    {
     "data": {
      "image/png": "[encoded data removed]",
      "text/plain": [
       "<Figure size 432x288 with 1 Axes>"
      ]
     },
     "metadata": {
      "needs_background": "light"
     },
     "output_type": "display_data"
    },
    {
     "name": "stdout",
     "output_type": "stream",
     "text": [
      "The line of best fit is : y = 0.0x + 0.29\n",
      "The correlation between both factors is 0.42\n"
     ]
    }
   ],
   "source": [
    "plt.plot(merged_data_df['3PA'],regress_values,color='red')\n",
    "plt.scatter(x=merged_data_df['3PA'], y=merged_data_df['3P%'])\n",
    "plt.ylabel('3 Point (%)')\n",
    "plt.xlabel('3 Point Attempts ')\n",
    "plt.title(\"3 Point Attempts vs 3P(%)\")\n",
    "plt.show()\n",
    "print(f\"The line of best fit is : {line_eq}\")\n",
    "correlation = st.pearsonr(merged_data_df['3PA'],merged_data_df['3P%'])\n",
    "print(f\"The correlation between both factors is {round(correlation[0],2)}\")"
   ]
  },
  {
   "cell_type": "code",
   "execution_count": 186,
   "metadata": {},
   "outputs": [
    {
     "name": "stdout",
     "output_type": "stream",
     "text": [
      "The correlation between both factors is -0.04\n",
      "The correlation between both factors is 0.37\n",
      "The correlation between both factors is 0.42\n",
      "The correlation between both factors is -0.03\n",
      "The correlation between both factors is 0.11\n",
      "The correlation between both factors is 0.05\n",
      "The correlation between both factors is 0.2\n"
     ]
    }
   ],
   "source": [
    "## Low\n",
    "correlation = st.pearsonr(merged_data_df['3P%'],merged_data_df['2P%'])\n",
    "print(f\"The correlation between both factors is {round(correlation[0],2)}\")\n",
    "## High\n",
    "correlation = st.pearsonr(merged_data_df['3PA'],merged_data_df['FT%'])\n",
    "print(f\"The correlation between both factors is {round(correlation[0],2)}\")\n",
    "correlation = st.pearsonr(merged_data_df['3PA'],merged_data_df['3P%'])\n",
    "print(f\"The correlation between both factors is {round(correlation[0],2)}\")\n",
    "## Low\n",
    "correlation = st.pearsonr(merged_data_df['3PA'],merged_data_df['2P%'])\n",
    "print(f\"The correlation between both factors is {round(correlation[0],2)}\")\n",
    "correlation = st.pearsonr(merged_data_df['2PA'],merged_data_df['2P%'])\n",
    "print(f\"The correlation between both factors is {round(correlation[0],2)}\")\n",
    "correlation = st.pearsonr(merged_data_df['2PA'],merged_data_df['3P%'])\n",
    "print(f\"The correlation between both factors is {round(correlation[0],2)}\")\n",
    "correlation = st.pearsonr(merged_data_df['2PA'],merged_data_df['FT%'])\n",
    "print(f\"The correlation between both factors is {round(correlation[0],2)}\")"
   ]
  },
  {
   "cell_type": "code",
   "execution_count": null,
   "metadata": {},
   "outputs": [],
   "source": []
  }
 ],
 "metadata": {
  "kernelspec": {
   "display_name": "Python 3",
   "language": "python",
   "name": "python3"
  },
  "language_info": {
   "codemirror_mode": {
    "name": "ipython",
    "version": 3
   },
   "file_extension": ".py",
   "mimetype": "text/x-python",
   "name": "python",
   "nbconvert_exporter": "python",
   "pygments_lexer": "ipython3",
   "version": "3.7.7"
  }
 },
 "nbformat": 4,
 "nbformat_minor": 4
}
