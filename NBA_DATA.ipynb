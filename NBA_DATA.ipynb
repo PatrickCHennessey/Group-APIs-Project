{
 "cells": [
  {
   "cell_type": "code",
   "execution_count": 1,
   "metadata": {},
   "outputs": [],
   "source": [
    "import numpy as np\n",
    "import pandas as pd"
   ]
  },
  {
   "cell_type": "markdown",
   "metadata": {},
   "source": [
    "### Read In CSVs"
   ]
  },
  {
   "cell_type": "code",
   "execution_count": 2,
   "metadata": {},
   "outputs": [],
   "source": [
    "raw_combine_data=pd.read_csv('Resources/raw_combine_data.csv')\n",
    "raw_nba_data=pd.read_csv('Resources/raw_nba_data.csv')"
   ]
  },
  {
   "cell_type": "markdown",
   "metadata": {},
   "source": [
    "### Finding Duplicates"
   ]
  },
  {
   "cell_type": "code",
   "execution_count": 3,
   "metadata": {},
   "outputs": [],
   "source": [
    "nba_duplicates=raw_nba_data[raw_nba_data.duplicated(['PLAYER'])]\n",
    "combine_duplicates=raw_combine_data[raw_combine_data.duplicated(['PLAYER'])]"
   ]
  },
  {
   "cell_type": "markdown",
   "metadata": {},
   "source": [
    "### Drop Duplicates from Dataframes"
   ]
  },
  {
   "cell_type": "code",
   "execution_count": 4,
   "metadata": {},
   "outputs": [],
   "source": [
    "dropped_combine_data=raw_combine_data.drop_duplicates(subset='PLAYER',keep='first')\n",
    "dropped_nba_data=raw_nba_data.drop_duplicates(subset='PLAYER',keep='first')"
   ]
  },
  {
   "cell_type": "markdown",
   "metadata": {},
   "source": [
    "### Merge DataFrames"
   ]
  },
  {
   "cell_type": "code",
   "execution_count": 5,
   "metadata": {},
   "outputs": [],
   "source": [
    "merged_data_df=dropped_combine_data.merge(dropped_nba_data, on='PLAYER')"
   ]
  },
  {
   "cell_type": "markdown",
   "metadata": {},
   "source": [
    "### Drop Rows w/ Missing Wingspan Data"
   ]
  },
  {
   "cell_type": "code",
   "execution_count": 6,
   "metadata": {},
   "outputs": [],
   "source": [
    "merged_data_df=merged_data_df.dropna(subset=['WINGSPAN'])"
   ]
  },
  {
   "cell_type": "markdown",
   "metadata": {},
   "source": [
    "### Export as CSV"
   ]
  },
  {
   "cell_type": "code",
   "execution_count": 7,
   "metadata": {},
   "outputs": [],
   "source": [
    "merged_data_df.to_csv(\"Resources/merged_data.csv\")"
   ]
  },
  {
   "cell_type": "code",
   "execution_count": null,
   "metadata": {},
   "outputs": [],
   "source": [
    "wingspan = []\n",
    "wingspan_convert = []\n",
    "\n",
    "wingspan = merged_data_df['WINGSPAN']\n",
    "height_wo_shoes = merged_data_df['Height\\xa0W/O\\xa0SHOES']\n",
    "wingspan_list = wingspan.tolist()\n",
    "for wingspan in wingspan_list:\n",
    "    wingspan_cleaned = wingspan.strip(\"'\").split(\"'\")\n",
    "    wingspan_convert.append((int(wingspan_cleaned[0])*12)+"
   ]
  }
 ],
 "metadata": {
  "kernelspec": {
   "display_name": "Python 3",
   "language": "python",
   "name": "python3"
  },
  "language_info": {
   "codemirror_mode": {
    "name": "ipython",
    "version": 3
   },
   "file_extension": ".py",
   "mimetype": "text/x-python",
   "name": "python",
   "nbconvert_exporter": "python",
   "pygments_lexer": "ipython3",
   "version": "3.7.6"
  }
 },
 "nbformat": 4,
 "nbformat_minor": 4
}
